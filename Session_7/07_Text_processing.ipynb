{
 "cells": [
  {
   "cell_type": "markdown",
   "metadata": {
    "id": "_a2hajcA99-K"
   },
   "source": [
    "![BTS](https://github.com/vfp1/bts-dsf-2020/blob/main/Logo-BTS.jpg?raw=1)\n",
    "\n",
    "# Session /: Text processing - Introduction to Spacy\n",
    "\n",
    "### Victor F. Pajuelo Madrigal <victor.pajuelo@bts.tech> - Data Science Foundations (2020-11-17)\n",
    "\n",
    "Open this notebook in Google Colaboratory: [![Open in Colab](https://colab.research.google.com/assets/colab-badge.svg)](https://colab.research.google.com/github/vfp1/bts-dsf-2020/blob/main/Session_7/07_Text_processing.ipynb)\n",
    "\n",
    "**Resources:**\n",
    "* Spacy website"
   ]
  },
  {
   "cell_type": "markdown",
   "metadata": {
    "id": "DTIcPknwQz5z"
   },
   "source": [
    "# Spacy installation\n",
    "\n",
    "```\n",
    "$ conda activate bts36\n",
    "$ conda install -c conda-forge spacy\n",
    "```\n",
    "\n"
   ]
  },
  {
   "cell_type": "markdown",
   "metadata": {
    "id": "Oabpc-xuVxAQ"
   },
   "source": [
    "# Spacy introduction"
   ]
  },
  {
   "cell_type": "markdown",
   "metadata": {
    "id": "2QHBivImfOvp"
   },
   "source": [
    "## Import language models \n",
    "\n",
    "\n",
    "\n",
    "```\n",
    "$ python -m spacy download en_core_web_sm\n",
    "$ python -m spacy download en\n",
    "```\n",
    "\n"
   ]
  },
  {
   "cell_type": "code",
   "execution_count": 8,
   "metadata": {},
   "outputs": [],
   "source": [
    "#conda install -c conda-forge spacy"
   ]
  },
  {
   "cell_type": "code",
   "execution_count": 9,
   "metadata": {
    "colab": {
     "base_uri": "https://localhost:8080/"
    },
    "id": "nPv81PAORYB7",
    "outputId": "d0c8c35a-642b-4ee6-f482-43bf0e5938ff"
   },
   "outputs": [
    {
     "name": "stdout",
     "output_type": "stream",
     "text": [
      "Requirement already satisfied: en_core_web_sm==2.3.1 from https://github.com/explosion/spacy-models/releases/download/en_core_web_sm-2.3.1/en_core_web_sm-2.3.1.tar.gz#egg=en_core_web_sm==2.3.1 in /opt/anaconda3/lib/python3.8/site-packages (2.3.1)\n",
      "Requirement already satisfied: spacy<2.4.0,>=2.3.0 in /opt/anaconda3/lib/python3.8/site-packages (from en_core_web_sm==2.3.1) (2.3.2)\n",
      "Requirement already satisfied: setuptools in /opt/anaconda3/lib/python3.8/site-packages (from spacy<2.4.0,>=2.3.0->en_core_web_sm==2.3.1) (50.3.1.post20201107)\n",
      "Requirement already satisfied: blis<0.5.0,>=0.4.0 in /opt/anaconda3/lib/python3.8/site-packages (from spacy<2.4.0,>=2.3.0->en_core_web_sm==2.3.1) (0.4.1)\n",
      "Requirement already satisfied: plac<1.2.0,>=0.9.6 in /opt/anaconda3/lib/python3.8/site-packages (from spacy<2.4.0,>=2.3.0->en_core_web_sm==2.3.1) (0.9.6)\n",
      "Requirement already satisfied: thinc==7.4.1 in /opt/anaconda3/lib/python3.8/site-packages (from spacy<2.4.0,>=2.3.0->en_core_web_sm==2.3.1) (7.4.1)\n",
      "Requirement already satisfied: cymem<2.1.0,>=2.0.2 in /opt/anaconda3/lib/python3.8/site-packages (from spacy<2.4.0,>=2.3.0->en_core_web_sm==2.3.1) (2.0.4)\n",
      "Requirement already satisfied: murmurhash<1.1.0,>=0.28.0 in /opt/anaconda3/lib/python3.8/site-packages (from spacy<2.4.0,>=2.3.0->en_core_web_sm==2.3.1) (1.0.2)\n",
      "Requirement already satisfied: srsly<1.1.0,>=1.0.2 in /opt/anaconda3/lib/python3.8/site-packages (from spacy<2.4.0,>=2.3.0->en_core_web_sm==2.3.1) (1.0.2)\n",
      "Requirement already satisfied: requests<3.0.0,>=2.13.0 in /opt/anaconda3/lib/python3.8/site-packages (from spacy<2.4.0,>=2.3.0->en_core_web_sm==2.3.1) (2.24.0)\n",
      "Requirement already satisfied: wasabi<1.1.0,>=0.4.0 in /opt/anaconda3/lib/python3.8/site-packages (from spacy<2.4.0,>=2.3.0->en_core_web_sm==2.3.1) (0.8.0)\n",
      "Requirement already satisfied: preshed<3.1.0,>=3.0.2 in /opt/anaconda3/lib/python3.8/site-packages (from spacy<2.4.0,>=2.3.0->en_core_web_sm==2.3.1) (3.0.2)\n",
      "Requirement already satisfied: tqdm<5.0.0,>=4.38.0 in /opt/anaconda3/lib/python3.8/site-packages (from spacy<2.4.0,>=2.3.0->en_core_web_sm==2.3.1) (4.51.0)\n",
      "Requirement already satisfied: numpy>=1.15.0 in /opt/anaconda3/lib/python3.8/site-packages (from spacy<2.4.0,>=2.3.0->en_core_web_sm==2.3.1) (1.19.2)\n",
      "Requirement already satisfied: catalogue<1.1.0,>=0.0.7 in /opt/anaconda3/lib/python3.8/site-packages (from spacy<2.4.0,>=2.3.0->en_core_web_sm==2.3.1) (1.0.0)\n",
      "Requirement already satisfied: urllib3!=1.25.0,!=1.25.1,<1.26,>=1.21.1 in /opt/anaconda3/lib/python3.8/site-packages (from requests<3.0.0,>=2.13.0->spacy<2.4.0,>=2.3.0->en_core_web_sm==2.3.1) (1.25.11)\n",
      "Requirement already satisfied: idna<3,>=2.5 in /opt/anaconda3/lib/python3.8/site-packages (from requests<3.0.0,>=2.13.0->spacy<2.4.0,>=2.3.0->en_core_web_sm==2.3.1) (2.10)\n",
      "Requirement already satisfied: certifi>=2017.4.17 in /opt/anaconda3/lib/python3.8/site-packages (from requests<3.0.0,>=2.13.0->spacy<2.4.0,>=2.3.0->en_core_web_sm==2.3.1) (2020.11.8)\n",
      "Requirement already satisfied: chardet<4,>=3.0.2 in /opt/anaconda3/lib/python3.8/site-packages (from requests<3.0.0,>=2.13.0->spacy<2.4.0,>=2.3.0->en_core_web_sm==2.3.1) (3.0.4)\n",
      "\u001b[38;5;2m✔ Download and installation successful\u001b[0m\n",
      "You can now load the model via spacy.load('en_core_web_sm')\n"
     ]
    }
   ],
   "source": [
    "!python -m spacy download en_core_web_sm"
   ]
  },
  {
   "cell_type": "code",
   "execution_count": 10,
   "metadata": {
    "colab": {
     "base_uri": "https://localhost:8080/"
    },
    "id": "8mQRg-8jfzDI",
    "outputId": "3d5d38cb-8111-4882-8bee-ca0ee4ca9530"
   },
   "outputs": [
    {
     "name": "stdout",
     "output_type": "stream",
     "text": [
      "Requirement already satisfied: en_core_web_sm==2.3.1 from https://github.com/explosion/spacy-models/releases/download/en_core_web_sm-2.3.1/en_core_web_sm-2.3.1.tar.gz#egg=en_core_web_sm==2.3.1 in /opt/anaconda3/lib/python3.8/site-packages (2.3.1)\n",
      "Requirement already satisfied: spacy<2.4.0,>=2.3.0 in /opt/anaconda3/lib/python3.8/site-packages (from en_core_web_sm==2.3.1) (2.3.2)\n",
      "Requirement already satisfied: wasabi<1.1.0,>=0.4.0 in /opt/anaconda3/lib/python3.8/site-packages (from spacy<2.4.0,>=2.3.0->en_core_web_sm==2.3.1) (0.8.0)\n",
      "Requirement already satisfied: catalogue<1.1.0,>=0.0.7 in /opt/anaconda3/lib/python3.8/site-packages (from spacy<2.4.0,>=2.3.0->en_core_web_sm==2.3.1) (1.0.0)\n",
      "Requirement already satisfied: preshed<3.1.0,>=3.0.2 in /opt/anaconda3/lib/python3.8/site-packages (from spacy<2.4.0,>=2.3.0->en_core_web_sm==2.3.1) (3.0.2)\n",
      "Requirement already satisfied: setuptools in /opt/anaconda3/lib/python3.8/site-packages (from spacy<2.4.0,>=2.3.0->en_core_web_sm==2.3.1) (50.3.1.post20201107)\n",
      "Requirement already satisfied: srsly<1.1.0,>=1.0.2 in /opt/anaconda3/lib/python3.8/site-packages (from spacy<2.4.0,>=2.3.0->en_core_web_sm==2.3.1) (1.0.2)\n",
      "Requirement already satisfied: requests<3.0.0,>=2.13.0 in /opt/anaconda3/lib/python3.8/site-packages (from spacy<2.4.0,>=2.3.0->en_core_web_sm==2.3.1) (2.24.0)\n",
      "Requirement already satisfied: tqdm<5.0.0,>=4.38.0 in /opt/anaconda3/lib/python3.8/site-packages (from spacy<2.4.0,>=2.3.0->en_core_web_sm==2.3.1) (4.51.0)\n",
      "Requirement already satisfied: thinc==7.4.1 in /opt/anaconda3/lib/python3.8/site-packages (from spacy<2.4.0,>=2.3.0->en_core_web_sm==2.3.1) (7.4.1)\n",
      "Requirement already satisfied: cymem<2.1.0,>=2.0.2 in /opt/anaconda3/lib/python3.8/site-packages (from spacy<2.4.0,>=2.3.0->en_core_web_sm==2.3.1) (2.0.4)\n",
      "Requirement already satisfied: plac<1.2.0,>=0.9.6 in /opt/anaconda3/lib/python3.8/site-packages (from spacy<2.4.0,>=2.3.0->en_core_web_sm==2.3.1) (0.9.6)\n",
      "Requirement already satisfied: murmurhash<1.1.0,>=0.28.0 in /opt/anaconda3/lib/python3.8/site-packages (from spacy<2.4.0,>=2.3.0->en_core_web_sm==2.3.1) (1.0.2)\n",
      "Requirement already satisfied: numpy>=1.15.0 in /opt/anaconda3/lib/python3.8/site-packages (from spacy<2.4.0,>=2.3.0->en_core_web_sm==2.3.1) (1.19.2)\n",
      "Requirement already satisfied: blis<0.5.0,>=0.4.0 in /opt/anaconda3/lib/python3.8/site-packages (from spacy<2.4.0,>=2.3.0->en_core_web_sm==2.3.1) (0.4.1)\n",
      "Requirement already satisfied: idna<3,>=2.5 in /opt/anaconda3/lib/python3.8/site-packages (from requests<3.0.0,>=2.13.0->spacy<2.4.0,>=2.3.0->en_core_web_sm==2.3.1) (2.10)\n",
      "Requirement already satisfied: certifi>=2017.4.17 in /opt/anaconda3/lib/python3.8/site-packages (from requests<3.0.0,>=2.13.0->spacy<2.4.0,>=2.3.0->en_core_web_sm==2.3.1) (2020.11.8)\n",
      "Requirement already satisfied: chardet<4,>=3.0.2 in /opt/anaconda3/lib/python3.8/site-packages (from requests<3.0.0,>=2.13.0->spacy<2.4.0,>=2.3.0->en_core_web_sm==2.3.1) (3.0.4)\n",
      "Requirement already satisfied: urllib3!=1.25.0,!=1.25.1,<1.26,>=1.21.1 in /opt/anaconda3/lib/python3.8/site-packages (from requests<3.0.0,>=2.13.0->spacy<2.4.0,>=2.3.0->en_core_web_sm==2.3.1) (1.25.11)\n",
      "\u001b[38;5;2m✔ Download and installation successful\u001b[0m\n",
      "You can now load the model via spacy.load('en_core_web_sm')\n",
      "\u001b[38;5;2m✔ Linking successful\u001b[0m\n",
      "/opt/anaconda3/lib/python3.8/site-packages/en_core_web_sm -->\n",
      "/opt/anaconda3/lib/python3.8/site-packages/spacy/data/en\n",
      "You can now load the model via spacy.load('en')\n"
     ]
    }
   ],
   "source": [
    "!python -m spacy download en"
   ]
  },
  {
   "cell_type": "markdown",
   "metadata": {
    "id": "UmwJHdwEU4uM"
   },
   "source": [
    "Once the model is downloaded and installed, we can load it as follows:"
   ]
  },
  {
   "cell_type": "code",
   "execution_count": 11,
   "metadata": {
    "id": "IuuFgOdRRWif"
   },
   "outputs": [],
   "source": [
    "import spacy\n",
    "nlp = spacy.load(\"en_core_web_sm\") #nlp = nature language processing"
   ]
  },
  {
   "cell_type": "markdown",
   "metadata": {
    "id": "oDZS9UkeY3Td"
   },
   "source": [
    "## Linguistic annotations\n",
    "\n",
    "spaCy's linguistic annotation types:\n",
    "\n",
    "*   Word types\n",
    "*   Parts of speech\n",
    "*   How words are related to each other\n",
    "\n"
   ]
  },
  {
   "cell_type": "markdown",
   "metadata": {
    "id": "b-H7rJT8WNrg"
   },
   "source": [
    "### Word and sentence tokenization"
   ]
  },
  {
   "cell_type": "code",
   "execution_count": 12,
   "metadata": {
    "id": "Nuob2h_df3mp"
   },
   "outputs": [],
   "source": [
    "import spacy\n",
    "nlp = spacy.load(\"en_core_web_sm\")"
   ]
  },
  {
   "cell_type": "code",
   "execution_count": 13,
   "metadata": {
    "id": "kNGRET97Wj9R"
   },
   "outputs": [],
   "source": [
    "text_sentence_1 = \"This is a class about text processing.\""
   ]
  },
  {
   "cell_type": "code",
   "execution_count": 14,
   "metadata": {
    "colab": {
     "base_uri": "https://localhost:8080/"
    },
    "id": "MX8sFJkkW1OJ",
    "outputId": "a2734bd3-c33d-4fe8-d6d0-7aeba2c3a797"
   },
   "outputs": [
    {
     "data": {
      "text/plain": [
       "spacy.tokens.doc.Doc"
      ]
     },
     "execution_count": 14,
     "metadata": {},
     "output_type": "execute_result"
    }
   ],
   "source": [
    "# We pass the sentence to the doc\n",
    "doc1 = nlp(text_sentence_1) #we need to pass our sentence to a doc which is a document for tokenizing it\n",
    "type(doc1)"
   ]
  },
  {
   "cell_type": "markdown",
   "metadata": {
    "id": "BX67YuReZgbC"
   },
   "source": [
    "[What is a **Doc**?](https://spacy.io/api/doc) It is a sequence of Token objects. Access sentences and named entities, export annotations to numpy arrays, losslessly serialize to compressed binary strings.\n",
    "\n",
    "And [what is a **Token**?](https://spacy.io/api/token) It is a word, punctuation symbol, whitespace, etcetera."
   ]
  },
  {
   "cell_type": "code",
   "execution_count": 15,
   "metadata": {
    "colab": {
     "base_uri": "https://localhost:8080/"
    },
    "id": "aLRjNrFIX87p",
    "outputId": "22120470-19cc-4a3e-b87a-f171b56d6e11"
   },
   "outputs": [
    {
     "name": "stdout",
     "output_type": "stream",
     "text": [
      "This\n",
      "is\n",
      "a\n",
      "class\n",
      "about\n",
      "text\n",
      "processing\n",
      ".\n"
     ]
    }
   ],
   "source": [
    "# Let's tokenize th sentence\n",
    "for token in doc1:\n",
    "    print(token)"
   ]
  },
  {
   "cell_type": "code",
   "execution_count": 16,
   "metadata": {
    "colab": {
     "base_uri": "https://localhost:8080/"
    },
    "id": "iHZ3mJkDbsHk",
    "outputId": "440bd0e4-5303-434a-f0c0-e4bccddd86d0"
   },
   "outputs": [
    {
     "data": {
      "text/plain": [
       "This"
      ]
     },
     "execution_count": 16,
     "metadata": {},
     "output_type": "execute_result"
    }
   ],
   "source": [
    "doc1[0]"
   ]
  },
  {
   "cell_type": "code",
   "execution_count": 17,
   "metadata": {
    "colab": {
     "base_uri": "https://localhost:8080/"
    },
    "id": "kCs2uD4ubz7h",
    "outputId": "4748eb9b-c7e9-4aa3-e6f2-5caa05b7792e"
   },
   "outputs": [
    {
     "data": {
      "text/plain": [
       "."
      ]
     },
     "execution_count": 17,
     "metadata": {},
     "output_type": "execute_result"
    }
   ],
   "source": [
    "doc1[-1]"
   ]
  },
  {
   "cell_type": "markdown",
   "metadata": {
    "id": "MwZLWEsWaill"
   },
   "source": [
    "#### Linguistic features/annotation\n",
    "spaCy does not only have a record the position as if we will be splitting the sentence. spaCy records the grammatical structure of the sentence. \n",
    "\n",
    "So after tokenization (splitting the sentence into the individual components), spaCy can do **Part-of-speech** (POS) tagging. This is done by using spaCy's statistical models to make predictions of what each token is. For instance, a word following \"the\" in the English is most likely a noun. And that's why we need language models.\n",
    "\n",
    "---\n",
    "\n",
    "We have the following features that we can get per token:\n",
    "\n",
    "*   **Text**: The original word text.\n",
    "*   **Lemma**: The base form of the word.\n",
    "*   **POS**: The simple part-of-speech tag.\n",
    "*   **Tag**: The detailed part-of-speech tag.\n",
    "*   **Dep**: Syntactic dependency, i.e. the relation between tokens.\n",
    "*   **Shape**: The word shape – capitalization, punctuation, digits.\n",
    "*   **is alpha**: Is the token an alphanumeric character?\n",
    "*   **is stop**: Is the token part of a stop list, i.e. the most common words of the language?\n",
    "\n",
    "\n",
    "\n"
   ]
  },
  {
   "cell_type": "code",
   "execution_count": 18,
   "metadata": {
    "colab": {
     "base_uri": "https://localhost:8080/"
    },
    "id": "jfW-ItssX_V3",
    "outputId": "dbc0e0f1-a85c-40c1-cf60-7f39eaf8bce2"
   },
   "outputs": [
    {
     "name": "stdout",
     "output_type": "stream",
     "text": [
      "The DET det\n",
      "coffee NOUN nsubj\n",
      "this DET det\n",
      "morning NOUN npadvmod\n",
      "costed VERB ROOT\n",
      "me PRON dative\n",
      "$ SYM nmod\n",
      "4 NUM dobj\n",
      ", PUNCT punct\n",
      "that DET nsubj\n",
      "is AUX relcl\n",
      "extremely ADV advmod\n",
      "expensive ADJ acomp\n",
      "! PUNCT punct\n"
     ]
    }
   ],
   "source": [
    "text_sentence_2 = \"The coffee this morning costed me $4, that is extremely expensive!\"\n",
    "doc2 = nlp(text_sentence_2)\n",
    "\n",
    "for token in doc2:\n",
    "    print(token.text, token.pos_, token.dep_)"
   ]
  },
  {
   "cell_type": "code",
   "execution_count": 19,
   "metadata": {
    "colab": {
     "base_uri": "https://localhost:8080/",
     "height": 35
    },
    "id": "KEthxKBmtMGD",
    "outputId": "323f8cdf-7e4c-4e41-df2d-0b297ec82a63"
   },
   "outputs": [
    {
     "data": {
      "text/plain": [
       "'noun phrase as adverbial modifier'"
      ]
     },
     "execution_count": 19,
     "metadata": {},
     "output_type": "execute_result"
    }
   ],
   "source": [
    "spacy.explain(\"npadvmod\")"
   ]
  },
  {
   "cell_type": "code",
   "execution_count": 20,
   "metadata": {
    "colab": {
     "base_uri": "https://localhost:8080/",
     "height": 483
    },
    "id": "4wRjlK2uh4pL",
    "outputId": "ee086b8c-e1c2-4899-995e-e5dd795af027"
   },
   "outputs": [
    {
     "data": {
      "text/html": [
       "<div>\n",
       "<style scoped>\n",
       "    .dataframe tbody tr th:only-of-type {\n",
       "        vertical-align: middle;\n",
       "    }\n",
       "\n",
       "    .dataframe tbody tr th {\n",
       "        vertical-align: top;\n",
       "    }\n",
       "\n",
       "    .dataframe thead th {\n",
       "        text-align: right;\n",
       "    }\n",
       "</style>\n",
       "<table border=\"1\" class=\"dataframe\">\n",
       "  <thead>\n",
       "    <tr style=\"text-align: right;\">\n",
       "      <th></th>\n",
       "      <th>TEXT</th>\n",
       "      <th>LEMMA</th>\n",
       "      <th>POS</th>\n",
       "      <th>TAG</th>\n",
       "      <th>DEP</th>\n",
       "      <th>SHAPE</th>\n",
       "      <th>ALPHA</th>\n",
       "      <th>STOP</th>\n",
       "    </tr>\n",
       "  </thead>\n",
       "  <tbody>\n",
       "    <tr>\n",
       "      <th>0</th>\n",
       "      <td>The</td>\n",
       "      <td>the</td>\n",
       "      <td>DET</td>\n",
       "      <td>DT</td>\n",
       "      <td>det</td>\n",
       "      <td>Xxx</td>\n",
       "      <td>True</td>\n",
       "      <td>True</td>\n",
       "    </tr>\n",
       "    <tr>\n",
       "      <th>1</th>\n",
       "      <td>coffee</td>\n",
       "      <td>coffee</td>\n",
       "      <td>NOUN</td>\n",
       "      <td>NN</td>\n",
       "      <td>nsubj</td>\n",
       "      <td>xxxx</td>\n",
       "      <td>True</td>\n",
       "      <td>False</td>\n",
       "    </tr>\n",
       "    <tr>\n",
       "      <th>2</th>\n",
       "      <td>this</td>\n",
       "      <td>this</td>\n",
       "      <td>DET</td>\n",
       "      <td>DT</td>\n",
       "      <td>det</td>\n",
       "      <td>xxxx</td>\n",
       "      <td>True</td>\n",
       "      <td>True</td>\n",
       "    </tr>\n",
       "    <tr>\n",
       "      <th>3</th>\n",
       "      <td>morning</td>\n",
       "      <td>morning</td>\n",
       "      <td>NOUN</td>\n",
       "      <td>NN</td>\n",
       "      <td>npadvmod</td>\n",
       "      <td>xxxx</td>\n",
       "      <td>True</td>\n",
       "      <td>False</td>\n",
       "    </tr>\n",
       "    <tr>\n",
       "      <th>4</th>\n",
       "      <td>costed</td>\n",
       "      <td>cost</td>\n",
       "      <td>VERB</td>\n",
       "      <td>VBD</td>\n",
       "      <td>ROOT</td>\n",
       "      <td>xxxx</td>\n",
       "      <td>True</td>\n",
       "      <td>False</td>\n",
       "    </tr>\n",
       "    <tr>\n",
       "      <th>5</th>\n",
       "      <td>me</td>\n",
       "      <td>-PRON-</td>\n",
       "      <td>PRON</td>\n",
       "      <td>PRP</td>\n",
       "      <td>dative</td>\n",
       "      <td>xx</td>\n",
       "      <td>True</td>\n",
       "      <td>True</td>\n",
       "    </tr>\n",
       "    <tr>\n",
       "      <th>6</th>\n",
       "      <td>$</td>\n",
       "      <td>$</td>\n",
       "      <td>SYM</td>\n",
       "      <td>$</td>\n",
       "      <td>nmod</td>\n",
       "      <td>$</td>\n",
       "      <td>False</td>\n",
       "      <td>False</td>\n",
       "    </tr>\n",
       "    <tr>\n",
       "      <th>7</th>\n",
       "      <td>4</td>\n",
       "      <td>4</td>\n",
       "      <td>NUM</td>\n",
       "      <td>CD</td>\n",
       "      <td>dobj</td>\n",
       "      <td>d</td>\n",
       "      <td>False</td>\n",
       "      <td>False</td>\n",
       "    </tr>\n",
       "    <tr>\n",
       "      <th>8</th>\n",
       "      <td>,</td>\n",
       "      <td>,</td>\n",
       "      <td>PUNCT</td>\n",
       "      <td>,</td>\n",
       "      <td>punct</td>\n",
       "      <td>,</td>\n",
       "      <td>False</td>\n",
       "      <td>False</td>\n",
       "    </tr>\n",
       "    <tr>\n",
       "      <th>9</th>\n",
       "      <td>that</td>\n",
       "      <td>that</td>\n",
       "      <td>DET</td>\n",
       "      <td>WDT</td>\n",
       "      <td>nsubj</td>\n",
       "      <td>xxxx</td>\n",
       "      <td>True</td>\n",
       "      <td>True</td>\n",
       "    </tr>\n",
       "    <tr>\n",
       "      <th>10</th>\n",
       "      <td>is</td>\n",
       "      <td>be</td>\n",
       "      <td>AUX</td>\n",
       "      <td>VBZ</td>\n",
       "      <td>relcl</td>\n",
       "      <td>xx</td>\n",
       "      <td>True</td>\n",
       "      <td>True</td>\n",
       "    </tr>\n",
       "    <tr>\n",
       "      <th>11</th>\n",
       "      <td>extremely</td>\n",
       "      <td>extremely</td>\n",
       "      <td>ADV</td>\n",
       "      <td>RB</td>\n",
       "      <td>advmod</td>\n",
       "      <td>xxxx</td>\n",
       "      <td>True</td>\n",
       "      <td>False</td>\n",
       "    </tr>\n",
       "    <tr>\n",
       "      <th>12</th>\n",
       "      <td>expensive</td>\n",
       "      <td>expensive</td>\n",
       "      <td>ADJ</td>\n",
       "      <td>JJ</td>\n",
       "      <td>acomp</td>\n",
       "      <td>xxxx</td>\n",
       "      <td>True</td>\n",
       "      <td>False</td>\n",
       "    </tr>\n",
       "    <tr>\n",
       "      <th>13</th>\n",
       "      <td>!</td>\n",
       "      <td>!</td>\n",
       "      <td>PUNCT</td>\n",
       "      <td>.</td>\n",
       "      <td>punct</td>\n",
       "      <td>!</td>\n",
       "      <td>False</td>\n",
       "      <td>False</td>\n",
       "    </tr>\n",
       "  </tbody>\n",
       "</table>\n",
       "</div>"
      ],
      "text/plain": [
       "         TEXT      LEMMA    POS  TAG       DEP SHAPE  ALPHA   STOP\n",
       "0         The        the    DET   DT       det   Xxx   True   True\n",
       "1      coffee     coffee   NOUN   NN     nsubj  xxxx   True  False\n",
       "2        this       this    DET   DT       det  xxxx   True   True\n",
       "3     morning    morning   NOUN   NN  npadvmod  xxxx   True  False\n",
       "4      costed       cost   VERB  VBD      ROOT  xxxx   True  False\n",
       "5          me     -PRON-   PRON  PRP    dative    xx   True   True\n",
       "6           $          $    SYM    $      nmod     $  False  False\n",
       "7           4          4    NUM   CD      dobj     d  False  False\n",
       "8           ,          ,  PUNCT    ,     punct     ,  False  False\n",
       "9        that       that    DET  WDT     nsubj  xxxx   True   True\n",
       "10         is         be    AUX  VBZ     relcl    xx   True   True\n",
       "11  extremely  extremely    ADV   RB    advmod  xxxx   True  False\n",
       "12  expensive  expensive    ADJ   JJ     acomp  xxxx   True  False\n",
       "13          !          !  PUNCT    .     punct     !  False  False"
      ]
     },
     "execution_count": 20,
     "metadata": {},
     "output_type": "execute_result"
    }
   ],
   "source": [
    "# We can build a Pandas Dataframe with the contents of a token/doc loop, just for nice visualization\n",
    "import pandas as pd\n",
    "\n",
    "d = []\n",
    "for token in doc2:\n",
    "    d.append({'TEXT': token.text, 'LEMMA': token.lemma_, \n",
    "              'POS': token.pos_, 'TAG': token.tag_,\n",
    "              'DEP': token.dep_, 'SHAPE': token.shape_,\n",
    "              'ALPHA': token.is_alpha, 'STOP': token.is_stop})\n",
    "\n",
    "spacy_dataframe = pd.DataFrame(d)\n",
    "spacy_dataframe"
   ]
  },
  {
   "cell_type": "markdown",
   "metadata": {
    "id": "uUrOgHNmelLB"
   },
   "source": [
    "#### Do not feel lost! Let's visualize this."
   ]
  },
  {
   "cell_type": "code",
   "execution_count": 21,
   "metadata": {
    "colab": {
     "base_uri": "https://localhost:8080/",
     "height": 35
    },
    "id": "mlStXKJZenzG",
    "outputId": "86f9535d-2056-408f-a8bb-cde63c084842"
   },
   "outputs": [
    {
     "data": {
      "text/plain": [
       "'verb, 3rd person singular present'"
      ]
     },
     "execution_count": 21,
     "metadata": {},
     "output_type": "execute_result"
    }
   ],
   "source": [
    "# We can use spacy.explain when lost\n",
    "spacy.explain(\"VBZ\")"
   ]
  },
  {
   "cell_type": "code",
   "execution_count": 22,
   "metadata": {
    "colab": {
     "base_uri": "https://localhost:8080/",
     "height": 35
    },
    "id": "JkIRfHLbkaF8",
    "outputId": "4cd378dd-6ed8-4d14-a291-df8de223539e"
   },
   "outputs": [
    {
     "data": {
      "text/plain": [
       "'adverbial modifier'"
      ]
     },
     "execution_count": 22,
     "metadata": {},
     "output_type": "execute_result"
    }
   ],
   "source": [
    "spacy.explain(\"advmod\")"
   ]
  },
  {
   "cell_type": "code",
   "execution_count": 23,
   "metadata": {
    "colab": {
     "base_uri": "https://localhost:8080/",
     "height": 357
    },
    "id": "fyxDoHVFkdV2",
    "outputId": "838c0583-d471-475e-c975-2536b5903e5c"
   },
   "outputs": [
    {
     "data": {
      "text/html": [
       "<span class=\"tex2jax_ignore\"><svg xmlns=\"http://www.w3.org/2000/svg\" xmlns:xlink=\"http://www.w3.org/1999/xlink\" xml:lang=\"en\" id=\"1753d97f91c44b66a8feb93909eb6e10-0\" class=\"displacy\" width=\"1250\" height=\"287.0\" direction=\"ltr\" style=\"max-width: none; height: 287.0px; color: #000000; background: #ffffff; font-family: Arial; direction: ltr\">\n",
       "<text class=\"displacy-token\" fill=\"currentColor\" text-anchor=\"middle\" y=\"197.0\">\n",
       "    <tspan class=\"displacy-word\" fill=\"currentColor\" x=\"50\">The</tspan>\n",
       "    <tspan class=\"displacy-tag\" dy=\"2em\" fill=\"currentColor\" x=\"50\">DET</tspan>\n",
       "</text>\n",
       "\n",
       "<text class=\"displacy-token\" fill=\"currentColor\" text-anchor=\"middle\" y=\"197.0\">\n",
       "    <tspan class=\"displacy-word\" fill=\"currentColor\" x=\"150\">coffee</tspan>\n",
       "    <tspan class=\"displacy-tag\" dy=\"2em\" fill=\"currentColor\" x=\"150\">NOUN</tspan>\n",
       "</text>\n",
       "\n",
       "<text class=\"displacy-token\" fill=\"currentColor\" text-anchor=\"middle\" y=\"197.0\">\n",
       "    <tspan class=\"displacy-word\" fill=\"currentColor\" x=\"250\">this</tspan>\n",
       "    <tspan class=\"displacy-tag\" dy=\"2em\" fill=\"currentColor\" x=\"250\">DET</tspan>\n",
       "</text>\n",
       "\n",
       "<text class=\"displacy-token\" fill=\"currentColor\" text-anchor=\"middle\" y=\"197.0\">\n",
       "    <tspan class=\"displacy-word\" fill=\"currentColor\" x=\"350\">morning</tspan>\n",
       "    <tspan class=\"displacy-tag\" dy=\"2em\" fill=\"currentColor\" x=\"350\">NOUN</tspan>\n",
       "</text>\n",
       "\n",
       "<text class=\"displacy-token\" fill=\"currentColor\" text-anchor=\"middle\" y=\"197.0\">\n",
       "    <tspan class=\"displacy-word\" fill=\"currentColor\" x=\"450\">costed</tspan>\n",
       "    <tspan class=\"displacy-tag\" dy=\"2em\" fill=\"currentColor\" x=\"450\">VERB</tspan>\n",
       "</text>\n",
       "\n",
       "<text class=\"displacy-token\" fill=\"currentColor\" text-anchor=\"middle\" y=\"197.0\">\n",
       "    <tspan class=\"displacy-word\" fill=\"currentColor\" x=\"550\">me</tspan>\n",
       "    <tspan class=\"displacy-tag\" dy=\"2em\" fill=\"currentColor\" x=\"550\">PRON</tspan>\n",
       "</text>\n",
       "\n",
       "<text class=\"displacy-token\" fill=\"currentColor\" text-anchor=\"middle\" y=\"197.0\">\n",
       "    <tspan class=\"displacy-word\" fill=\"currentColor\" x=\"650\">$</tspan>\n",
       "    <tspan class=\"displacy-tag\" dy=\"2em\" fill=\"currentColor\" x=\"650\">SYM</tspan>\n",
       "</text>\n",
       "\n",
       "<text class=\"displacy-token\" fill=\"currentColor\" text-anchor=\"middle\" y=\"197.0\">\n",
       "    <tspan class=\"displacy-word\" fill=\"currentColor\" x=\"750\">4,</tspan>\n",
       "    <tspan class=\"displacy-tag\" dy=\"2em\" fill=\"currentColor\" x=\"750\">NUM</tspan>\n",
       "</text>\n",
       "\n",
       "<text class=\"displacy-token\" fill=\"currentColor\" text-anchor=\"middle\" y=\"197.0\">\n",
       "    <tspan class=\"displacy-word\" fill=\"currentColor\" x=\"850\">that</tspan>\n",
       "    <tspan class=\"displacy-tag\" dy=\"2em\" fill=\"currentColor\" x=\"850\">DET</tspan>\n",
       "</text>\n",
       "\n",
       "<text class=\"displacy-token\" fill=\"currentColor\" text-anchor=\"middle\" y=\"197.0\">\n",
       "    <tspan class=\"displacy-word\" fill=\"currentColor\" x=\"950\">is</tspan>\n",
       "    <tspan class=\"displacy-tag\" dy=\"2em\" fill=\"currentColor\" x=\"950\">AUX</tspan>\n",
       "</text>\n",
       "\n",
       "<text class=\"displacy-token\" fill=\"currentColor\" text-anchor=\"middle\" y=\"197.0\">\n",
       "    <tspan class=\"displacy-word\" fill=\"currentColor\" x=\"1050\">extremely</tspan>\n",
       "    <tspan class=\"displacy-tag\" dy=\"2em\" fill=\"currentColor\" x=\"1050\">ADV</tspan>\n",
       "</text>\n",
       "\n",
       "<text class=\"displacy-token\" fill=\"currentColor\" text-anchor=\"middle\" y=\"197.0\">\n",
       "    <tspan class=\"displacy-word\" fill=\"currentColor\" x=\"1150\">expensive!</tspan>\n",
       "    <tspan class=\"displacy-tag\" dy=\"2em\" fill=\"currentColor\" x=\"1150\">ADJ</tspan>\n",
       "</text>\n",
       "\n",
       "<g class=\"displacy-arrow\">\n",
       "    <path class=\"displacy-arc\" id=\"arrow-1753d97f91c44b66a8feb93909eb6e10-0-0\" stroke-width=\"2px\" d=\"M70,152.0 C70,102.0 140.0,102.0 140.0,152.0\" fill=\"none\" stroke=\"currentColor\"/>\n",
       "    <text dy=\"1.25em\" style=\"font-size: 0.8em; letter-spacing: 1px\">\n",
       "        <textPath xlink:href=\"#arrow-1753d97f91c44b66a8feb93909eb6e10-0-0\" class=\"displacy-label\" startOffset=\"50%\" side=\"left\" fill=\"currentColor\" text-anchor=\"middle\">det</textPath>\n",
       "    </text>\n",
       "    <path class=\"displacy-arrowhead\" d=\"M70,154.0 L62,142.0 78,142.0\" fill=\"currentColor\"/>\n",
       "</g>\n",
       "\n",
       "<g class=\"displacy-arrow\">\n",
       "    <path class=\"displacy-arc\" id=\"arrow-1753d97f91c44b66a8feb93909eb6e10-0-1\" stroke-width=\"2px\" d=\"M170,152.0 C170,2.0 450.0,2.0 450.0,152.0\" fill=\"none\" stroke=\"currentColor\"/>\n",
       "    <text dy=\"1.25em\" style=\"font-size: 0.8em; letter-spacing: 1px\">\n",
       "        <textPath xlink:href=\"#arrow-1753d97f91c44b66a8feb93909eb6e10-0-1\" class=\"displacy-label\" startOffset=\"50%\" side=\"left\" fill=\"currentColor\" text-anchor=\"middle\">nsubj</textPath>\n",
       "    </text>\n",
       "    <path class=\"displacy-arrowhead\" d=\"M170,154.0 L162,142.0 178,142.0\" fill=\"currentColor\"/>\n",
       "</g>\n",
       "\n",
       "<g class=\"displacy-arrow\">\n",
       "    <path class=\"displacy-arc\" id=\"arrow-1753d97f91c44b66a8feb93909eb6e10-0-2\" stroke-width=\"2px\" d=\"M270,152.0 C270,102.0 340.0,102.0 340.0,152.0\" fill=\"none\" stroke=\"currentColor\"/>\n",
       "    <text dy=\"1.25em\" style=\"font-size: 0.8em; letter-spacing: 1px\">\n",
       "        <textPath xlink:href=\"#arrow-1753d97f91c44b66a8feb93909eb6e10-0-2\" class=\"displacy-label\" startOffset=\"50%\" side=\"left\" fill=\"currentColor\" text-anchor=\"middle\">det</textPath>\n",
       "    </text>\n",
       "    <path class=\"displacy-arrowhead\" d=\"M270,154.0 L262,142.0 278,142.0\" fill=\"currentColor\"/>\n",
       "</g>\n",
       "\n",
       "<g class=\"displacy-arrow\">\n",
       "    <path class=\"displacy-arc\" id=\"arrow-1753d97f91c44b66a8feb93909eb6e10-0-3\" stroke-width=\"2px\" d=\"M370,152.0 C370,102.0 440.0,102.0 440.0,152.0\" fill=\"none\" stroke=\"currentColor\"/>\n",
       "    <text dy=\"1.25em\" style=\"font-size: 0.8em; letter-spacing: 1px\">\n",
       "        <textPath xlink:href=\"#arrow-1753d97f91c44b66a8feb93909eb6e10-0-3\" class=\"displacy-label\" startOffset=\"50%\" side=\"left\" fill=\"currentColor\" text-anchor=\"middle\">npadvmod</textPath>\n",
       "    </text>\n",
       "    <path class=\"displacy-arrowhead\" d=\"M370,154.0 L362,142.0 378,142.0\" fill=\"currentColor\"/>\n",
       "</g>\n",
       "\n",
       "<g class=\"displacy-arrow\">\n",
       "    <path class=\"displacy-arc\" id=\"arrow-1753d97f91c44b66a8feb93909eb6e10-0-4\" stroke-width=\"2px\" d=\"M470,152.0 C470,102.0 540.0,102.0 540.0,152.0\" fill=\"none\" stroke=\"currentColor\"/>\n",
       "    <text dy=\"1.25em\" style=\"font-size: 0.8em; letter-spacing: 1px\">\n",
       "        <textPath xlink:href=\"#arrow-1753d97f91c44b66a8feb93909eb6e10-0-4\" class=\"displacy-label\" startOffset=\"50%\" side=\"left\" fill=\"currentColor\" text-anchor=\"middle\">dative</textPath>\n",
       "    </text>\n",
       "    <path class=\"displacy-arrowhead\" d=\"M540.0,154.0 L548.0,142.0 532.0,142.0\" fill=\"currentColor\"/>\n",
       "</g>\n",
       "\n",
       "<g class=\"displacy-arrow\">\n",
       "    <path class=\"displacy-arc\" id=\"arrow-1753d97f91c44b66a8feb93909eb6e10-0-5\" stroke-width=\"2px\" d=\"M670,152.0 C670,102.0 740.0,102.0 740.0,152.0\" fill=\"none\" stroke=\"currentColor\"/>\n",
       "    <text dy=\"1.25em\" style=\"font-size: 0.8em; letter-spacing: 1px\">\n",
       "        <textPath xlink:href=\"#arrow-1753d97f91c44b66a8feb93909eb6e10-0-5\" class=\"displacy-label\" startOffset=\"50%\" side=\"left\" fill=\"currentColor\" text-anchor=\"middle\">nmod</textPath>\n",
       "    </text>\n",
       "    <path class=\"displacy-arrowhead\" d=\"M670,154.0 L662,142.0 678,142.0\" fill=\"currentColor\"/>\n",
       "</g>\n",
       "\n",
       "<g class=\"displacy-arrow\">\n",
       "    <path class=\"displacy-arc\" id=\"arrow-1753d97f91c44b66a8feb93909eb6e10-0-6\" stroke-width=\"2px\" d=\"M470,152.0 C470,2.0 750.0,2.0 750.0,152.0\" fill=\"none\" stroke=\"currentColor\"/>\n",
       "    <text dy=\"1.25em\" style=\"font-size: 0.8em; letter-spacing: 1px\">\n",
       "        <textPath xlink:href=\"#arrow-1753d97f91c44b66a8feb93909eb6e10-0-6\" class=\"displacy-label\" startOffset=\"50%\" side=\"left\" fill=\"currentColor\" text-anchor=\"middle\">dobj</textPath>\n",
       "    </text>\n",
       "    <path class=\"displacy-arrowhead\" d=\"M750.0,154.0 L758.0,142.0 742.0,142.0\" fill=\"currentColor\"/>\n",
       "</g>\n",
       "\n",
       "<g class=\"displacy-arrow\">\n",
       "    <path class=\"displacy-arc\" id=\"arrow-1753d97f91c44b66a8feb93909eb6e10-0-7\" stroke-width=\"2px\" d=\"M870,152.0 C870,102.0 940.0,102.0 940.0,152.0\" fill=\"none\" stroke=\"currentColor\"/>\n",
       "    <text dy=\"1.25em\" style=\"font-size: 0.8em; letter-spacing: 1px\">\n",
       "        <textPath xlink:href=\"#arrow-1753d97f91c44b66a8feb93909eb6e10-0-7\" class=\"displacy-label\" startOffset=\"50%\" side=\"left\" fill=\"currentColor\" text-anchor=\"middle\">nsubj</textPath>\n",
       "    </text>\n",
       "    <path class=\"displacy-arrowhead\" d=\"M870,154.0 L862,142.0 878,142.0\" fill=\"currentColor\"/>\n",
       "</g>\n",
       "\n",
       "<g class=\"displacy-arrow\">\n",
       "    <path class=\"displacy-arc\" id=\"arrow-1753d97f91c44b66a8feb93909eb6e10-0-8\" stroke-width=\"2px\" d=\"M770,152.0 C770,52.0 945.0,52.0 945.0,152.0\" fill=\"none\" stroke=\"currentColor\"/>\n",
       "    <text dy=\"1.25em\" style=\"font-size: 0.8em; letter-spacing: 1px\">\n",
       "        <textPath xlink:href=\"#arrow-1753d97f91c44b66a8feb93909eb6e10-0-8\" class=\"displacy-label\" startOffset=\"50%\" side=\"left\" fill=\"currentColor\" text-anchor=\"middle\">relcl</textPath>\n",
       "    </text>\n",
       "    <path class=\"displacy-arrowhead\" d=\"M945.0,154.0 L953.0,142.0 937.0,142.0\" fill=\"currentColor\"/>\n",
       "</g>\n",
       "\n",
       "<g class=\"displacy-arrow\">\n",
       "    <path class=\"displacy-arc\" id=\"arrow-1753d97f91c44b66a8feb93909eb6e10-0-9\" stroke-width=\"2px\" d=\"M1070,152.0 C1070,102.0 1140.0,102.0 1140.0,152.0\" fill=\"none\" stroke=\"currentColor\"/>\n",
       "    <text dy=\"1.25em\" style=\"font-size: 0.8em; letter-spacing: 1px\">\n",
       "        <textPath xlink:href=\"#arrow-1753d97f91c44b66a8feb93909eb6e10-0-9\" class=\"displacy-label\" startOffset=\"50%\" side=\"left\" fill=\"currentColor\" text-anchor=\"middle\">advmod</textPath>\n",
       "    </text>\n",
       "    <path class=\"displacy-arrowhead\" d=\"M1070,154.0 L1062,142.0 1078,142.0\" fill=\"currentColor\"/>\n",
       "</g>\n",
       "\n",
       "<g class=\"displacy-arrow\">\n",
       "    <path class=\"displacy-arc\" id=\"arrow-1753d97f91c44b66a8feb93909eb6e10-0-10\" stroke-width=\"2px\" d=\"M970,152.0 C970,52.0 1145.0,52.0 1145.0,152.0\" fill=\"none\" stroke=\"currentColor\"/>\n",
       "    <text dy=\"1.25em\" style=\"font-size: 0.8em; letter-spacing: 1px\">\n",
       "        <textPath xlink:href=\"#arrow-1753d97f91c44b66a8feb93909eb6e10-0-10\" class=\"displacy-label\" startOffset=\"50%\" side=\"left\" fill=\"currentColor\" text-anchor=\"middle\">acomp</textPath>\n",
       "    </text>\n",
       "    <path class=\"displacy-arrowhead\" d=\"M1145.0,154.0 L1153.0,142.0 1137.0,142.0\" fill=\"currentColor\"/>\n",
       "</g>\n",
       "</svg></span>"
      ],
      "text/plain": [
       "<IPython.core.display.HTML object>"
      ]
     },
     "metadata": {},
     "output_type": "display_data"
    }
   ],
   "source": [
    "import spacy\n",
    "from spacy import displacy\n",
    "\n",
    "# Show POS and synthatic dependencies\n",
    "displacy.render(doc2, style=\"dep\", jupyter=True, options={'distance': 100})"
   ]
  },
  {
   "cell_type": "markdown",
   "metadata": {
    "id": "bigTnVjNhjT_"
   },
   "source": [
    "#### Naming entities\n",
    "\n",
    "\n",
    "\n",
    "> spaCy features an extremely fast statistical entity recognition system, that assigns labels to contiguous spans of tokens. The default model identifies a variety of named and numeric entities, including companies, locations, organizations and products. You can add arbitrary classes to the entity recognition system, and update the model with new examples.\n",
    "\n"
   ]
  },
  {
   "cell_type": "code",
   "execution_count": 24,
   "metadata": {
    "colab": {
     "base_uri": "https://localhost:8080/",
     "height": 52
    },
    "id": "Nun7w-ErksfY",
    "outputId": "0c1e9f21-eeb3-4ae6-aff0-6a0acab74892"
   },
   "outputs": [
    {
     "data": {
      "text/html": [
       "<span class=\"tex2jax_ignore\"><div class=\"entities\" style=\"line-height: 2.5; direction: ltr\">The coffee \n",
       "<mark class=\"entity\" style=\"background: #bfe1d9; padding: 0.45em 0.6em; margin: 0 0.25em; line-height: 1; border-radius: 0.35em;\">\n",
       "    this morning\n",
       "    <span style=\"font-size: 0.8em; font-weight: bold; line-height: 1; border-radius: 0.35em; text-transform: uppercase; vertical-align: middle; margin-left: 0.5rem\">TIME</span>\n",
       "</mark>\n",
       " costed me $\n",
       "<mark class=\"entity\" style=\"background: #e4e7d2; padding: 0.45em 0.6em; margin: 0 0.25em; line-height: 1; border-radius: 0.35em;\">\n",
       "    4\n",
       "    <span style=\"font-size: 0.8em; font-weight: bold; line-height: 1; border-radius: 0.35em; text-transform: uppercase; vertical-align: middle; margin-left: 0.5rem\">MONEY</span>\n",
       "</mark>\n",
       ", that is extremely expensive!</div></span>"
      ],
      "text/plain": [
       "<IPython.core.display.HTML object>"
      ]
     },
     "metadata": {},
     "output_type": "display_data"
    }
   ],
   "source": [
    "# The entity visualizer highlights named entities and their labels in the text\n",
    "displacy.render(doc2, style=\"ent\", jupyter=True, options={'distance': 100})"
   ]
  },
  {
   "cell_type": "markdown",
   "metadata": {
    "id": "9k07OV_0hNct"
   },
   "source": [
    "#### In class exercise:\n",
    "\n",
    "Try it yourself. Write a sentence, visualize the synthatic dependencies and the entities within the sentence:"
   ]
  },
  {
   "cell_type": "code",
   "execution_count": 25,
   "metadata": {},
   "outputs": [
    {
     "name": "stdout",
     "output_type": "stream",
     "text": [
      "Requirement already satisfied: es_core_news_sm==2.3.1 from https://github.com/explosion/spacy-models/releases/download/es_core_news_sm-2.3.1/es_core_news_sm-2.3.1.tar.gz#egg=es_core_news_sm==2.3.1 in /opt/anaconda3/lib/python3.8/site-packages (2.3.1)\n",
      "Requirement already satisfied: spacy<2.4.0,>=2.3.0 in /opt/anaconda3/lib/python3.8/site-packages (from es_core_news_sm==2.3.1) (2.3.2)\n",
      "Requirement already satisfied: murmurhash<1.1.0,>=0.28.0 in /opt/anaconda3/lib/python3.8/site-packages (from spacy<2.4.0,>=2.3.0->es_core_news_sm==2.3.1) (1.0.2)\n",
      "Requirement already satisfied: tqdm<5.0.0,>=4.38.0 in /opt/anaconda3/lib/python3.8/site-packages (from spacy<2.4.0,>=2.3.0->es_core_news_sm==2.3.1) (4.51.0)\n",
      "Requirement already satisfied: requests<3.0.0,>=2.13.0 in /opt/anaconda3/lib/python3.8/site-packages (from spacy<2.4.0,>=2.3.0->es_core_news_sm==2.3.1) (2.24.0)\n",
      "Requirement already satisfied: blis<0.5.0,>=0.4.0 in /opt/anaconda3/lib/python3.8/site-packages (from spacy<2.4.0,>=2.3.0->es_core_news_sm==2.3.1) (0.4.1)\n",
      "Requirement already satisfied: wasabi<1.1.0,>=0.4.0 in /opt/anaconda3/lib/python3.8/site-packages (from spacy<2.4.0,>=2.3.0->es_core_news_sm==2.3.1) (0.8.0)\n",
      "Requirement already satisfied: preshed<3.1.0,>=3.0.2 in /opt/anaconda3/lib/python3.8/site-packages (from spacy<2.4.0,>=2.3.0->es_core_news_sm==2.3.1) (3.0.2)\n",
      "Requirement already satisfied: thinc==7.4.1 in /opt/anaconda3/lib/python3.8/site-packages (from spacy<2.4.0,>=2.3.0->es_core_news_sm==2.3.1) (7.4.1)\n",
      "Requirement already satisfied: srsly<1.1.0,>=1.0.2 in /opt/anaconda3/lib/python3.8/site-packages (from spacy<2.4.0,>=2.3.0->es_core_news_sm==2.3.1) (1.0.2)\n",
      "Requirement already satisfied: catalogue<1.1.0,>=0.0.7 in /opt/anaconda3/lib/python3.8/site-packages (from spacy<2.4.0,>=2.3.0->es_core_news_sm==2.3.1) (1.0.0)\n",
      "Requirement already satisfied: numpy>=1.15.0 in /opt/anaconda3/lib/python3.8/site-packages (from spacy<2.4.0,>=2.3.0->es_core_news_sm==2.3.1) (1.19.2)\n",
      "Requirement already satisfied: cymem<2.1.0,>=2.0.2 in /opt/anaconda3/lib/python3.8/site-packages (from spacy<2.4.0,>=2.3.0->es_core_news_sm==2.3.1) (2.0.4)\n",
      "Requirement already satisfied: plac<1.2.0,>=0.9.6 in /opt/anaconda3/lib/python3.8/site-packages (from spacy<2.4.0,>=2.3.0->es_core_news_sm==2.3.1) (0.9.6)\n",
      "Requirement already satisfied: setuptools in /opt/anaconda3/lib/python3.8/site-packages (from spacy<2.4.0,>=2.3.0->es_core_news_sm==2.3.1) (50.3.1.post20201107)\n",
      "Requirement already satisfied: certifi>=2017.4.17 in /opt/anaconda3/lib/python3.8/site-packages (from requests<3.0.0,>=2.13.0->spacy<2.4.0,>=2.3.0->es_core_news_sm==2.3.1) (2020.11.8)\n",
      "Requirement already satisfied: urllib3!=1.25.0,!=1.25.1,<1.26,>=1.21.1 in /opt/anaconda3/lib/python3.8/site-packages (from requests<3.0.0,>=2.13.0->spacy<2.4.0,>=2.3.0->es_core_news_sm==2.3.1) (1.25.11)\n",
      "Requirement already satisfied: idna<3,>=2.5 in /opt/anaconda3/lib/python3.8/site-packages (from requests<3.0.0,>=2.13.0->spacy<2.4.0,>=2.3.0->es_core_news_sm==2.3.1) (2.10)\n",
      "Requirement already satisfied: chardet<4,>=3.0.2 in /opt/anaconda3/lib/python3.8/site-packages (from requests<3.0.0,>=2.13.0->spacy<2.4.0,>=2.3.0->es_core_news_sm==2.3.1) (3.0.4)\n",
      "\u001b[38;5;2m✔ Download and installation successful\u001b[0m\n",
      "You can now load the model via spacy.load('es_core_news_sm')\n",
      "\u001b[38;5;2m✔ Linking successful\u001b[0m\n",
      "/opt/anaconda3/lib/python3.8/site-packages/es_core_news_sm -->\n",
      "/opt/anaconda3/lib/python3.8/site-packages/spacy/data/es\n",
      "You can now load the model via spacy.load('es')\n"
     ]
    }
   ],
   "source": [
    "!python -m spacy download es"
   ]
  },
  {
   "cell_type": "code",
   "execution_count": 26,
   "metadata": {},
   "outputs": [],
   "source": [
    "nlp1 = spacy.load('es')"
   ]
  },
  {
   "cell_type": "code",
   "execution_count": 27,
   "metadata": {
    "id": "j99jqjl7hh9D"
   },
   "outputs": [
    {
     "name": "stdout",
     "output_type": "stream",
     "text": [
      "¿ PUNCT punct\n",
      "Por ADP case\n",
      "qué PRON obl\n",
      "a ADP case\n",
      "la DET det\n",
      "cama NOUN obl\n",
      "se PRON obj\n",
      "le PRON obj\n",
      "llama VERB ROOT\n",
      "cama NOUN obj\n",
      "y CCONJ cc\n",
      "a ADP case\n",
      "la DET det\n",
      "cómoda INTJ conj\n",
      "cómoda ADJ amod\n",
      ", PUNCT punct\n",
      "si SCONJ mark\n",
      "es AUX cop\n",
      "más ADV advmod\n",
      "cómoda ADJ advcl\n",
      "la DET det\n",
      "cama NOUN nsubj\n",
      "que SCONJ mark\n",
      "la DET det\n",
      "cómoda NOUN acl\n",
      "? PUNCT punct\n"
     ]
    }
   ],
   "source": [
    "text_sentence_3 = \"¿Por qué a la cama se le llama cama y a la cómoda cómoda, si es más cómoda la cama que la cómoda?\"\n",
    "doc33 = nlp1(text_sentence_3)\n",
    "\n",
    "for token in doc33:\n",
    "    print(token.text, token.pos_, token.dep_)"
   ]
  },
  {
   "cell_type": "code",
   "execution_count": 28,
   "metadata": {},
   "outputs": [
    {
     "data": {
      "text/html": [
       "<div>\n",
       "<style scoped>\n",
       "    .dataframe tbody tr th:only-of-type {\n",
       "        vertical-align: middle;\n",
       "    }\n",
       "\n",
       "    .dataframe tbody tr th {\n",
       "        vertical-align: top;\n",
       "    }\n",
       "\n",
       "    .dataframe thead th {\n",
       "        text-align: right;\n",
       "    }\n",
       "</style>\n",
       "<table border=\"1\" class=\"dataframe\">\n",
       "  <thead>\n",
       "    <tr style=\"text-align: right;\">\n",
       "      <th></th>\n",
       "      <th>TEXT</th>\n",
       "      <th>LEMMA</th>\n",
       "      <th>POS</th>\n",
       "      <th>TAG</th>\n",
       "      <th>DEP</th>\n",
       "      <th>SHAPE</th>\n",
       "      <th>ALPHA</th>\n",
       "      <th>STOP</th>\n",
       "    </tr>\n",
       "  </thead>\n",
       "  <tbody>\n",
       "    <tr>\n",
       "      <th>0</th>\n",
       "      <td>¿</td>\n",
       "      <td>¿</td>\n",
       "      <td>PUNCT</td>\n",
       "      <td>PUNCT__PunctSide=Ini|PunctType=Qest</td>\n",
       "      <td>punct</td>\n",
       "      <td>¿</td>\n",
       "      <td>False</td>\n",
       "      <td>False</td>\n",
       "    </tr>\n",
       "    <tr>\n",
       "      <th>1</th>\n",
       "      <td>Por</td>\n",
       "      <td>Por</td>\n",
       "      <td>ADP</td>\n",
       "      <td>ADP__AdpType=Prep</td>\n",
       "      <td>case</td>\n",
       "      <td>Xxx</td>\n",
       "      <td>True</td>\n",
       "      <td>True</td>\n",
       "    </tr>\n",
       "    <tr>\n",
       "      <th>2</th>\n",
       "      <td>qué</td>\n",
       "      <td>qué</td>\n",
       "      <td>PRON</td>\n",
       "      <td>PRON__Number=Sing|PronType=Int,Rel</td>\n",
       "      <td>obl</td>\n",
       "      <td>xxx</td>\n",
       "      <td>True</td>\n",
       "      <td>True</td>\n",
       "    </tr>\n",
       "    <tr>\n",
       "      <th>3</th>\n",
       "      <td>a</td>\n",
       "      <td>a</td>\n",
       "      <td>ADP</td>\n",
       "      <td>ADP__AdpType=Prep</td>\n",
       "      <td>case</td>\n",
       "      <td>x</td>\n",
       "      <td>True</td>\n",
       "      <td>False</td>\n",
       "    </tr>\n",
       "    <tr>\n",
       "      <th>4</th>\n",
       "      <td>la</td>\n",
       "      <td>lo</td>\n",
       "      <td>DET</td>\n",
       "      <td>DET__Definite=Def|Gender=Fem|Number=Sing|PronT...</td>\n",
       "      <td>det</td>\n",
       "      <td>xx</td>\n",
       "      <td>True</td>\n",
       "      <td>True</td>\n",
       "    </tr>\n",
       "    <tr>\n",
       "      <th>5</th>\n",
       "      <td>cama</td>\n",
       "      <td>cama</td>\n",
       "      <td>NOUN</td>\n",
       "      <td>NOUN__Gender=Fem|Number=Sing</td>\n",
       "      <td>obl</td>\n",
       "      <td>xxxx</td>\n",
       "      <td>True</td>\n",
       "      <td>False</td>\n",
       "    </tr>\n",
       "    <tr>\n",
       "      <th>6</th>\n",
       "      <td>se</td>\n",
       "      <td>se</td>\n",
       "      <td>PRON</td>\n",
       "      <td>PRON__Case=Acc,Dat|Person=3|PrepCase=Npr|PronT...</td>\n",
       "      <td>obj</td>\n",
       "      <td>xx</td>\n",
       "      <td>True</td>\n",
       "      <td>True</td>\n",
       "    </tr>\n",
       "    <tr>\n",
       "      <th>7</th>\n",
       "      <td>le</td>\n",
       "      <td>le</td>\n",
       "      <td>PRON</td>\n",
       "      <td>PRON__Case=Dat|Number=Sing|Person=3|PronType=Prs</td>\n",
       "      <td>obj</td>\n",
       "      <td>xx</td>\n",
       "      <td>True</td>\n",
       "      <td>True</td>\n",
       "    </tr>\n",
       "    <tr>\n",
       "      <th>8</th>\n",
       "      <td>llama</td>\n",
       "      <td>llamar</td>\n",
       "      <td>VERB</td>\n",
       "      <td>VERB__Mood=Ind|Number=Sing|Person=3|Tense=Pres...</td>\n",
       "      <td>ROOT</td>\n",
       "      <td>xxxx</td>\n",
       "      <td>True</td>\n",
       "      <td>False</td>\n",
       "    </tr>\n",
       "    <tr>\n",
       "      <th>9</th>\n",
       "      <td>cama</td>\n",
       "      <td>cama</td>\n",
       "      <td>NOUN</td>\n",
       "      <td>NOUN__Gender=Fem|Number=Sing</td>\n",
       "      <td>obj</td>\n",
       "      <td>xxxx</td>\n",
       "      <td>True</td>\n",
       "      <td>False</td>\n",
       "    </tr>\n",
       "    <tr>\n",
       "      <th>10</th>\n",
       "      <td>y</td>\n",
       "      <td>y</td>\n",
       "      <td>CCONJ</td>\n",
       "      <td>CCONJ</td>\n",
       "      <td>cc</td>\n",
       "      <td>x</td>\n",
       "      <td>True</td>\n",
       "      <td>False</td>\n",
       "    </tr>\n",
       "    <tr>\n",
       "      <th>11</th>\n",
       "      <td>a</td>\n",
       "      <td>a</td>\n",
       "      <td>ADP</td>\n",
       "      <td>ADP__AdpType=Prep</td>\n",
       "      <td>case</td>\n",
       "      <td>x</td>\n",
       "      <td>True</td>\n",
       "      <td>False</td>\n",
       "    </tr>\n",
       "    <tr>\n",
       "      <th>12</th>\n",
       "      <td>la</td>\n",
       "      <td>lo</td>\n",
       "      <td>DET</td>\n",
       "      <td>DET__Definite=Def|Gender=Fem|Number=Sing|PronT...</td>\n",
       "      <td>det</td>\n",
       "      <td>xx</td>\n",
       "      <td>True</td>\n",
       "      <td>True</td>\n",
       "    </tr>\n",
       "    <tr>\n",
       "      <th>13</th>\n",
       "      <td>cómoda</td>\n",
       "      <td>cómodo</td>\n",
       "      <td>INTJ</td>\n",
       "      <td>NOUN</td>\n",
       "      <td>conj</td>\n",
       "      <td>xxxx</td>\n",
       "      <td>True</td>\n",
       "      <td>False</td>\n",
       "    </tr>\n",
       "    <tr>\n",
       "      <th>14</th>\n",
       "      <td>cómoda</td>\n",
       "      <td>cómodo</td>\n",
       "      <td>ADJ</td>\n",
       "      <td>ADJ__Gender=Fem|Number=Sing</td>\n",
       "      <td>amod</td>\n",
       "      <td>xxxx</td>\n",
       "      <td>True</td>\n",
       "      <td>False</td>\n",
       "    </tr>\n",
       "    <tr>\n",
       "      <th>15</th>\n",
       "      <td>,</td>\n",
       "      <td>,</td>\n",
       "      <td>PUNCT</td>\n",
       "      <td>PUNCT__PunctType=Comm</td>\n",
       "      <td>punct</td>\n",
       "      <td>,</td>\n",
       "      <td>False</td>\n",
       "      <td>False</td>\n",
       "    </tr>\n",
       "    <tr>\n",
       "      <th>16</th>\n",
       "      <td>si</td>\n",
       "      <td>si</td>\n",
       "      <td>SCONJ</td>\n",
       "      <td>SCONJ</td>\n",
       "      <td>mark</td>\n",
       "      <td>xx</td>\n",
       "      <td>True</td>\n",
       "      <td>True</td>\n",
       "    </tr>\n",
       "    <tr>\n",
       "      <th>17</th>\n",
       "      <td>es</td>\n",
       "      <td>ser</td>\n",
       "      <td>AUX</td>\n",
       "      <td>AUX__Mood=Ind|Number=Sing|Person=3|Tense=Pres|...</td>\n",
       "      <td>cop</td>\n",
       "      <td>xx</td>\n",
       "      <td>True</td>\n",
       "      <td>True</td>\n",
       "    </tr>\n",
       "    <tr>\n",
       "      <th>18</th>\n",
       "      <td>más</td>\n",
       "      <td>más</td>\n",
       "      <td>ADV</td>\n",
       "      <td>ADV__Degree=Cmp</td>\n",
       "      <td>advmod</td>\n",
       "      <td>xxx</td>\n",
       "      <td>True</td>\n",
       "      <td>True</td>\n",
       "    </tr>\n",
       "    <tr>\n",
       "      <th>19</th>\n",
       "      <td>cómoda</td>\n",
       "      <td>cómodo</td>\n",
       "      <td>ADJ</td>\n",
       "      <td>ADJ__Gender=Fem|Number=Sing</td>\n",
       "      <td>advcl</td>\n",
       "      <td>xxxx</td>\n",
       "      <td>True</td>\n",
       "      <td>False</td>\n",
       "    </tr>\n",
       "    <tr>\n",
       "      <th>20</th>\n",
       "      <td>la</td>\n",
       "      <td>lo</td>\n",
       "      <td>DET</td>\n",
       "      <td>DET__Definite=Def|Gender=Fem|Number=Sing|PronT...</td>\n",
       "      <td>det</td>\n",
       "      <td>xx</td>\n",
       "      <td>True</td>\n",
       "      <td>True</td>\n",
       "    </tr>\n",
       "    <tr>\n",
       "      <th>21</th>\n",
       "      <td>cama</td>\n",
       "      <td>cama</td>\n",
       "      <td>NOUN</td>\n",
       "      <td>NOUN__Gender=Fem|Number=Sing</td>\n",
       "      <td>nsubj</td>\n",
       "      <td>xxxx</td>\n",
       "      <td>True</td>\n",
       "      <td>False</td>\n",
       "    </tr>\n",
       "    <tr>\n",
       "      <th>22</th>\n",
       "      <td>que</td>\n",
       "      <td>que</td>\n",
       "      <td>SCONJ</td>\n",
       "      <td>PRON__PronType=Int,Rel</td>\n",
       "      <td>mark</td>\n",
       "      <td>xxx</td>\n",
       "      <td>True</td>\n",
       "      <td>True</td>\n",
       "    </tr>\n",
       "    <tr>\n",
       "      <th>23</th>\n",
       "      <td>la</td>\n",
       "      <td>lo</td>\n",
       "      <td>DET</td>\n",
       "      <td>DET__Definite=Def|Gender=Fem|Number=Sing|PronT...</td>\n",
       "      <td>det</td>\n",
       "      <td>xx</td>\n",
       "      <td>True</td>\n",
       "      <td>True</td>\n",
       "    </tr>\n",
       "    <tr>\n",
       "      <th>24</th>\n",
       "      <td>cómoda</td>\n",
       "      <td>cómodo</td>\n",
       "      <td>NOUN</td>\n",
       "      <td>NOUN__Gender=Fem|Number=Sing</td>\n",
       "      <td>acl</td>\n",
       "      <td>xxxx</td>\n",
       "      <td>True</td>\n",
       "      <td>False</td>\n",
       "    </tr>\n",
       "    <tr>\n",
       "      <th>25</th>\n",
       "      <td>?</td>\n",
       "      <td>?</td>\n",
       "      <td>PUNCT</td>\n",
       "      <td>PUNCT__PunctSide=Fin|PunctType=Qest</td>\n",
       "      <td>punct</td>\n",
       "      <td>?</td>\n",
       "      <td>False</td>\n",
       "      <td>False</td>\n",
       "    </tr>\n",
       "  </tbody>\n",
       "</table>\n",
       "</div>"
      ],
      "text/plain": [
       "      TEXT   LEMMA    POS                                                TAG  \\\n",
       "0        ¿       ¿  PUNCT                PUNCT__PunctSide=Ini|PunctType=Qest   \n",
       "1      Por     Por    ADP                                  ADP__AdpType=Prep   \n",
       "2      qué     qué   PRON                 PRON__Number=Sing|PronType=Int,Rel   \n",
       "3        a       a    ADP                                  ADP__AdpType=Prep   \n",
       "4       la      lo    DET  DET__Definite=Def|Gender=Fem|Number=Sing|PronT...   \n",
       "5     cama    cama   NOUN                       NOUN__Gender=Fem|Number=Sing   \n",
       "6       se      se   PRON  PRON__Case=Acc,Dat|Person=3|PrepCase=Npr|PronT...   \n",
       "7       le      le   PRON   PRON__Case=Dat|Number=Sing|Person=3|PronType=Prs   \n",
       "8    llama  llamar   VERB  VERB__Mood=Ind|Number=Sing|Person=3|Tense=Pres...   \n",
       "9     cama    cama   NOUN                       NOUN__Gender=Fem|Number=Sing   \n",
       "10       y       y  CCONJ                                              CCONJ   \n",
       "11       a       a    ADP                                  ADP__AdpType=Prep   \n",
       "12      la      lo    DET  DET__Definite=Def|Gender=Fem|Number=Sing|PronT...   \n",
       "13  cómoda  cómodo   INTJ                                               NOUN   \n",
       "14  cómoda  cómodo    ADJ                        ADJ__Gender=Fem|Number=Sing   \n",
       "15       ,       ,  PUNCT                              PUNCT__PunctType=Comm   \n",
       "16      si      si  SCONJ                                              SCONJ   \n",
       "17      es     ser    AUX  AUX__Mood=Ind|Number=Sing|Person=3|Tense=Pres|...   \n",
       "18     más     más    ADV                                    ADV__Degree=Cmp   \n",
       "19  cómoda  cómodo    ADJ                        ADJ__Gender=Fem|Number=Sing   \n",
       "20      la      lo    DET  DET__Definite=Def|Gender=Fem|Number=Sing|PronT...   \n",
       "21    cama    cama   NOUN                       NOUN__Gender=Fem|Number=Sing   \n",
       "22     que     que  SCONJ                             PRON__PronType=Int,Rel   \n",
       "23      la      lo    DET  DET__Definite=Def|Gender=Fem|Number=Sing|PronT...   \n",
       "24  cómoda  cómodo   NOUN                       NOUN__Gender=Fem|Number=Sing   \n",
       "25       ?       ?  PUNCT                PUNCT__PunctSide=Fin|PunctType=Qest   \n",
       "\n",
       "       DEP SHAPE  ALPHA   STOP  \n",
       "0    punct     ¿  False  False  \n",
       "1     case   Xxx   True   True  \n",
       "2      obl   xxx   True   True  \n",
       "3     case     x   True  False  \n",
       "4      det    xx   True   True  \n",
       "5      obl  xxxx   True  False  \n",
       "6      obj    xx   True   True  \n",
       "7      obj    xx   True   True  \n",
       "8     ROOT  xxxx   True  False  \n",
       "9      obj  xxxx   True  False  \n",
       "10      cc     x   True  False  \n",
       "11    case     x   True  False  \n",
       "12     det    xx   True   True  \n",
       "13    conj  xxxx   True  False  \n",
       "14    amod  xxxx   True  False  \n",
       "15   punct     ,  False  False  \n",
       "16    mark    xx   True   True  \n",
       "17     cop    xx   True   True  \n",
       "18  advmod   xxx   True   True  \n",
       "19   advcl  xxxx   True  False  \n",
       "20     det    xx   True   True  \n",
       "21   nsubj  xxxx   True  False  \n",
       "22    mark   xxx   True   True  \n",
       "23     det    xx   True   True  \n",
       "24     acl  xxxx   True  False  \n",
       "25   punct     ?  False  False  "
      ]
     },
     "execution_count": 28,
     "metadata": {},
     "output_type": "execute_result"
    }
   ],
   "source": [
    "# We can build a Pandas Dataframe with the contents of a token/doc loop, just for nice visualization\n",
    "import pandas as pd\n",
    "\n",
    "d = []\n",
    "for token in doc33:\n",
    "    d.append({'TEXT': token.text, 'LEMMA': token.lemma_, \n",
    "              'POS': token.pos_, 'TAG': token.tag_,\n",
    "              'DEP': token.dep_, 'SHAPE': token.shape_,\n",
    "              'ALPHA': token.is_alpha, 'STOP': token.is_stop})\n",
    "\n",
    "spacy_dataframe = pd.DataFrame(d)\n",
    "spacy_dataframe"
   ]
  },
  {
   "cell_type": "code",
   "execution_count": 29,
   "metadata": {},
   "outputs": [
    {
     "data": {
      "text/html": [
       "<span class=\"tex2jax_ignore\"><svg xmlns=\"http://www.w3.org/2000/svg\" xmlns:xlink=\"http://www.w3.org/1999/xlink\" xml:lang=\"es\" id=\"e948096a244f42b49020e10705c25ca8-0\" class=\"displacy\" width=\"2450\" height=\"487.0\" direction=\"ltr\" style=\"max-width: none; height: 487.0px; color: #000000; background: #ffffff; font-family: Arial; direction: ltr\">\n",
       "<text class=\"displacy-token\" fill=\"currentColor\" text-anchor=\"middle\" y=\"397.0\">\n",
       "    <tspan class=\"displacy-word\" fill=\"currentColor\" x=\"50\">¿</tspan>\n",
       "    <tspan class=\"displacy-tag\" dy=\"2em\" fill=\"currentColor\" x=\"50\">PUNCT</tspan>\n",
       "</text>\n",
       "\n",
       "<text class=\"displacy-token\" fill=\"currentColor\" text-anchor=\"middle\" y=\"397.0\">\n",
       "    <tspan class=\"displacy-word\" fill=\"currentColor\" x=\"150\">Por</tspan>\n",
       "    <tspan class=\"displacy-tag\" dy=\"2em\" fill=\"currentColor\" x=\"150\">ADP</tspan>\n",
       "</text>\n",
       "\n",
       "<text class=\"displacy-token\" fill=\"currentColor\" text-anchor=\"middle\" y=\"397.0\">\n",
       "    <tspan class=\"displacy-word\" fill=\"currentColor\" x=\"250\">qué</tspan>\n",
       "    <tspan class=\"displacy-tag\" dy=\"2em\" fill=\"currentColor\" x=\"250\">PRON</tspan>\n",
       "</text>\n",
       "\n",
       "<text class=\"displacy-token\" fill=\"currentColor\" text-anchor=\"middle\" y=\"397.0\">\n",
       "    <tspan class=\"displacy-word\" fill=\"currentColor\" x=\"350\">a</tspan>\n",
       "    <tspan class=\"displacy-tag\" dy=\"2em\" fill=\"currentColor\" x=\"350\">ADP</tspan>\n",
       "</text>\n",
       "\n",
       "<text class=\"displacy-token\" fill=\"currentColor\" text-anchor=\"middle\" y=\"397.0\">\n",
       "    <tspan class=\"displacy-word\" fill=\"currentColor\" x=\"450\">la</tspan>\n",
       "    <tspan class=\"displacy-tag\" dy=\"2em\" fill=\"currentColor\" x=\"450\">DET</tspan>\n",
       "</text>\n",
       "\n",
       "<text class=\"displacy-token\" fill=\"currentColor\" text-anchor=\"middle\" y=\"397.0\">\n",
       "    <tspan class=\"displacy-word\" fill=\"currentColor\" x=\"550\">cama</tspan>\n",
       "    <tspan class=\"displacy-tag\" dy=\"2em\" fill=\"currentColor\" x=\"550\">NOUN</tspan>\n",
       "</text>\n",
       "\n",
       "<text class=\"displacy-token\" fill=\"currentColor\" text-anchor=\"middle\" y=\"397.0\">\n",
       "    <tspan class=\"displacy-word\" fill=\"currentColor\" x=\"650\">se</tspan>\n",
       "    <tspan class=\"displacy-tag\" dy=\"2em\" fill=\"currentColor\" x=\"650\">PRON</tspan>\n",
       "</text>\n",
       "\n",
       "<text class=\"displacy-token\" fill=\"currentColor\" text-anchor=\"middle\" y=\"397.0\">\n",
       "    <tspan class=\"displacy-word\" fill=\"currentColor\" x=\"750\">le</tspan>\n",
       "    <tspan class=\"displacy-tag\" dy=\"2em\" fill=\"currentColor\" x=\"750\">PRON</tspan>\n",
       "</text>\n",
       "\n",
       "<text class=\"displacy-token\" fill=\"currentColor\" text-anchor=\"middle\" y=\"397.0\">\n",
       "    <tspan class=\"displacy-word\" fill=\"currentColor\" x=\"850\">llama</tspan>\n",
       "    <tspan class=\"displacy-tag\" dy=\"2em\" fill=\"currentColor\" x=\"850\">VERB</tspan>\n",
       "</text>\n",
       "\n",
       "<text class=\"displacy-token\" fill=\"currentColor\" text-anchor=\"middle\" y=\"397.0\">\n",
       "    <tspan class=\"displacy-word\" fill=\"currentColor\" x=\"950\">cama</tspan>\n",
       "    <tspan class=\"displacy-tag\" dy=\"2em\" fill=\"currentColor\" x=\"950\">NOUN</tspan>\n",
       "</text>\n",
       "\n",
       "<text class=\"displacy-token\" fill=\"currentColor\" text-anchor=\"middle\" y=\"397.0\">\n",
       "    <tspan class=\"displacy-word\" fill=\"currentColor\" x=\"1050\">y</tspan>\n",
       "    <tspan class=\"displacy-tag\" dy=\"2em\" fill=\"currentColor\" x=\"1050\">CCONJ</tspan>\n",
       "</text>\n",
       "\n",
       "<text class=\"displacy-token\" fill=\"currentColor\" text-anchor=\"middle\" y=\"397.0\">\n",
       "    <tspan class=\"displacy-word\" fill=\"currentColor\" x=\"1150\">a</tspan>\n",
       "    <tspan class=\"displacy-tag\" dy=\"2em\" fill=\"currentColor\" x=\"1150\">ADP</tspan>\n",
       "</text>\n",
       "\n",
       "<text class=\"displacy-token\" fill=\"currentColor\" text-anchor=\"middle\" y=\"397.0\">\n",
       "    <tspan class=\"displacy-word\" fill=\"currentColor\" x=\"1250\">la</tspan>\n",
       "    <tspan class=\"displacy-tag\" dy=\"2em\" fill=\"currentColor\" x=\"1250\">DET</tspan>\n",
       "</text>\n",
       "\n",
       "<text class=\"displacy-token\" fill=\"currentColor\" text-anchor=\"middle\" y=\"397.0\">\n",
       "    <tspan class=\"displacy-word\" fill=\"currentColor\" x=\"1350\">cómoda</tspan>\n",
       "    <tspan class=\"displacy-tag\" dy=\"2em\" fill=\"currentColor\" x=\"1350\">INTJ</tspan>\n",
       "</text>\n",
       "\n",
       "<text class=\"displacy-token\" fill=\"currentColor\" text-anchor=\"middle\" y=\"397.0\">\n",
       "    <tspan class=\"displacy-word\" fill=\"currentColor\" x=\"1450\">cómoda,</tspan>\n",
       "    <tspan class=\"displacy-tag\" dy=\"2em\" fill=\"currentColor\" x=\"1450\">ADJ</tspan>\n",
       "</text>\n",
       "\n",
       "<text class=\"displacy-token\" fill=\"currentColor\" text-anchor=\"middle\" y=\"397.0\">\n",
       "    <tspan class=\"displacy-word\" fill=\"currentColor\" x=\"1550\">si</tspan>\n",
       "    <tspan class=\"displacy-tag\" dy=\"2em\" fill=\"currentColor\" x=\"1550\">SCONJ</tspan>\n",
       "</text>\n",
       "\n",
       "<text class=\"displacy-token\" fill=\"currentColor\" text-anchor=\"middle\" y=\"397.0\">\n",
       "    <tspan class=\"displacy-word\" fill=\"currentColor\" x=\"1650\">es</tspan>\n",
       "    <tspan class=\"displacy-tag\" dy=\"2em\" fill=\"currentColor\" x=\"1650\">AUX</tspan>\n",
       "</text>\n",
       "\n",
       "<text class=\"displacy-token\" fill=\"currentColor\" text-anchor=\"middle\" y=\"397.0\">\n",
       "    <tspan class=\"displacy-word\" fill=\"currentColor\" x=\"1750\">más</tspan>\n",
       "    <tspan class=\"displacy-tag\" dy=\"2em\" fill=\"currentColor\" x=\"1750\">ADV</tspan>\n",
       "</text>\n",
       "\n",
       "<text class=\"displacy-token\" fill=\"currentColor\" text-anchor=\"middle\" y=\"397.0\">\n",
       "    <tspan class=\"displacy-word\" fill=\"currentColor\" x=\"1850\">cómoda</tspan>\n",
       "    <tspan class=\"displacy-tag\" dy=\"2em\" fill=\"currentColor\" x=\"1850\">ADJ</tspan>\n",
       "</text>\n",
       "\n",
       "<text class=\"displacy-token\" fill=\"currentColor\" text-anchor=\"middle\" y=\"397.0\">\n",
       "    <tspan class=\"displacy-word\" fill=\"currentColor\" x=\"1950\">la</tspan>\n",
       "    <tspan class=\"displacy-tag\" dy=\"2em\" fill=\"currentColor\" x=\"1950\">DET</tspan>\n",
       "</text>\n",
       "\n",
       "<text class=\"displacy-token\" fill=\"currentColor\" text-anchor=\"middle\" y=\"397.0\">\n",
       "    <tspan class=\"displacy-word\" fill=\"currentColor\" x=\"2050\">cama</tspan>\n",
       "    <tspan class=\"displacy-tag\" dy=\"2em\" fill=\"currentColor\" x=\"2050\">NOUN</tspan>\n",
       "</text>\n",
       "\n",
       "<text class=\"displacy-token\" fill=\"currentColor\" text-anchor=\"middle\" y=\"397.0\">\n",
       "    <tspan class=\"displacy-word\" fill=\"currentColor\" x=\"2150\">que</tspan>\n",
       "    <tspan class=\"displacy-tag\" dy=\"2em\" fill=\"currentColor\" x=\"2150\">SCONJ</tspan>\n",
       "</text>\n",
       "\n",
       "<text class=\"displacy-token\" fill=\"currentColor\" text-anchor=\"middle\" y=\"397.0\">\n",
       "    <tspan class=\"displacy-word\" fill=\"currentColor\" x=\"2250\">la</tspan>\n",
       "    <tspan class=\"displacy-tag\" dy=\"2em\" fill=\"currentColor\" x=\"2250\">DET</tspan>\n",
       "</text>\n",
       "\n",
       "<text class=\"displacy-token\" fill=\"currentColor\" text-anchor=\"middle\" y=\"397.0\">\n",
       "    <tspan class=\"displacy-word\" fill=\"currentColor\" x=\"2350\">cómoda?</tspan>\n",
       "    <tspan class=\"displacy-tag\" dy=\"2em\" fill=\"currentColor\" x=\"2350\">NOUN</tspan>\n",
       "</text>\n",
       "\n",
       "<g class=\"displacy-arrow\">\n",
       "    <path class=\"displacy-arc\" id=\"arrow-e948096a244f42b49020e10705c25ca8-0-0\" stroke-width=\"2px\" d=\"M70,352.0 C70,52.0 845.0,52.0 845.0,352.0\" fill=\"none\" stroke=\"currentColor\"/>\n",
       "    <text dy=\"1.25em\" style=\"font-size: 0.8em; letter-spacing: 1px\">\n",
       "        <textPath xlink:href=\"#arrow-e948096a244f42b49020e10705c25ca8-0-0\" class=\"displacy-label\" startOffset=\"50%\" side=\"left\" fill=\"currentColor\" text-anchor=\"middle\">punct</textPath>\n",
       "    </text>\n",
       "    <path class=\"displacy-arrowhead\" d=\"M70,354.0 L62,342.0 78,342.0\" fill=\"currentColor\"/>\n",
       "</g>\n",
       "\n",
       "<g class=\"displacy-arrow\">\n",
       "    <path class=\"displacy-arc\" id=\"arrow-e948096a244f42b49020e10705c25ca8-0-1\" stroke-width=\"2px\" d=\"M170,352.0 C170,302.0 220.0,302.0 220.0,352.0\" fill=\"none\" stroke=\"currentColor\"/>\n",
       "    <text dy=\"1.25em\" style=\"font-size: 0.8em; letter-spacing: 1px\">\n",
       "        <textPath xlink:href=\"#arrow-e948096a244f42b49020e10705c25ca8-0-1\" class=\"displacy-label\" startOffset=\"50%\" side=\"left\" fill=\"currentColor\" text-anchor=\"middle\">case</textPath>\n",
       "    </text>\n",
       "    <path class=\"displacy-arrowhead\" d=\"M170,354.0 L162,342.0 178,342.0\" fill=\"currentColor\"/>\n",
       "</g>\n",
       "\n",
       "<g class=\"displacy-arrow\">\n",
       "    <path class=\"displacy-arc\" id=\"arrow-e948096a244f42b49020e10705c25ca8-0-2\" stroke-width=\"2px\" d=\"M270,352.0 C270,102.0 840.0,102.0 840.0,352.0\" fill=\"none\" stroke=\"currentColor\"/>\n",
       "    <text dy=\"1.25em\" style=\"font-size: 0.8em; letter-spacing: 1px\">\n",
       "        <textPath xlink:href=\"#arrow-e948096a244f42b49020e10705c25ca8-0-2\" class=\"displacy-label\" startOffset=\"50%\" side=\"left\" fill=\"currentColor\" text-anchor=\"middle\">obl</textPath>\n",
       "    </text>\n",
       "    <path class=\"displacy-arrowhead\" d=\"M270,354.0 L262,342.0 278,342.0\" fill=\"currentColor\"/>\n",
       "</g>\n",
       "\n",
       "<g class=\"displacy-arrow\">\n",
       "    <path class=\"displacy-arc\" id=\"arrow-e948096a244f42b49020e10705c25ca8-0-3\" stroke-width=\"2px\" d=\"M370,352.0 C370,252.0 525.0,252.0 525.0,352.0\" fill=\"none\" stroke=\"currentColor\"/>\n",
       "    <text dy=\"1.25em\" style=\"font-size: 0.8em; letter-spacing: 1px\">\n",
       "        <textPath xlink:href=\"#arrow-e948096a244f42b49020e10705c25ca8-0-3\" class=\"displacy-label\" startOffset=\"50%\" side=\"left\" fill=\"currentColor\" text-anchor=\"middle\">case</textPath>\n",
       "    </text>\n",
       "    <path class=\"displacy-arrowhead\" d=\"M370,354.0 L362,342.0 378,342.0\" fill=\"currentColor\"/>\n",
       "</g>\n",
       "\n",
       "<g class=\"displacy-arrow\">\n",
       "    <path class=\"displacy-arc\" id=\"arrow-e948096a244f42b49020e10705c25ca8-0-4\" stroke-width=\"2px\" d=\"M470,352.0 C470,302.0 520.0,302.0 520.0,352.0\" fill=\"none\" stroke=\"currentColor\"/>\n",
       "    <text dy=\"1.25em\" style=\"font-size: 0.8em; letter-spacing: 1px\">\n",
       "        <textPath xlink:href=\"#arrow-e948096a244f42b49020e10705c25ca8-0-4\" class=\"displacy-label\" startOffset=\"50%\" side=\"left\" fill=\"currentColor\" text-anchor=\"middle\">det</textPath>\n",
       "    </text>\n",
       "    <path class=\"displacy-arrowhead\" d=\"M470,354.0 L462,342.0 478,342.0\" fill=\"currentColor\"/>\n",
       "</g>\n",
       "\n",
       "<g class=\"displacy-arrow\">\n",
       "    <path class=\"displacy-arc\" id=\"arrow-e948096a244f42b49020e10705c25ca8-0-5\" stroke-width=\"2px\" d=\"M570,352.0 C570,202.0 830.0,202.0 830.0,352.0\" fill=\"none\" stroke=\"currentColor\"/>\n",
       "    <text dy=\"1.25em\" style=\"font-size: 0.8em; letter-spacing: 1px\">\n",
       "        <textPath xlink:href=\"#arrow-e948096a244f42b49020e10705c25ca8-0-5\" class=\"displacy-label\" startOffset=\"50%\" side=\"left\" fill=\"currentColor\" text-anchor=\"middle\">obl</textPath>\n",
       "    </text>\n",
       "    <path class=\"displacy-arrowhead\" d=\"M570,354.0 L562,342.0 578,342.0\" fill=\"currentColor\"/>\n",
       "</g>\n",
       "\n",
       "<g class=\"displacy-arrow\">\n",
       "    <path class=\"displacy-arc\" id=\"arrow-e948096a244f42b49020e10705c25ca8-0-6\" stroke-width=\"2px\" d=\"M670,352.0 C670,252.0 825.0,252.0 825.0,352.0\" fill=\"none\" stroke=\"currentColor\"/>\n",
       "    <text dy=\"1.25em\" style=\"font-size: 0.8em; letter-spacing: 1px\">\n",
       "        <textPath xlink:href=\"#arrow-e948096a244f42b49020e10705c25ca8-0-6\" class=\"displacy-label\" startOffset=\"50%\" side=\"left\" fill=\"currentColor\" text-anchor=\"middle\">obj</textPath>\n",
       "    </text>\n",
       "    <path class=\"displacy-arrowhead\" d=\"M670,354.0 L662,342.0 678,342.0\" fill=\"currentColor\"/>\n",
       "</g>\n",
       "\n",
       "<g class=\"displacy-arrow\">\n",
       "    <path class=\"displacy-arc\" id=\"arrow-e948096a244f42b49020e10705c25ca8-0-7\" stroke-width=\"2px\" d=\"M770,352.0 C770,302.0 820.0,302.0 820.0,352.0\" fill=\"none\" stroke=\"currentColor\"/>\n",
       "    <text dy=\"1.25em\" style=\"font-size: 0.8em; letter-spacing: 1px\">\n",
       "        <textPath xlink:href=\"#arrow-e948096a244f42b49020e10705c25ca8-0-7\" class=\"displacy-label\" startOffset=\"50%\" side=\"left\" fill=\"currentColor\" text-anchor=\"middle\">obj</textPath>\n",
       "    </text>\n",
       "    <path class=\"displacy-arrowhead\" d=\"M770,354.0 L762,342.0 778,342.0\" fill=\"currentColor\"/>\n",
       "</g>\n",
       "\n",
       "<g class=\"displacy-arrow\">\n",
       "    <path class=\"displacy-arc\" id=\"arrow-e948096a244f42b49020e10705c25ca8-0-8\" stroke-width=\"2px\" d=\"M870,352.0 C870,302.0 920.0,302.0 920.0,352.0\" fill=\"none\" stroke=\"currentColor\"/>\n",
       "    <text dy=\"1.25em\" style=\"font-size: 0.8em; letter-spacing: 1px\">\n",
       "        <textPath xlink:href=\"#arrow-e948096a244f42b49020e10705c25ca8-0-8\" class=\"displacy-label\" startOffset=\"50%\" side=\"left\" fill=\"currentColor\" text-anchor=\"middle\">obj</textPath>\n",
       "    </text>\n",
       "    <path class=\"displacy-arrowhead\" d=\"M920.0,354.0 L928.0,342.0 912.0,342.0\" fill=\"currentColor\"/>\n",
       "</g>\n",
       "\n",
       "<g class=\"displacy-arrow\">\n",
       "    <path class=\"displacy-arc\" id=\"arrow-e948096a244f42b49020e10705c25ca8-0-9\" stroke-width=\"2px\" d=\"M1070,352.0 C1070,202.0 1330.0,202.0 1330.0,352.0\" fill=\"none\" stroke=\"currentColor\"/>\n",
       "    <text dy=\"1.25em\" style=\"font-size: 0.8em; letter-spacing: 1px\">\n",
       "        <textPath xlink:href=\"#arrow-e948096a244f42b49020e10705c25ca8-0-9\" class=\"displacy-label\" startOffset=\"50%\" side=\"left\" fill=\"currentColor\" text-anchor=\"middle\">cc</textPath>\n",
       "    </text>\n",
       "    <path class=\"displacy-arrowhead\" d=\"M1070,354.0 L1062,342.0 1078,342.0\" fill=\"currentColor\"/>\n",
       "</g>\n",
       "\n",
       "<g class=\"displacy-arrow\">\n",
       "    <path class=\"displacy-arc\" id=\"arrow-e948096a244f42b49020e10705c25ca8-0-10\" stroke-width=\"2px\" d=\"M1170,352.0 C1170,252.0 1325.0,252.0 1325.0,352.0\" fill=\"none\" stroke=\"currentColor\"/>\n",
       "    <text dy=\"1.25em\" style=\"font-size: 0.8em; letter-spacing: 1px\">\n",
       "        <textPath xlink:href=\"#arrow-e948096a244f42b49020e10705c25ca8-0-10\" class=\"displacy-label\" startOffset=\"50%\" side=\"left\" fill=\"currentColor\" text-anchor=\"middle\">case</textPath>\n",
       "    </text>\n",
       "    <path class=\"displacy-arrowhead\" d=\"M1170,354.0 L1162,342.0 1178,342.0\" fill=\"currentColor\"/>\n",
       "</g>\n",
       "\n",
       "<g class=\"displacy-arrow\">\n",
       "    <path class=\"displacy-arc\" id=\"arrow-e948096a244f42b49020e10705c25ca8-0-11\" stroke-width=\"2px\" d=\"M1270,352.0 C1270,302.0 1320.0,302.0 1320.0,352.0\" fill=\"none\" stroke=\"currentColor\"/>\n",
       "    <text dy=\"1.25em\" style=\"font-size: 0.8em; letter-spacing: 1px\">\n",
       "        <textPath xlink:href=\"#arrow-e948096a244f42b49020e10705c25ca8-0-11\" class=\"displacy-label\" startOffset=\"50%\" side=\"left\" fill=\"currentColor\" text-anchor=\"middle\">det</textPath>\n",
       "    </text>\n",
       "    <path class=\"displacy-arrowhead\" d=\"M1270,354.0 L1262,342.0 1278,342.0\" fill=\"currentColor\"/>\n",
       "</g>\n",
       "\n",
       "<g class=\"displacy-arrow\">\n",
       "    <path class=\"displacy-arc\" id=\"arrow-e948096a244f42b49020e10705c25ca8-0-12\" stroke-width=\"2px\" d=\"M970,352.0 C970,152.0 1335.0,152.0 1335.0,352.0\" fill=\"none\" stroke=\"currentColor\"/>\n",
       "    <text dy=\"1.25em\" style=\"font-size: 0.8em; letter-spacing: 1px\">\n",
       "        <textPath xlink:href=\"#arrow-e948096a244f42b49020e10705c25ca8-0-12\" class=\"displacy-label\" startOffset=\"50%\" side=\"left\" fill=\"currentColor\" text-anchor=\"middle\">conj</textPath>\n",
       "    </text>\n",
       "    <path class=\"displacy-arrowhead\" d=\"M1335.0,354.0 L1343.0,342.0 1327.0,342.0\" fill=\"currentColor\"/>\n",
       "</g>\n",
       "\n",
       "<g class=\"displacy-arrow\">\n",
       "    <path class=\"displacy-arc\" id=\"arrow-e948096a244f42b49020e10705c25ca8-0-13\" stroke-width=\"2px\" d=\"M1370,352.0 C1370,302.0 1420.0,302.0 1420.0,352.0\" fill=\"none\" stroke=\"currentColor\"/>\n",
       "    <text dy=\"1.25em\" style=\"font-size: 0.8em; letter-spacing: 1px\">\n",
       "        <textPath xlink:href=\"#arrow-e948096a244f42b49020e10705c25ca8-0-13\" class=\"displacy-label\" startOffset=\"50%\" side=\"left\" fill=\"currentColor\" text-anchor=\"middle\">amod</textPath>\n",
       "    </text>\n",
       "    <path class=\"displacy-arrowhead\" d=\"M1420.0,354.0 L1428.0,342.0 1412.0,342.0\" fill=\"currentColor\"/>\n",
       "</g>\n",
       "\n",
       "<g class=\"displacy-arrow\">\n",
       "    <path class=\"displacy-arc\" id=\"arrow-e948096a244f42b49020e10705c25ca8-0-14\" stroke-width=\"2px\" d=\"M1570,352.0 C1570,202.0 1830.0,202.0 1830.0,352.0\" fill=\"none\" stroke=\"currentColor\"/>\n",
       "    <text dy=\"1.25em\" style=\"font-size: 0.8em; letter-spacing: 1px\">\n",
       "        <textPath xlink:href=\"#arrow-e948096a244f42b49020e10705c25ca8-0-14\" class=\"displacy-label\" startOffset=\"50%\" side=\"left\" fill=\"currentColor\" text-anchor=\"middle\">mark</textPath>\n",
       "    </text>\n",
       "    <path class=\"displacy-arrowhead\" d=\"M1570,354.0 L1562,342.0 1578,342.0\" fill=\"currentColor\"/>\n",
       "</g>\n",
       "\n",
       "<g class=\"displacy-arrow\">\n",
       "    <path class=\"displacy-arc\" id=\"arrow-e948096a244f42b49020e10705c25ca8-0-15\" stroke-width=\"2px\" d=\"M1670,352.0 C1670,252.0 1825.0,252.0 1825.0,352.0\" fill=\"none\" stroke=\"currentColor\"/>\n",
       "    <text dy=\"1.25em\" style=\"font-size: 0.8em; letter-spacing: 1px\">\n",
       "        <textPath xlink:href=\"#arrow-e948096a244f42b49020e10705c25ca8-0-15\" class=\"displacy-label\" startOffset=\"50%\" side=\"left\" fill=\"currentColor\" text-anchor=\"middle\">cop</textPath>\n",
       "    </text>\n",
       "    <path class=\"displacy-arrowhead\" d=\"M1670,354.0 L1662,342.0 1678,342.0\" fill=\"currentColor\"/>\n",
       "</g>\n",
       "\n",
       "<g class=\"displacy-arrow\">\n",
       "    <path class=\"displacy-arc\" id=\"arrow-e948096a244f42b49020e10705c25ca8-0-16\" stroke-width=\"2px\" d=\"M1770,352.0 C1770,302.0 1820.0,302.0 1820.0,352.0\" fill=\"none\" stroke=\"currentColor\"/>\n",
       "    <text dy=\"1.25em\" style=\"font-size: 0.8em; letter-spacing: 1px\">\n",
       "        <textPath xlink:href=\"#arrow-e948096a244f42b49020e10705c25ca8-0-16\" class=\"displacy-label\" startOffset=\"50%\" side=\"left\" fill=\"currentColor\" text-anchor=\"middle\">advmod</textPath>\n",
       "    </text>\n",
       "    <path class=\"displacy-arrowhead\" d=\"M1770,354.0 L1762,342.0 1778,342.0\" fill=\"currentColor\"/>\n",
       "</g>\n",
       "\n",
       "<g class=\"displacy-arrow\">\n",
       "    <path class=\"displacy-arc\" id=\"arrow-e948096a244f42b49020e10705c25ca8-0-17\" stroke-width=\"2px\" d=\"M870,352.0 C870,2.0 1850.0,2.0 1850.0,352.0\" fill=\"none\" stroke=\"currentColor\"/>\n",
       "    <text dy=\"1.25em\" style=\"font-size: 0.8em; letter-spacing: 1px\">\n",
       "        <textPath xlink:href=\"#arrow-e948096a244f42b49020e10705c25ca8-0-17\" class=\"displacy-label\" startOffset=\"50%\" side=\"left\" fill=\"currentColor\" text-anchor=\"middle\">advcl</textPath>\n",
       "    </text>\n",
       "    <path class=\"displacy-arrowhead\" d=\"M1850.0,354.0 L1858.0,342.0 1842.0,342.0\" fill=\"currentColor\"/>\n",
       "</g>\n",
       "\n",
       "<g class=\"displacy-arrow\">\n",
       "    <path class=\"displacy-arc\" id=\"arrow-e948096a244f42b49020e10705c25ca8-0-18\" stroke-width=\"2px\" d=\"M1970,352.0 C1970,302.0 2020.0,302.0 2020.0,352.0\" fill=\"none\" stroke=\"currentColor\"/>\n",
       "    <text dy=\"1.25em\" style=\"font-size: 0.8em; letter-spacing: 1px\">\n",
       "        <textPath xlink:href=\"#arrow-e948096a244f42b49020e10705c25ca8-0-18\" class=\"displacy-label\" startOffset=\"50%\" side=\"left\" fill=\"currentColor\" text-anchor=\"middle\">det</textPath>\n",
       "    </text>\n",
       "    <path class=\"displacy-arrowhead\" d=\"M1970,354.0 L1962,342.0 1978,342.0\" fill=\"currentColor\"/>\n",
       "</g>\n",
       "\n",
       "<g class=\"displacy-arrow\">\n",
       "    <path class=\"displacy-arc\" id=\"arrow-e948096a244f42b49020e10705c25ca8-0-19\" stroke-width=\"2px\" d=\"M1870,352.0 C1870,252.0 2025.0,252.0 2025.0,352.0\" fill=\"none\" stroke=\"currentColor\"/>\n",
       "    <text dy=\"1.25em\" style=\"font-size: 0.8em; letter-spacing: 1px\">\n",
       "        <textPath xlink:href=\"#arrow-e948096a244f42b49020e10705c25ca8-0-19\" class=\"displacy-label\" startOffset=\"50%\" side=\"left\" fill=\"currentColor\" text-anchor=\"middle\">nsubj</textPath>\n",
       "    </text>\n",
       "    <path class=\"displacy-arrowhead\" d=\"M2025.0,354.0 L2033.0,342.0 2017.0,342.0\" fill=\"currentColor\"/>\n",
       "</g>\n",
       "\n",
       "<g class=\"displacy-arrow\">\n",
       "    <path class=\"displacy-arc\" id=\"arrow-e948096a244f42b49020e10705c25ca8-0-20\" stroke-width=\"2px\" d=\"M2170,352.0 C2170,252.0 2325.0,252.0 2325.0,352.0\" fill=\"none\" stroke=\"currentColor\"/>\n",
       "    <text dy=\"1.25em\" style=\"font-size: 0.8em; letter-spacing: 1px\">\n",
       "        <textPath xlink:href=\"#arrow-e948096a244f42b49020e10705c25ca8-0-20\" class=\"displacy-label\" startOffset=\"50%\" side=\"left\" fill=\"currentColor\" text-anchor=\"middle\">mark</textPath>\n",
       "    </text>\n",
       "    <path class=\"displacy-arrowhead\" d=\"M2170,354.0 L2162,342.0 2178,342.0\" fill=\"currentColor\"/>\n",
       "</g>\n",
       "\n",
       "<g class=\"displacy-arrow\">\n",
       "    <path class=\"displacy-arc\" id=\"arrow-e948096a244f42b49020e10705c25ca8-0-21\" stroke-width=\"2px\" d=\"M2270,352.0 C2270,302.0 2320.0,302.0 2320.0,352.0\" fill=\"none\" stroke=\"currentColor\"/>\n",
       "    <text dy=\"1.25em\" style=\"font-size: 0.8em; letter-spacing: 1px\">\n",
       "        <textPath xlink:href=\"#arrow-e948096a244f42b49020e10705c25ca8-0-21\" class=\"displacy-label\" startOffset=\"50%\" side=\"left\" fill=\"currentColor\" text-anchor=\"middle\">det</textPath>\n",
       "    </text>\n",
       "    <path class=\"displacy-arrowhead\" d=\"M2270,354.0 L2262,342.0 2278,342.0\" fill=\"currentColor\"/>\n",
       "</g>\n",
       "\n",
       "<g class=\"displacy-arrow\">\n",
       "    <path class=\"displacy-arc\" id=\"arrow-e948096a244f42b49020e10705c25ca8-0-22\" stroke-width=\"2px\" d=\"M2070,352.0 C2070,202.0 2330.0,202.0 2330.0,352.0\" fill=\"none\" stroke=\"currentColor\"/>\n",
       "    <text dy=\"1.25em\" style=\"font-size: 0.8em; letter-spacing: 1px\">\n",
       "        <textPath xlink:href=\"#arrow-e948096a244f42b49020e10705c25ca8-0-22\" class=\"displacy-label\" startOffset=\"50%\" side=\"left\" fill=\"currentColor\" text-anchor=\"middle\">acl</textPath>\n",
       "    </text>\n",
       "    <path class=\"displacy-arrowhead\" d=\"M2330.0,354.0 L2338.0,342.0 2322.0,342.0\" fill=\"currentColor\"/>\n",
       "</g>\n",
       "</svg></span>"
      ],
      "text/plain": [
       "<IPython.core.display.HTML object>"
      ]
     },
     "metadata": {},
     "output_type": "display_data"
    }
   ],
   "source": [
    "import spacy\n",
    "from spacy import displacy\n",
    "\n",
    "# Show POS and synthatic dependencies\n",
    "displacy.render(doc33, style=\"dep\", jupyter=True, options={'distance': 100})"
   ]
  },
  {
   "cell_type": "code",
   "execution_count": 30,
   "metadata": {},
   "outputs": [
    {
     "name": "stderr",
     "output_type": "stream",
     "text": [
      "/opt/anaconda3/lib/python3.8/site-packages/spacy/displacy/__init__.py:189: UserWarning: [W006] No entities to visualize found in Doc object. If this is surprising to you, make sure the Doc was processed using a model that supports named entity recognition, and check the `doc.ents` property manually if necessary.\n",
      "  warnings.warn(Warnings.W006)\n"
     ]
    },
    {
     "data": {
      "text/html": [
       "<span class=\"tex2jax_ignore\"><div class=\"entities\" style=\"line-height: 2.5; direction: ltr\">¿Por qué a la cama se le llama cama y a la cómoda cómoda, si es más cómoda la cama que la cómoda?</div></span>"
      ],
      "text/plain": [
       "<IPython.core.display.HTML object>"
      ]
     },
     "metadata": {},
     "output_type": "display_data"
    }
   ],
   "source": [
    "# The entity visualizer highlights named entities and their labels in the text\n",
    "displacy.render(doc33, style=\"ent\", jupyter=True, options={'distance': 100})"
   ]
  },
  {
   "cell_type": "markdown",
   "metadata": {
    "id": "1zXsGHrIqadY"
   },
   "source": [
    "#### Tokenization rules\n",
    "\n",
    "The tokenization applies rules specific to each language. For instance, punctuation at the end of a sentence should be split off – whereas “U.K.” should remain one token. Also don't should be split as **do** and **not** and such.\n",
    "\n",
    "Those form part of the tokenizer exceptions, that make all that decisions for each language model on whether to split a word or not.\n",
    "\n",
    "* **Tokenizer exception**: Special-case rule to split a string into several tokens or prevent a token from being split when punctuation rules are applied.\n",
    "* **Prefix**: Character(s) at the beginning, e.g. $, (, “, ¿.\n",
    "* **Suffix**: Character(s) at the end, e.g. km, ), ”, !.\n",
    "* **Infix**: Character(s) in between, e.g. -, --, /, ….\n",
    "\n",
    "If we want to change the tokenization or add some, we will need to create our own rules (rarely used unless you are dealing with scientific/slang languages)."
   ]
  },
  {
   "cell_type": "code",
   "execution_count": 31,
   "metadata": {
    "id": "DS48FrWKskO3"
   },
   "outputs": [],
   "source": [
    "text_sentence_3 = \"I was accepted at UCL-CV Master in U.K., but I didn't have enough money for it!\""
   ]
  },
  {
   "cell_type": "code",
   "execution_count": 32,
   "metadata": {
    "colab": {
     "base_uri": "https://localhost:8080/"
    },
    "id": "BLSJVLMerHhf",
    "outputId": "2716a32b-ee33-431b-cf7f-a48cecdcef5f"
   },
   "outputs": [
    {
     "data": {
      "text/plain": [
       "['I',\n",
       " 'was',\n",
       " 'accepted',\n",
       " 'at',\n",
       " 'UCL-CV',\n",
       " 'Master',\n",
       " 'in',\n",
       " 'U.K.,',\n",
       " 'but',\n",
       " 'I',\n",
       " \"didn't\",\n",
       " 'have',\n",
       " 'enough',\n",
       " 'money',\n",
       " 'for',\n",
       " 'it!']"
      ]
     },
     "execution_count": 32,
     "metadata": {},
     "output_type": "execute_result"
    }
   ],
   "source": [
    "\"\"\"\n",
    "With Python we can also split the text using .split().\n",
    "\n",
    "The problem is that we do not retain contextual token information.\n",
    "Such as do/not or punctuations such as commas or exclamations.\n",
    "\"\"\"\n",
    "\n",
    "text_sentence_3.split(' ')"
   ]
  },
  {
   "cell_type": "code",
   "execution_count": 33,
   "metadata": {
    "colab": {
     "base_uri": "https://localhost:8080/"
    },
    "id": "er1OCTJSlz4u",
    "outputId": "43540239-90f7-468d-b15d-265d91fa82fb"
   },
   "outputs": [
    {
     "name": "stdout",
     "output_type": "stream",
     "text": [
      "I\n",
      "was\n",
      "accepted\n",
      "at\n",
      "UCL\n",
      "-\n",
      "CV\n",
      "Master\n",
      "in\n",
      "U.K.\n",
      ",\n",
      "but\n",
      "I\n",
      "did\n",
      "n't\n",
      "have\n",
      "enough\n",
      "money\n",
      "for\n",
      "it\n",
      "!\n"
     ]
    }
   ],
   "source": [
    "doc3 = nlp(text_sentence_3)\n",
    "\n",
    "for token in doc3:\n",
    "    print(token.text)"
   ]
  },
  {
   "cell_type": "markdown",
   "metadata": {
    "id": "RsidWPPVvgvu"
   },
   "source": [
    "##### Creating our own rule\n",
    "\n",
    "Global and language-specific tokenizer data is supplied via the language data in spacy/lang. The tokenizer exceptions define special cases like “don’t” in English, which needs to be split into two tokens: {ORTH: \"do\"} and {ORTH: \"n't\", NORM: \"not\"}. The prefixes, suffixes and infixes mostly define punctuation rules – for example, when to split off periods (at the end of a sentence), and when to leave tokens containing periods intact (abbreviations like “U.S.”).\n",
    "\n",
    "![alt text](https://spacy.io/language_data-ef63e6a58b7ec47c073fb59857a76e5f.svg)\n",
    "\n",
    "Anything that’s specific to a domain or text type – like financial trading abbreviations, or Bavarian youth slang – should be added as a special case rule to your tokenizer instance. If you’re dealing with a lot of customizations, it might make sense to create an entirely custom subclass."
   ]
  },
  {
   "cell_type": "code",
   "execution_count": 34,
   "metadata": {
    "colab": {
     "base_uri": "https://localhost:8080/"
    },
    "id": "XspIC2OirfGu",
    "outputId": "89d3c556-203e-4963-ce58-15ccc29813ae"
   },
   "outputs": [
    {
     "name": "stdout",
     "output_type": "stream",
     "text": [
      "Hey\n",
      ",\n",
      "gimme\n",
      "your\n",
      "money\n"
     ]
    }
   ],
   "source": [
    "import spacy\n",
    "\n",
    "nlp = spacy.load(\"en_core_web_sm\")\n",
    "\n",
    "text_sentence_4 = \"Hey, gimme your money\" \n",
    "\n",
    "doc4 = nlp(text_sentence_4)\n",
    "\n",
    "for token in doc4:\n",
    "    print(token.text)"
   ]
  },
  {
   "cell_type": "code",
   "execution_count": 35,
   "metadata": {
    "id": "ttqRCuuQw6On"
   },
   "outputs": [],
   "source": [
    "import spacy\n",
    "from spacy.symbols import ORTH\n",
    "\n",
    "nlp = spacy.load(\"en_core_web_sm\") \n",
    "\n",
    "text_sentence_4 = \"Hey, gimme your money\" \n",
    "doc4 = nlp(text_sentence_4)\n",
    "\n",
    "# Add special case rule\n",
    "special_case = [{ORTH: \"gim\"}, {ORTH: \"me\"}]\n",
    "nlp.tokenizer.add_special_case(\"gimme\", special_case)"
   ]
  },
  {
   "cell_type": "code",
   "execution_count": 36,
   "metadata": {
    "colab": {
     "base_uri": "https://localhost:8080/"
    },
    "id": "NspnM88txUDc",
    "outputId": "66844448-5f18-42cc-8b9b-6f688dec996d"
   },
   "outputs": [
    {
     "name": "stdout",
     "output_type": "stream",
     "text": [
      "Hey\n",
      ",\n",
      "gim\n",
      "me\n",
      "your\n",
      "money\n"
     ]
    }
   ],
   "source": [
    "text_sentence_4 = \"Hey, gimme your money\" \n",
    "\n",
    "doc4 = nlp(text_sentence_4)\n",
    "\n",
    "for token in doc4:\n",
    "    print(token.text)"
   ]
  },
  {
   "cell_type": "markdown",
   "metadata": {
    "id": "rQwVTWHQztz8"
   },
   "source": [
    "##### Long sentences and weird spaces"
   ]
  },
  {
   "cell_type": "code",
   "execution_count": 37,
   "metadata": {
    "colab": {
     "base_uri": "https://localhost:8080/"
    },
    "id": "mYIaQp2k45gd",
    "outputId": "c2a3e55f-d46c-4318-889b-5005a086734b"
   },
   "outputs": [
    {
     "name": "stdout",
     "output_type": "stream",
     "text": [
      "Some\n",
      "\n",
      "\n",
      "spaces\n",
      " \n",
      "and\n",
      "\t\n",
      "tab\n",
      "characters\n"
     ]
    }
   ],
   "source": [
    "text_sentence_5 = 'Some\\nspaces  and\\ttab characters'\n",
    "\n",
    "doc5 = nlp(text_sentence_5)\n",
    "\n",
    "for token in doc5:\n",
    "    print(token.text)"
   ]
  },
  {
   "cell_type": "code",
   "execution_count": 38,
   "metadata": {
    "colab": {
     "base_uri": "https://localhost:8080/"
    },
    "id": "NVkzoQAw5FsY",
    "outputId": "bfe7684c-d3d5-4f0c-a9ec-eca11f791b78"
   },
   "outputs": [
    {
     "data": {
      "text/plain": [
       "True"
      ]
     },
     "execution_count": 38,
     "metadata": {},
     "output_type": "execute_result"
    }
   ],
   "source": [
    "doc5[1].is_space"
   ]
  },
  {
   "cell_type": "code",
   "execution_count": 39,
   "metadata": {
    "colab": {
     "base_uri": "https://localhost:8080/"
    },
    "id": "UEvV03B05KdP",
    "outputId": "5715cf97-5976-4250-848f-a7db290c3e2a"
   },
   "outputs": [
    {
     "name": "stdout",
     "output_type": "stream",
     "text": [
      "In ancient Rome, some neighbors live in three adjacent houses.\n",
      "In the center is the house of Senex, who lives there with wife Domina, son Hero, and several slaves, including head slave Hysterium and the musical's main character Pseudolus.\n",
      "A slave belonging to Hero, Pseudolus wishes to buy, win, or steal his freedom.\n",
      "One of the neighboring houses is owned by Marcus Lycus, who is a buyer and seller of beautiful women; the other belongs to the ancient Erronius, who is abroad searching for his long-lost children (stolen in infancy by pirates).\n",
      "One day, Senex and Domina go on a trip and leave Pseudolus in charge of Hero.\n",
      "Hero confides in Pseudolus that he is in love with the lovely Philia, one of the courtesans in the House of Lycus (albeit still a virgin).\n"
     ]
    }
   ],
   "source": [
    "# Spacy can also recognize sentences without weird splits\n",
    "text_sentence_6 = \"In ancient Rome, some neighbors live in three adjacent houses. In the center is the house of Senex, who lives there with wife Domina, son Hero, and several slaves, including head slave Hysterium and the musical's main character Pseudolus. A slave belonging to Hero, Pseudolus wishes to buy, win, or steal his freedom. One of the neighboring houses is owned by Marcus Lycus, who is a buyer and seller of beautiful women; the other belongs to the ancient Erronius, who is abroad searching for his long-lost children (stolen in infancy by pirates). One day, Senex and Domina go on a trip and leave Pseudolus in charge of Hero. Hero confides in Pseudolus that he is in love with the lovely Philia, one of the courtesans in the House of Lycus (albeit still a virgin).\"\n",
    "\n",
    "doc6 = nlp(text_sentence_6)\n",
    "\n",
    "for sent in doc6.sents:\n",
    "    print(sent)"
   ]
  },
  {
   "cell_type": "markdown",
   "metadata": {
    "id": "O1H-VPRB6W7l"
   },
   "source": [
    "### Lemmatization\n",
    "\n",
    "Lemmatization is the assignation of the base forms of words. For example, the lemma of “was” is “be”, and the lemma of “rats” is “rat”."
   ]
  },
  {
   "cell_type": "code",
   "execution_count": 40,
   "metadata": {
    "colab": {
     "base_uri": "https://localhost:8080/",
     "height": 35
    },
    "id": "E19GCEnZ6P9v",
    "outputId": "8ffd26ef-2fea-48ba-f491-9ac25e3a7e6a"
   },
   "outputs": [
    {
     "data": {
      "text/plain": [
       "'neighbour'"
      ]
     },
     "execution_count": 40,
     "metadata": {},
     "output_type": "execute_result"
    }
   ],
   "source": [
    "nlp(\"they are neighbours\")[-1].lemma_"
   ]
  },
  {
   "cell_type": "code",
   "execution_count": 41,
   "metadata": {
    "colab": {
     "base_uri": "https://localhost:8080/",
     "height": 35
    },
    "id": "2RXDuPHy-eTs",
    "outputId": "428c8aad-4739-46c5-fccf-ecb2f182cd21"
   },
   "outputs": [
    {
     "data": {
      "text/plain": [
       "'be'"
      ]
     },
     "execution_count": 41,
     "metadata": {},
     "output_type": "execute_result"
    }
   ],
   "source": [
    "nlp(\"is\")[0].lemma_"
   ]
  },
  {
   "cell_type": "code",
   "execution_count": 42,
   "metadata": {
    "colab": {
     "base_uri": "https://localhost:8080/"
    },
    "id": "BVD7TNvv639P",
    "outputId": "9e7ab997-7203-48e8-9cf7-d519c63491b8"
   },
   "outputs": [
    {
     "data": {
      "text/plain": [
       "In"
      ]
     },
     "execution_count": 42,
     "metadata": {},
     "output_type": "execute_result"
    }
   ],
   "source": [
    "doc6[0]"
   ]
  },
  {
   "cell_type": "code",
   "execution_count": 43,
   "metadata": {
    "colab": {
     "base_uri": "https://localhost:8080/",
     "height": 35
    },
    "id": "ZIHap1F26_bH",
    "outputId": "59bc3ae5-b851-42b3-c53e-2c0d83250358"
   },
   "outputs": [
    {
     "data": {
      "text/plain": [
       "'in'"
      ]
     },
     "execution_count": 43,
     "metadata": {},
     "output_type": "execute_result"
    }
   ],
   "source": [
    "doc6[0].lemma_"
   ]
  },
  {
   "cell_type": "code",
   "execution_count": 44,
   "metadata": {
    "colab": {
     "base_uri": "https://localhost:8080/"
    },
    "id": "orAIfks77Hk_",
    "outputId": "ed41fd3d-3b44-4a26-b4b8-d52e8d4f56b9"
   },
   "outputs": [
    {
     "data": {
      "text/plain": [
       "<spacy.lexeme.Lexeme at 0x7fd0382e9880>"
      ]
     },
     "execution_count": 44,
     "metadata": {},
     "output_type": "execute_result"
    }
   ],
   "source": [
    "# Getting information about a token\n",
    "doc6.vocab['be']"
   ]
  },
  {
   "cell_type": "markdown",
   "metadata": {
    "id": "KdjoTxuG7s_V"
   },
   "source": [
    "#### Dealing with STOP words\n",
    "In computing, stop words are words which are filtered out before processing of natural language data (text). Stop words are generally the most common words in a language; there is no single universal list of stop words used by all natural language processing tools, and indeed not all tools even use such a list. Some tools avoid removing stop words to support phrase search."
   ]
  },
  {
   "cell_type": "code",
   "execution_count": 45,
   "metadata": {
    "colab": {
     "base_uri": "https://localhost:8080/"
    },
    "id": "KJjuIZla7Lqf",
    "outputId": "35d0b68f-f3c1-4a39-9acb-da1a15464776"
   },
   "outputs": [
    {
     "name": "stdout",
     "output_type": "stream",
     "text": [
      "{'most', 'hers', 'very', 'for', 'no', 'become', 'however', '’ve', 'hereupon', 'three', 'serious', 'is', 'could', 'it', 'put', 'take', 'due', 'around', 'cannot', 'other', 'out', 'below', 'throughout', 'six', 'wherein', 'though', 'together', 'might', 'me', 'hundred', 'whoever', 'or', 'once', 'fifty', 'first', 'among', 'from', 'amongst', 'eight', 'should', 'what', 'every', \"'s\", 'anyone', 'each', 'nevertheless', 'bottom', 'forty', 'the', 'thereafter', 'whose', \"n't\", 'another', 'none', 'off', 'somehow', 'everything', 'those', 'hereafter', 'within', 'myself', 'he', \"'ll\", 'why', 'almost', 'under', 'i', 'whenever', 'than', 'her', 'see', 'they', 'into', 'used', 'twenty', 'someone', 'either', 'herein', 'name', 'two', 'top', 'except', 'nothing', 'until', 'up', 'on', 'through', 'always', 'of', 'becoming', 'done', 'besides', 'ours', 'who', 'a', 'ever', '’m', 'fifteen', 'because', 'per', 'again', 'otherwise', 'least', 'them', 'empty', 'various', 'does', 'was', 'am', 're', 'she', 'along', 'namely', 'to', 'n’t', 'above', 'quite', 'formerly', '‘ll', 'both', 'using', 'whatever', 'whereby', 'anyway', 'only', 'down', 'made', 'themselves', 'across', 'my', 'former', 'alone', 'which', 'somewhere', 'that', 'therein', 'while', 'never', 'there', 'all', 'back', 'n‘t', 'hereby', 'between', 'us', 'seem', 'whereupon', 'you', 'by', 'some', 'eleven', 'thus', 'were', 'sometime', 'something', 'will', 'latter', 'seems', 'therefore', 'amount', 'beyond', 'more', 'yourself', 'often', \"'ve\", 'rather', 'have', 'call', '’s', 'anywhere', 'without', 'nobody', 'would', 'over', 'enough', 'everyone', 'had', 'did', 'last', 'third', 'ourselves', 'well', '‘s', \"'d\", 'noone', 'also', 'seeming', 'where', 'twelve', 'neither', 'too', 'please', 'during', 'unless', 'ten', '’ll', 'doing', 'thru', 'go', 'beforehand', 'say', 'nowhere', 'whereas', 'hence', 'an', 'nor', 'really', \"'re\", 'make', 'any', 'their', 'then', 'sixty', 'give', 'has', 'move', 'still', '’re', 'our', 'others', 'front', 'we', 'whither', 'thereby', 'can', 'keep', 'yet', 'mostly', 'elsewhere', 'yours', 'your', 'about', 'thence', 'as', 'everywhere', 'whereafter', 'such', 'anyhow', 'these', 'became', 'afterwards', 'may', 'regarding', 'against', 'so', 'him', 'sometimes', 'are', '‘m', '‘d', 'nine', 'been', 'this', 'with', 'wherever', 'ca', 'how', 'upon', 'here', 'his', '‘ve', 'must', 'towards', 'full', 'now', 'even', 'perhaps', 'thereupon', 'one', 'beside', 'although', '‘re', 'becomes', 'four', 'further', 'anything', 'behind', 'few', 'many', 'five', 'itself', 'herself', 'be', 'being', \"'m\", 'own', 'its', 'via', 'part', 'since', '’d', 'onto', 'do', 'indeed', 'yourselves', 'whole', 'same', 'side', 'several', 'if', 'at', 'next', 'but', 'in', 'after', 'else', 'whence', 'show', 'when', 'himself', 'meanwhile', 'mine', 'latterly', 'whom', 'toward', 'before', 'already', 'less', 'get', 'just', 'not', 'whether', 'much', 'and', 'moreover', 'seemed'}\n"
     ]
    }
   ],
   "source": [
    "# Getting STOP words\n",
    "from spacy.lang.en.stop_words import STOP_WORDS\n",
    "\n",
    "print(STOP_WORDS)"
   ]
  },
  {
   "cell_type": "code",
   "execution_count": 46,
   "metadata": {
    "colab": {
     "base_uri": "https://localhost:8080/"
    },
    "id": "h6KuLWRV72_X",
    "outputId": "796d0f3c-43f1-47b5-b5cb-56093572df15"
   },
   "outputs": [
    {
     "name": "stdout",
     "output_type": "stream",
     "text": [
      "In --> is stopword in list above? --> False\n"
     ]
    }
   ],
   "source": [
    "print(doc6[0], \"--> is stopword in list above? -->\", doc6[0] in STOP_WORDS)"
   ]
  },
  {
   "cell_type": "markdown",
   "metadata": {
    "id": "Ze9L3mcL97nm"
   },
   "source": [
    "\"In\" is not found in the list of common words, however spaCy changes automatically to lower case to find that actually \"In\" is \"in\" and therefore is a stopword."
   ]
  },
  {
   "cell_type": "code",
   "execution_count": 47,
   "metadata": {
    "colab": {
     "base_uri": "https://localhost:8080/"
    },
    "id": "XiSaZtvq8Dun",
    "outputId": "e8c3bed3-2577-4a17-cd03-fc95e79b7ecc"
   },
   "outputs": [
    {
     "data": {
      "text/plain": [
       "True"
      ]
     },
     "execution_count": 47,
     "metadata": {},
     "output_type": "execute_result"
    }
   ],
   "source": [
    "doc6[0].is_stop"
   ]
  },
  {
   "cell_type": "markdown",
   "metadata": {
    "id": "ZjJ5na1b-O92"
   },
   "source": [
    "### In class exercise:\n",
    "\n",
    "Display a table with all the tokens of `text1` and the columns `[\"Text\", \"Lemma\", \"Coarse POS (pos)\", \"Fine POS (tag)\", \"Syntactic dependency\", \"Shape\", \"Alphanumeric\", \"Stop\"]`. Look in https://spacy.io/api/token#attributes for hints. Something like:\n",
    "\n",
    "<table border=\"1\" class=\"dataframe\">\n",
    "  <thead>\n",
    "    <tr style=\"text-align: right;\">\n",
    "      <th></th>\n",
    "      <th>Text</th>\n",
    "      <th>Lemma</th>\n",
    "      <th>Coarse POS (pos)</th>\n",
    "      <th>Fine POS (tag)</th>\n",
    "      <th>Syntactic dependency</th>\n",
    "      <th>Shape</th>\n",
    "      <th>Alphanumeric</th>\n",
    "      <th>Stop</th>\n",
    "    </tr>\n",
    "  </thead>\n",
    "  <tbody>\n",
    "    <tr>\n",
    "      <th>0</th>\n",
    "      <td>This</td>\n",
    "      <td>this</td>\n",
    "      <td>DET</td>\n",
    "      <td>DT</td>\n",
    "      <td>nsubj</td>\n",
    "      <td>Xxxx</td>\n",
    "      <td>True</td>\n",
    "      <td>False</td>\n",
    "    </tr>\n",
    "    <tr>\n",
    "      <th>1</th>\n",
    "      <td>is</td>\n",
    "      <td>be</td>\n",
    "      <td>VERB</td>\n",
    "      <td>VBZ</td>\n",
    "      <td>ROOT</td>\n",
    "      <td>xx</td>\n",
    "      <td>True</td>\n",
    "      <td>True</td>\n",
    "    </tr>\n",
    "    <tr>\n",
    "      <th>...</th>\n",
    "      <td>...</td>\n",
    "      <td>...</td>\n",
    "      <td>...</td>\n",
    "      <td>...</td>\n",
    "      <td>...</td>\n",
    "      <td>...</td>\n",
    "      <td>...</td>\n",
    "      <td>...</td>\n",
    "    </tr>\n",
    "  </tbody>\n",
    "</table>\n",
    "\n",
    "Also, create a dependency and entity graph of the sentence.\n",
    "\n",
    "Use the following sentence:"
   ]
  },
  {
   "cell_type": "code",
   "execution_count": 48,
   "metadata": {},
   "outputs": [
    {
     "name": "stdout",
     "output_type": "stream",
     "text": [
      "Requirement already satisfied: en_core_web_lg==2.3.1 from https://github.com/explosion/spacy-models/releases/download/en_core_web_lg-2.3.1/en_core_web_lg-2.3.1.tar.gz#egg=en_core_web_lg==2.3.1 in /opt/anaconda3/lib/python3.8/site-packages (2.3.1)\n",
      "Requirement already satisfied: spacy<2.4.0,>=2.3.0 in /opt/anaconda3/lib/python3.8/site-packages (from en_core_web_lg==2.3.1) (2.3.2)\n",
      "Requirement already satisfied: srsly<1.1.0,>=1.0.2 in /opt/anaconda3/lib/python3.8/site-packages (from spacy<2.4.0,>=2.3.0->en_core_web_lg==2.3.1) (1.0.2)\n",
      "Requirement already satisfied: setuptools in /opt/anaconda3/lib/python3.8/site-packages (from spacy<2.4.0,>=2.3.0->en_core_web_lg==2.3.1) (50.3.1.post20201107)\n",
      "Requirement already satisfied: cymem<2.1.0,>=2.0.2 in /opt/anaconda3/lib/python3.8/site-packages (from spacy<2.4.0,>=2.3.0->en_core_web_lg==2.3.1) (2.0.4)\n",
      "Requirement already satisfied: requests<3.0.0,>=2.13.0 in /opt/anaconda3/lib/python3.8/site-packages (from spacy<2.4.0,>=2.3.0->en_core_web_lg==2.3.1) (2.24.0)\n",
      "Requirement already satisfied: catalogue<1.1.0,>=0.0.7 in /opt/anaconda3/lib/python3.8/site-packages (from spacy<2.4.0,>=2.3.0->en_core_web_lg==2.3.1) (1.0.0)\n",
      "Requirement already satisfied: murmurhash<1.1.0,>=0.28.0 in /opt/anaconda3/lib/python3.8/site-packages (from spacy<2.4.0,>=2.3.0->en_core_web_lg==2.3.1) (1.0.2)\n",
      "Requirement already satisfied: wasabi<1.1.0,>=0.4.0 in /opt/anaconda3/lib/python3.8/site-packages (from spacy<2.4.0,>=2.3.0->en_core_web_lg==2.3.1) (0.8.0)\n",
      "Requirement already satisfied: blis<0.5.0,>=0.4.0 in /opt/anaconda3/lib/python3.8/site-packages (from spacy<2.4.0,>=2.3.0->en_core_web_lg==2.3.1) (0.4.1)\n",
      "Requirement already satisfied: thinc==7.4.1 in /opt/anaconda3/lib/python3.8/site-packages (from spacy<2.4.0,>=2.3.0->en_core_web_lg==2.3.1) (7.4.1)\n",
      "Requirement already satisfied: numpy>=1.15.0 in /opt/anaconda3/lib/python3.8/site-packages (from spacy<2.4.0,>=2.3.0->en_core_web_lg==2.3.1) (1.19.2)\n",
      "Requirement already satisfied: plac<1.2.0,>=0.9.6 in /opt/anaconda3/lib/python3.8/site-packages (from spacy<2.4.0,>=2.3.0->en_core_web_lg==2.3.1) (0.9.6)\n",
      "Requirement already satisfied: preshed<3.1.0,>=3.0.2 in /opt/anaconda3/lib/python3.8/site-packages (from spacy<2.4.0,>=2.3.0->en_core_web_lg==2.3.1) (3.0.2)\n",
      "Requirement already satisfied: tqdm<5.0.0,>=4.38.0 in /opt/anaconda3/lib/python3.8/site-packages (from spacy<2.4.0,>=2.3.0->en_core_web_lg==2.3.1) (4.51.0)\n",
      "Requirement already satisfied: idna<3,>=2.5 in /opt/anaconda3/lib/python3.8/site-packages (from requests<3.0.0,>=2.13.0->spacy<2.4.0,>=2.3.0->en_core_web_lg==2.3.1) (2.10)\n",
      "Requirement already satisfied: chardet<4,>=3.0.2 in /opt/anaconda3/lib/python3.8/site-packages (from requests<3.0.0,>=2.13.0->spacy<2.4.0,>=2.3.0->en_core_web_lg==2.3.1) (3.0.4)\n",
      "Requirement already satisfied: urllib3!=1.25.0,!=1.25.1,<1.26,>=1.21.1 in /opt/anaconda3/lib/python3.8/site-packages (from requests<3.0.0,>=2.13.0->spacy<2.4.0,>=2.3.0->en_core_web_lg==2.3.1) (1.25.11)\n",
      "Requirement already satisfied: certifi>=2017.4.17 in /opt/anaconda3/lib/python3.8/site-packages (from requests<3.0.0,>=2.13.0->spacy<2.4.0,>=2.3.0->en_core_web_lg==2.3.1) (2020.11.8)\n",
      "\u001b[38;5;2m✔ Download and installation successful\u001b[0m\n",
      "You can now load the model via spacy.load('en_core_web_lg')\n"
     ]
    }
   ],
   "source": [
    "!python -m spacy download en_core_web_lg"
   ]
  },
  {
   "cell_type": "code",
   "execution_count": 49,
   "metadata": {},
   "outputs": [],
   "source": [
    "import spacy\n",
    "nlp_lg = spacy.load('en_core_web_lg')"
   ]
  },
  {
   "cell_type": "code",
   "execution_count": 50,
   "metadata": {},
   "outputs": [
    {
     "name": "stdout",
     "output_type": "stream",
     "text": [
      "This DET nsubj\n",
      "is AUX ROOT\n",
      "great ADJ acomp\n",
      "! PUNCT punct\n",
      "We PRON nsubj\n",
      "are AUX aux\n",
      "learning VERB ROOT\n",
      "text NOUN compound\n",
      "processing NOUN dobj\n",
      "with ADP prep\n",
      "spaCy PROPN pobj\n"
     ]
    }
   ],
   "source": [
    "exercise_sentece = \"This is great! We are learning text processing with spaCy\"\n",
    "\n",
    "doc34 = nlp_lg(exercise_sentece)\n",
    "\n",
    "for token in doc34:\n",
    "    print(token.text, token.pos_, token.dep_)"
   ]
  },
  {
   "cell_type": "code",
   "execution_count": 51,
   "metadata": {},
   "outputs": [
    {
     "data": {
      "text/html": [
       "<div>\n",
       "<style scoped>\n",
       "    .dataframe tbody tr th:only-of-type {\n",
       "        vertical-align: middle;\n",
       "    }\n",
       "\n",
       "    .dataframe tbody tr th {\n",
       "        vertical-align: top;\n",
       "    }\n",
       "\n",
       "    .dataframe thead th {\n",
       "        text-align: right;\n",
       "    }\n",
       "</style>\n",
       "<table border=\"1\" class=\"dataframe\">\n",
       "  <thead>\n",
       "    <tr style=\"text-align: right;\">\n",
       "      <th></th>\n",
       "      <th>TEXT</th>\n",
       "      <th>LEMMA</th>\n",
       "      <th>POS</th>\n",
       "      <th>TAG</th>\n",
       "      <th>DEP</th>\n",
       "      <th>SHAPE</th>\n",
       "      <th>ALPHA</th>\n",
       "      <th>STOP</th>\n",
       "    </tr>\n",
       "  </thead>\n",
       "  <tbody>\n",
       "    <tr>\n",
       "      <th>0</th>\n",
       "      <td>This</td>\n",
       "      <td>this</td>\n",
       "      <td>DET</td>\n",
       "      <td>DT</td>\n",
       "      <td>nsubj</td>\n",
       "      <td>Xxxx</td>\n",
       "      <td>True</td>\n",
       "      <td>True</td>\n",
       "    </tr>\n",
       "    <tr>\n",
       "      <th>1</th>\n",
       "      <td>is</td>\n",
       "      <td>be</td>\n",
       "      <td>AUX</td>\n",
       "      <td>VBZ</td>\n",
       "      <td>ROOT</td>\n",
       "      <td>xx</td>\n",
       "      <td>True</td>\n",
       "      <td>True</td>\n",
       "    </tr>\n",
       "    <tr>\n",
       "      <th>2</th>\n",
       "      <td>great</td>\n",
       "      <td>great</td>\n",
       "      <td>ADJ</td>\n",
       "      <td>JJ</td>\n",
       "      <td>acomp</td>\n",
       "      <td>xxxx</td>\n",
       "      <td>True</td>\n",
       "      <td>False</td>\n",
       "    </tr>\n",
       "    <tr>\n",
       "      <th>3</th>\n",
       "      <td>!</td>\n",
       "      <td>!</td>\n",
       "      <td>PUNCT</td>\n",
       "      <td>.</td>\n",
       "      <td>punct</td>\n",
       "      <td>!</td>\n",
       "      <td>False</td>\n",
       "      <td>False</td>\n",
       "    </tr>\n",
       "    <tr>\n",
       "      <th>4</th>\n",
       "      <td>We</td>\n",
       "      <td>-PRON-</td>\n",
       "      <td>PRON</td>\n",
       "      <td>PRP</td>\n",
       "      <td>nsubj</td>\n",
       "      <td>Xx</td>\n",
       "      <td>True</td>\n",
       "      <td>True</td>\n",
       "    </tr>\n",
       "    <tr>\n",
       "      <th>5</th>\n",
       "      <td>are</td>\n",
       "      <td>be</td>\n",
       "      <td>AUX</td>\n",
       "      <td>VBP</td>\n",
       "      <td>aux</td>\n",
       "      <td>xxx</td>\n",
       "      <td>True</td>\n",
       "      <td>True</td>\n",
       "    </tr>\n",
       "    <tr>\n",
       "      <th>6</th>\n",
       "      <td>learning</td>\n",
       "      <td>learn</td>\n",
       "      <td>VERB</td>\n",
       "      <td>VBG</td>\n",
       "      <td>ROOT</td>\n",
       "      <td>xxxx</td>\n",
       "      <td>True</td>\n",
       "      <td>False</td>\n",
       "    </tr>\n",
       "    <tr>\n",
       "      <th>7</th>\n",
       "      <td>text</td>\n",
       "      <td>text</td>\n",
       "      <td>NOUN</td>\n",
       "      <td>NN</td>\n",
       "      <td>compound</td>\n",
       "      <td>xxxx</td>\n",
       "      <td>True</td>\n",
       "      <td>False</td>\n",
       "    </tr>\n",
       "    <tr>\n",
       "      <th>8</th>\n",
       "      <td>processing</td>\n",
       "      <td>processing</td>\n",
       "      <td>NOUN</td>\n",
       "      <td>NN</td>\n",
       "      <td>dobj</td>\n",
       "      <td>xxxx</td>\n",
       "      <td>True</td>\n",
       "      <td>False</td>\n",
       "    </tr>\n",
       "    <tr>\n",
       "      <th>9</th>\n",
       "      <td>with</td>\n",
       "      <td>with</td>\n",
       "      <td>ADP</td>\n",
       "      <td>IN</td>\n",
       "      <td>prep</td>\n",
       "      <td>xxxx</td>\n",
       "      <td>True</td>\n",
       "      <td>True</td>\n",
       "    </tr>\n",
       "    <tr>\n",
       "      <th>10</th>\n",
       "      <td>spaCy</td>\n",
       "      <td>spaCy</td>\n",
       "      <td>PROPN</td>\n",
       "      <td>NNP</td>\n",
       "      <td>pobj</td>\n",
       "      <td>xxxXx</td>\n",
       "      <td>True</td>\n",
       "      <td>False</td>\n",
       "    </tr>\n",
       "  </tbody>\n",
       "</table>\n",
       "</div>"
      ],
      "text/plain": [
       "          TEXT       LEMMA    POS  TAG       DEP  SHAPE  ALPHA   STOP\n",
       "0         This        this    DET   DT     nsubj   Xxxx   True   True\n",
       "1           is          be    AUX  VBZ      ROOT     xx   True   True\n",
       "2        great       great    ADJ   JJ     acomp   xxxx   True  False\n",
       "3            !           !  PUNCT    .     punct      !  False  False\n",
       "4           We      -PRON-   PRON  PRP     nsubj     Xx   True   True\n",
       "5          are          be    AUX  VBP       aux    xxx   True   True\n",
       "6     learning       learn   VERB  VBG      ROOT   xxxx   True  False\n",
       "7         text        text   NOUN   NN  compound   xxxx   True  False\n",
       "8   processing  processing   NOUN   NN      dobj   xxxx   True  False\n",
       "9         with        with    ADP   IN      prep   xxxx   True   True\n",
       "10       spaCy       spaCy  PROPN  NNP      pobj  xxxXx   True  False"
      ]
     },
     "execution_count": 51,
     "metadata": {},
     "output_type": "execute_result"
    }
   ],
   "source": [
    "# We can build a Pandas Dataframe with the contents of a token/doc loop, just for nice visualization\n",
    "import pandas as pd\n",
    "\n",
    "d = []\n",
    "for token in doc34:\n",
    "    d.append({'TEXT': token.text, 'LEMMA': token.lemma_, \n",
    "              'POS': token.pos_, 'TAG': token.tag_,\n",
    "              'DEP': token.dep_, 'SHAPE': token.shape_,\n",
    "              'ALPHA': token.is_alpha, 'STOP': token.is_stop})\n",
    "\n",
    "spacy_dataframe = pd.DataFrame(d)\n",
    "spacy_dataframe"
   ]
  },
  {
   "cell_type": "code",
   "execution_count": 52,
   "metadata": {},
   "outputs": [
    {
     "data": {
      "text/html": [
       "<span class=\"tex2jax_ignore\"><svg xmlns=\"http://www.w3.org/2000/svg\" xmlns:xlink=\"http://www.w3.org/1999/xlink\" xml:lang=\"en\" id=\"61756330474947fd8578663a48501047-0\" class=\"displacy\" width=\"1050\" height=\"237.0\" direction=\"ltr\" style=\"max-width: none; height: 237.0px; color: #000000; background: #ffffff; font-family: Arial; direction: ltr\">\n",
       "<text class=\"displacy-token\" fill=\"currentColor\" text-anchor=\"middle\" y=\"147.0\">\n",
       "    <tspan class=\"displacy-word\" fill=\"currentColor\" x=\"50\">This</tspan>\n",
       "    <tspan class=\"displacy-tag\" dy=\"2em\" fill=\"currentColor\" x=\"50\">DET</tspan>\n",
       "</text>\n",
       "\n",
       "<text class=\"displacy-token\" fill=\"currentColor\" text-anchor=\"middle\" y=\"147.0\">\n",
       "    <tspan class=\"displacy-word\" fill=\"currentColor\" x=\"150\">is</tspan>\n",
       "    <tspan class=\"displacy-tag\" dy=\"2em\" fill=\"currentColor\" x=\"150\">AUX</tspan>\n",
       "</text>\n",
       "\n",
       "<text class=\"displacy-token\" fill=\"currentColor\" text-anchor=\"middle\" y=\"147.0\">\n",
       "    <tspan class=\"displacy-word\" fill=\"currentColor\" x=\"250\">great!</tspan>\n",
       "    <tspan class=\"displacy-tag\" dy=\"2em\" fill=\"currentColor\" x=\"250\">ADJ</tspan>\n",
       "</text>\n",
       "\n",
       "<text class=\"displacy-token\" fill=\"currentColor\" text-anchor=\"middle\" y=\"147.0\">\n",
       "    <tspan class=\"displacy-word\" fill=\"currentColor\" x=\"350\">We</tspan>\n",
       "    <tspan class=\"displacy-tag\" dy=\"2em\" fill=\"currentColor\" x=\"350\">PRON</tspan>\n",
       "</text>\n",
       "\n",
       "<text class=\"displacy-token\" fill=\"currentColor\" text-anchor=\"middle\" y=\"147.0\">\n",
       "    <tspan class=\"displacy-word\" fill=\"currentColor\" x=\"450\">are</tspan>\n",
       "    <tspan class=\"displacy-tag\" dy=\"2em\" fill=\"currentColor\" x=\"450\">AUX</tspan>\n",
       "</text>\n",
       "\n",
       "<text class=\"displacy-token\" fill=\"currentColor\" text-anchor=\"middle\" y=\"147.0\">\n",
       "    <tspan class=\"displacy-word\" fill=\"currentColor\" x=\"550\">learning</tspan>\n",
       "    <tspan class=\"displacy-tag\" dy=\"2em\" fill=\"currentColor\" x=\"550\">VERB</tspan>\n",
       "</text>\n",
       "\n",
       "<text class=\"displacy-token\" fill=\"currentColor\" text-anchor=\"middle\" y=\"147.0\">\n",
       "    <tspan class=\"displacy-word\" fill=\"currentColor\" x=\"650\">text</tspan>\n",
       "    <tspan class=\"displacy-tag\" dy=\"2em\" fill=\"currentColor\" x=\"650\">NOUN</tspan>\n",
       "</text>\n",
       "\n",
       "<text class=\"displacy-token\" fill=\"currentColor\" text-anchor=\"middle\" y=\"147.0\">\n",
       "    <tspan class=\"displacy-word\" fill=\"currentColor\" x=\"750\">processing</tspan>\n",
       "    <tspan class=\"displacy-tag\" dy=\"2em\" fill=\"currentColor\" x=\"750\">NOUN</tspan>\n",
       "</text>\n",
       "\n",
       "<text class=\"displacy-token\" fill=\"currentColor\" text-anchor=\"middle\" y=\"147.0\">\n",
       "    <tspan class=\"displacy-word\" fill=\"currentColor\" x=\"850\">with</tspan>\n",
       "    <tspan class=\"displacy-tag\" dy=\"2em\" fill=\"currentColor\" x=\"850\">ADP</tspan>\n",
       "</text>\n",
       "\n",
       "<text class=\"displacy-token\" fill=\"currentColor\" text-anchor=\"middle\" y=\"147.0\">\n",
       "    <tspan class=\"displacy-word\" fill=\"currentColor\" x=\"950\">spaCy</tspan>\n",
       "    <tspan class=\"displacy-tag\" dy=\"2em\" fill=\"currentColor\" x=\"950\">PROPN</tspan>\n",
       "</text>\n",
       "\n",
       "<g class=\"displacy-arrow\">\n",
       "    <path class=\"displacy-arc\" id=\"arrow-61756330474947fd8578663a48501047-0-0\" stroke-width=\"2px\" d=\"M70,102.0 C70,52.0 145.0,52.0 145.0,102.0\" fill=\"none\" stroke=\"currentColor\"/>\n",
       "    <text dy=\"1.25em\" style=\"font-size: 0.8em; letter-spacing: 1px\">\n",
       "        <textPath xlink:href=\"#arrow-61756330474947fd8578663a48501047-0-0\" class=\"displacy-label\" startOffset=\"50%\" side=\"left\" fill=\"currentColor\" text-anchor=\"middle\">nsubj</textPath>\n",
       "    </text>\n",
       "    <path class=\"displacy-arrowhead\" d=\"M70,104.0 L62,92.0 78,92.0\" fill=\"currentColor\"/>\n",
       "</g>\n",
       "\n",
       "<g class=\"displacy-arrow\">\n",
       "    <path class=\"displacy-arc\" id=\"arrow-61756330474947fd8578663a48501047-0-1\" stroke-width=\"2px\" d=\"M170,102.0 C170,52.0 245.0,52.0 245.0,102.0\" fill=\"none\" stroke=\"currentColor\"/>\n",
       "    <text dy=\"1.25em\" style=\"font-size: 0.8em; letter-spacing: 1px\">\n",
       "        <textPath xlink:href=\"#arrow-61756330474947fd8578663a48501047-0-1\" class=\"displacy-label\" startOffset=\"50%\" side=\"left\" fill=\"currentColor\" text-anchor=\"middle\">acomp</textPath>\n",
       "    </text>\n",
       "    <path class=\"displacy-arrowhead\" d=\"M245.0,104.0 L253.0,92.0 237.0,92.0\" fill=\"currentColor\"/>\n",
       "</g>\n",
       "\n",
       "<g class=\"displacy-arrow\">\n",
       "    <path class=\"displacy-arc\" id=\"arrow-61756330474947fd8578663a48501047-0-2\" stroke-width=\"2px\" d=\"M370,102.0 C370,2.0 550.0,2.0 550.0,102.0\" fill=\"none\" stroke=\"currentColor\"/>\n",
       "    <text dy=\"1.25em\" style=\"font-size: 0.8em; letter-spacing: 1px\">\n",
       "        <textPath xlink:href=\"#arrow-61756330474947fd8578663a48501047-0-2\" class=\"displacy-label\" startOffset=\"50%\" side=\"left\" fill=\"currentColor\" text-anchor=\"middle\">nsubj</textPath>\n",
       "    </text>\n",
       "    <path class=\"displacy-arrowhead\" d=\"M370,104.0 L362,92.0 378,92.0\" fill=\"currentColor\"/>\n",
       "</g>\n",
       "\n",
       "<g class=\"displacy-arrow\">\n",
       "    <path class=\"displacy-arc\" id=\"arrow-61756330474947fd8578663a48501047-0-3\" stroke-width=\"2px\" d=\"M470,102.0 C470,52.0 545.0,52.0 545.0,102.0\" fill=\"none\" stroke=\"currentColor\"/>\n",
       "    <text dy=\"1.25em\" style=\"font-size: 0.8em; letter-spacing: 1px\">\n",
       "        <textPath xlink:href=\"#arrow-61756330474947fd8578663a48501047-0-3\" class=\"displacy-label\" startOffset=\"50%\" side=\"left\" fill=\"currentColor\" text-anchor=\"middle\">aux</textPath>\n",
       "    </text>\n",
       "    <path class=\"displacy-arrowhead\" d=\"M470,104.0 L462,92.0 478,92.0\" fill=\"currentColor\"/>\n",
       "</g>\n",
       "\n",
       "<g class=\"displacy-arrow\">\n",
       "    <path class=\"displacy-arc\" id=\"arrow-61756330474947fd8578663a48501047-0-4\" stroke-width=\"2px\" d=\"M670,102.0 C670,52.0 745.0,52.0 745.0,102.0\" fill=\"none\" stroke=\"currentColor\"/>\n",
       "    <text dy=\"1.25em\" style=\"font-size: 0.8em; letter-spacing: 1px\">\n",
       "        <textPath xlink:href=\"#arrow-61756330474947fd8578663a48501047-0-4\" class=\"displacy-label\" startOffset=\"50%\" side=\"left\" fill=\"currentColor\" text-anchor=\"middle\">compound</textPath>\n",
       "    </text>\n",
       "    <path class=\"displacy-arrowhead\" d=\"M670,104.0 L662,92.0 678,92.0\" fill=\"currentColor\"/>\n",
       "</g>\n",
       "\n",
       "<g class=\"displacy-arrow\">\n",
       "    <path class=\"displacy-arc\" id=\"arrow-61756330474947fd8578663a48501047-0-5\" stroke-width=\"2px\" d=\"M570,102.0 C570,2.0 750.0,2.0 750.0,102.0\" fill=\"none\" stroke=\"currentColor\"/>\n",
       "    <text dy=\"1.25em\" style=\"font-size: 0.8em; letter-spacing: 1px\">\n",
       "        <textPath xlink:href=\"#arrow-61756330474947fd8578663a48501047-0-5\" class=\"displacy-label\" startOffset=\"50%\" side=\"left\" fill=\"currentColor\" text-anchor=\"middle\">dobj</textPath>\n",
       "    </text>\n",
       "    <path class=\"displacy-arrowhead\" d=\"M750.0,104.0 L758.0,92.0 742.0,92.0\" fill=\"currentColor\"/>\n",
       "</g>\n",
       "\n",
       "<g class=\"displacy-arrow\">\n",
       "    <path class=\"displacy-arc\" id=\"arrow-61756330474947fd8578663a48501047-0-6\" stroke-width=\"2px\" d=\"M770,102.0 C770,52.0 845.0,52.0 845.0,102.0\" fill=\"none\" stroke=\"currentColor\"/>\n",
       "    <text dy=\"1.25em\" style=\"font-size: 0.8em; letter-spacing: 1px\">\n",
       "        <textPath xlink:href=\"#arrow-61756330474947fd8578663a48501047-0-6\" class=\"displacy-label\" startOffset=\"50%\" side=\"left\" fill=\"currentColor\" text-anchor=\"middle\">prep</textPath>\n",
       "    </text>\n",
       "    <path class=\"displacy-arrowhead\" d=\"M845.0,104.0 L853.0,92.0 837.0,92.0\" fill=\"currentColor\"/>\n",
       "</g>\n",
       "\n",
       "<g class=\"displacy-arrow\">\n",
       "    <path class=\"displacy-arc\" id=\"arrow-61756330474947fd8578663a48501047-0-7\" stroke-width=\"2px\" d=\"M870,102.0 C870,52.0 945.0,52.0 945.0,102.0\" fill=\"none\" stroke=\"currentColor\"/>\n",
       "    <text dy=\"1.25em\" style=\"font-size: 0.8em; letter-spacing: 1px\">\n",
       "        <textPath xlink:href=\"#arrow-61756330474947fd8578663a48501047-0-7\" class=\"displacy-label\" startOffset=\"50%\" side=\"left\" fill=\"currentColor\" text-anchor=\"middle\">pobj</textPath>\n",
       "    </text>\n",
       "    <path class=\"displacy-arrowhead\" d=\"M945.0,104.0 L953.0,92.0 937.0,92.0\" fill=\"currentColor\"/>\n",
       "</g>\n",
       "</svg></span>"
      ],
      "text/plain": [
       "<IPython.core.display.HTML object>"
      ]
     },
     "metadata": {},
     "output_type": "display_data"
    }
   ],
   "source": [
    "import spacy\n",
    "from spacy import displacy\n",
    "displacy.render(doc34, style=\"dep\", jupyter=True, options={'distance': 100})"
   ]
  },
  {
   "cell_type": "code",
   "execution_count": 53,
   "metadata": {},
   "outputs": [
    {
     "name": "stderr",
     "output_type": "stream",
     "text": [
      "/opt/anaconda3/lib/python3.8/site-packages/spacy/displacy/__init__.py:189: UserWarning: [W006] No entities to visualize found in Doc object. If this is surprising to you, make sure the Doc was processed using a model that supports named entity recognition, and check the `doc.ents` property manually if necessary.\n",
      "  warnings.warn(Warnings.W006)\n"
     ]
    },
    {
     "data": {
      "text/html": [
       "<span class=\"tex2jax_ignore\"><div class=\"entities\" style=\"line-height: 2.5; direction: ltr\">This is great! We are learning text processing with spaCy</div></span>"
      ],
      "text/plain": [
       "<IPython.core.display.HTML object>"
      ]
     },
     "metadata": {},
     "output_type": "display_data"
    }
   ],
   "source": [
    "displacy.render(doc34, style=\"ent\", jupyter=True, options={'distance': 100})"
   ]
  },
  {
   "cell_type": "markdown",
   "metadata": {
    "id": "pkru_Zpi5yhO"
   },
   "source": [
    "## spaCy pipelines\n",
    "\n",
    "When we call `nlp` on a text, spaCy tokenizes the text to produce a `Doc`. The processing pipeline has different steps that are removed from the complexity of the user but that [can be tweaked if needed](https://spacy.io/usage/processing-pipelines).\n",
    "\n",
    "![alt text](https://spacy.io/pipeline-7a14d4edd18f3edfee8f34393bff2992.svg)"
   ]
  },
  {
   "cell_type": "markdown",
   "metadata": {
    "id": "X3WXfgOF-wYg"
   },
   "source": [
    "## Entity recognition\n",
    "\n",
    "A **named entity** is a *real-world object* that’s assigned a name – for example, a person, a country, a product or a book title.\n",
    "\n",
    "\n",
    "> spaCy can recognize [many types of named entities](https://spacy.io/api/annotation#named-entities), by predicting over a language model. Results are not 100% accurate as models are statistical and depends on the examples they are trained on, but this can be fine tuned for you later on.\n",
    "\n",
    "\n",
    "\n",
    "Named entities can be accessed from the *ents* properties of a spaCy *Doc*:"
   ]
  },
  {
   "cell_type": "code",
   "execution_count": 54,
   "metadata": {
    "id": "9bwX_KZWP29D"
   },
   "outputs": [],
   "source": [
    "text_sentence_7 = u'Apple is looking at buying U.K. startup for 1 billion USD'\n",
    "doc7 = nlp(text_sentence_7)\n",
    "doc7_lg = nlp_lg(text_sentence_7)\n",
    "doc6_lg = nlp_lg(text_sentence_6)"
   ]
  },
  {
   "cell_type": "markdown",
   "metadata": {
    "id": "TqzU-QnArT9E"
   },
   "source": [
    "There are certain entity properties that can be accessed:\n",
    "\n",
    "* **Text**: The original entity text.\n",
    "* **Start**: Index of start of entity in the Doc.\n",
    "* **End**: Index of end of entity in the Doc.\n",
    "* **Label**: Entity label, i.e. type."
   ]
  },
  {
   "cell_type": "code",
   "execution_count": 55,
   "metadata": {
    "colab": {
     "base_uri": "https://localhost:8080/"
    },
    "id": "jpeSXMhhP29H",
    "outputId": "159fd684-fe71-4f1e-e95b-b38f3f52536a"
   },
   "outputs": [
    {
     "name": "stdout",
     "output_type": "stream",
     "text": [
      "Apple 0 5 ORG\n",
      "U.K. 27 31 GPE\n",
      "1 billion 44 53 CARDINAL\n"
     ]
    }
   ],
   "source": [
    "for ent in doc7.ents:\n",
    "    print(ent.text, ent.start_char, ent.end_char, ent.label_)"
   ]
  },
  {
   "cell_type": "code",
   "execution_count": 56,
   "metadata": {},
   "outputs": [
    {
     "name": "stdout",
     "output_type": "stream",
     "text": [
      "Apple 0 5 ORG\n",
      "U.K. 27 31 GPE\n",
      "1 billion USD 44 57 MONEY\n"
     ]
    }
   ],
   "source": [
    "for ent in doc7_lg.ents:\n",
    "    print(ent.text, ent.start_char, ent.end_char, ent.label_)"
   ]
  },
  {
   "cell_type": "code",
   "execution_count": 57,
   "metadata": {
    "colab": {
     "base_uri": "https://localhost:8080/",
     "height": 52
    },
    "id": "M-kt6zFtP29K",
    "outputId": "ded27556-a899-4270-f3ab-efa7e5b0a580"
   },
   "outputs": [
    {
     "data": {
      "text/html": [
       "<span class=\"tex2jax_ignore\"><div class=\"entities\" style=\"line-height: 2.5; direction: ltr\">\n",
       "<mark class=\"entity\" style=\"background: #7aecec; padding: 0.45em 0.6em; margin: 0 0.25em; line-height: 1; border-radius: 0.35em;\">\n",
       "    Apple\n",
       "    <span style=\"font-size: 0.8em; font-weight: bold; line-height: 1; border-radius: 0.35em; text-transform: uppercase; vertical-align: middle; margin-left: 0.5rem\">ORG</span>\n",
       "</mark>\n",
       " is looking at buying \n",
       "<mark class=\"entity\" style=\"background: #feca74; padding: 0.45em 0.6em; margin: 0 0.25em; line-height: 1; border-radius: 0.35em;\">\n",
       "    U.K.\n",
       "    <span style=\"font-size: 0.8em; font-weight: bold; line-height: 1; border-radius: 0.35em; text-transform: uppercase; vertical-align: middle; margin-left: 0.5rem\">GPE</span>\n",
       "</mark>\n",
       " startup for \n",
       "<mark class=\"entity\" style=\"background: #e4e7d2; padding: 0.45em 0.6em; margin: 0 0.25em; line-height: 1; border-radius: 0.35em;\">\n",
       "    1 billion\n",
       "    <span style=\"font-size: 0.8em; font-weight: bold; line-height: 1; border-radius: 0.35em; text-transform: uppercase; vertical-align: middle; margin-left: 0.5rem\">CARDINAL</span>\n",
       "</mark>\n",
       " USD</div></span>"
      ],
      "text/plain": [
       "<IPython.core.display.HTML object>"
      ]
     },
     "metadata": {},
     "output_type": "display_data"
    }
   ],
   "source": [
    "displacy.render(doc7, style=\"ent\", jupyter=True)"
   ]
  },
  {
   "cell_type": "code",
   "execution_count": 58,
   "metadata": {},
   "outputs": [
    {
     "data": {
      "text/html": [
       "<span class=\"tex2jax_ignore\"><div class=\"entities\" style=\"line-height: 2.5; direction: ltr\">\n",
       "<mark class=\"entity\" style=\"background: #7aecec; padding: 0.45em 0.6em; margin: 0 0.25em; line-height: 1; border-radius: 0.35em;\">\n",
       "    Apple\n",
       "    <span style=\"font-size: 0.8em; font-weight: bold; line-height: 1; border-radius: 0.35em; text-transform: uppercase; vertical-align: middle; margin-left: 0.5rem\">ORG</span>\n",
       "</mark>\n",
       " is looking at buying \n",
       "<mark class=\"entity\" style=\"background: #feca74; padding: 0.45em 0.6em; margin: 0 0.25em; line-height: 1; border-radius: 0.35em;\">\n",
       "    U.K.\n",
       "    <span style=\"font-size: 0.8em; font-weight: bold; line-height: 1; border-radius: 0.35em; text-transform: uppercase; vertical-align: middle; margin-left: 0.5rem\">GPE</span>\n",
       "</mark>\n",
       " startup for \n",
       "<mark class=\"entity\" style=\"background: #e4e7d2; padding: 0.45em 0.6em; margin: 0 0.25em; line-height: 1; border-radius: 0.35em;\">\n",
       "    1 billion USD\n",
       "    <span style=\"font-size: 0.8em; font-weight: bold; line-height: 1; border-radius: 0.35em; text-transform: uppercase; vertical-align: middle; margin-left: 0.5rem\">MONEY</span>\n",
       "</mark>\n",
       "</div></span>"
      ],
      "text/plain": [
       "<IPython.core.display.HTML object>"
      ]
     },
     "metadata": {},
     "output_type": "display_data"
    }
   ],
   "source": [
    "displacy.render(doc7_lg, style=\"ent\", jupyter=True)"
   ]
  },
  {
   "cell_type": "code",
   "execution_count": 59,
   "metadata": {
    "colab": {
     "base_uri": "https://localhost:8080/",
     "height": 192
    },
    "id": "LBS2-ke3-vLv",
    "outputId": "47034cd6-15ba-412a-c28d-5cfb83d32417"
   },
   "outputs": [
    {
     "data": {
      "text/html": [
       "<span class=\"tex2jax_ignore\"><div class=\"entities\" style=\"line-height: 2.5; direction: ltr\">In ancient \n",
       "<mark class=\"entity\" style=\"background: #feca74; padding: 0.45em 0.6em; margin: 0 0.25em; line-height: 1; border-radius: 0.35em;\">\n",
       "    Rome\n",
       "    <span style=\"font-size: 0.8em; font-weight: bold; line-height: 1; border-radius: 0.35em; text-transform: uppercase; vertical-align: middle; margin-left: 0.5rem\">GPE</span>\n",
       "</mark>\n",
       ", some neighbors live in \n",
       "<mark class=\"entity\" style=\"background: #e4e7d2; padding: 0.45em 0.6em; margin: 0 0.25em; line-height: 1; border-radius: 0.35em;\">\n",
       "    three\n",
       "    <span style=\"font-size: 0.8em; font-weight: bold; line-height: 1; border-radius: 0.35em; text-transform: uppercase; vertical-align: middle; margin-left: 0.5rem\">CARDINAL</span>\n",
       "</mark>\n",
       " adjacent houses. In the center is the house of \n",
       "<mark class=\"entity\" style=\"background: #feca74; padding: 0.45em 0.6em; margin: 0 0.25em; line-height: 1; border-radius: 0.35em;\">\n",
       "    Senex\n",
       "    <span style=\"font-size: 0.8em; font-weight: bold; line-height: 1; border-radius: 0.35em; text-transform: uppercase; vertical-align: middle; margin-left: 0.5rem\">GPE</span>\n",
       "</mark>\n",
       ", who lives there with wife \n",
       "<mark class=\"entity\" style=\"background: #aa9cfc; padding: 0.45em 0.6em; margin: 0 0.25em; line-height: 1; border-radius: 0.35em;\">\n",
       "    Domina\n",
       "    <span style=\"font-size: 0.8em; font-weight: bold; line-height: 1; border-radius: 0.35em; text-transform: uppercase; vertical-align: middle; margin-left: 0.5rem\">PERSON</span>\n",
       "</mark>\n",
       ", son \n",
       "<mark class=\"entity\" style=\"background: #aa9cfc; padding: 0.45em 0.6em; margin: 0 0.25em; line-height: 1; border-radius: 0.35em;\">\n",
       "    Hero\n",
       "    <span style=\"font-size: 0.8em; font-weight: bold; line-height: 1; border-radius: 0.35em; text-transform: uppercase; vertical-align: middle; margin-left: 0.5rem\">PERSON</span>\n",
       "</mark>\n",
       ", and several slaves, including head slave Hysterium and the musical's main character \n",
       "<mark class=\"entity\" style=\"background: #c887fb; padding: 0.45em 0.6em; margin: 0 0.25em; line-height: 1; border-radius: 0.35em;\">\n",
       "    Pseudolus\n",
       "    <span style=\"font-size: 0.8em; font-weight: bold; line-height: 1; border-radius: 0.35em; text-transform: uppercase; vertical-align: middle; margin-left: 0.5rem\">NORP</span>\n",
       "</mark>\n",
       ". A slave belonging to \n",
       "<mark class=\"entity\" style=\"background: #aa9cfc; padding: 0.45em 0.6em; margin: 0 0.25em; line-height: 1; border-radius: 0.35em;\">\n",
       "    Hero\n",
       "    <span style=\"font-size: 0.8em; font-weight: bold; line-height: 1; border-radius: 0.35em; text-transform: uppercase; vertical-align: middle; margin-left: 0.5rem\">PERSON</span>\n",
       "</mark>\n",
       ", \n",
       "<mark class=\"entity\" style=\"background: #c887fb; padding: 0.45em 0.6em; margin: 0 0.25em; line-height: 1; border-radius: 0.35em;\">\n",
       "    Pseudolus\n",
       "    <span style=\"font-size: 0.8em; font-weight: bold; line-height: 1; border-radius: 0.35em; text-transform: uppercase; vertical-align: middle; margin-left: 0.5rem\">NORP</span>\n",
       "</mark>\n",
       " wishes to buy, win, or steal his freedom. \n",
       "<mark class=\"entity\" style=\"background: #e4e7d2; padding: 0.45em 0.6em; margin: 0 0.25em; line-height: 1; border-radius: 0.35em;\">\n",
       "    One\n",
       "    <span style=\"font-size: 0.8em; font-weight: bold; line-height: 1; border-radius: 0.35em; text-transform: uppercase; vertical-align: middle; margin-left: 0.5rem\">CARDINAL</span>\n",
       "</mark>\n",
       " of the neighboring houses is owned by \n",
       "<mark class=\"entity\" style=\"background: #aa9cfc; padding: 0.45em 0.6em; margin: 0 0.25em; line-height: 1; border-radius: 0.35em;\">\n",
       "    Marcus Lycus\n",
       "    <span style=\"font-size: 0.8em; font-weight: bold; line-height: 1; border-radius: 0.35em; text-transform: uppercase; vertical-align: middle; margin-left: 0.5rem\">PERSON</span>\n",
       "</mark>\n",
       ", who is a buyer and seller of beautiful women; the other belongs to the ancient \n",
       "<mark class=\"entity\" style=\"background: #7aecec; padding: 0.45em 0.6em; margin: 0 0.25em; line-height: 1; border-radius: 0.35em;\">\n",
       "    Erronius\n",
       "    <span style=\"font-size: 0.8em; font-weight: bold; line-height: 1; border-radius: 0.35em; text-transform: uppercase; vertical-align: middle; margin-left: 0.5rem\">ORG</span>\n",
       "</mark>\n",
       ", who is abroad searching for his long-lost children (stolen in infancy by pirates). \n",
       "<mark class=\"entity\" style=\"background: #bfe1d9; padding: 0.45em 0.6em; margin: 0 0.25em; line-height: 1; border-radius: 0.35em;\">\n",
       "    One day\n",
       "    <span style=\"font-size: 0.8em; font-weight: bold; line-height: 1; border-radius: 0.35em; text-transform: uppercase; vertical-align: middle; margin-left: 0.5rem\">DATE</span>\n",
       "</mark>\n",
       ", \n",
       "<mark class=\"entity\" style=\"background: #ff9561; padding: 0.45em 0.6em; margin: 0 0.25em; line-height: 1; border-radius: 0.35em;\">\n",
       "    Senex\n",
       "    <span style=\"font-size: 0.8em; font-weight: bold; line-height: 1; border-radius: 0.35em; text-transform: uppercase; vertical-align: middle; margin-left: 0.5rem\">LOC</span>\n",
       "</mark>\n",
       " and \n",
       "<mark class=\"entity\" style=\"background: #aa9cfc; padding: 0.45em 0.6em; margin: 0 0.25em; line-height: 1; border-radius: 0.35em;\">\n",
       "    Domina\n",
       "    <span style=\"font-size: 0.8em; font-weight: bold; line-height: 1; border-radius: 0.35em; text-transform: uppercase; vertical-align: middle; margin-left: 0.5rem\">PERSON</span>\n",
       "</mark>\n",
       " go on a trip and leave \n",
       "<mark class=\"entity\" style=\"background: #c887fb; padding: 0.45em 0.6em; margin: 0 0.25em; line-height: 1; border-radius: 0.35em;\">\n",
       "    Pseudolus\n",
       "    <span style=\"font-size: 0.8em; font-weight: bold; line-height: 1; border-radius: 0.35em; text-transform: uppercase; vertical-align: middle; margin-left: 0.5rem\">NORP</span>\n",
       "</mark>\n",
       " in charge of Hero. Hero confides in \n",
       "<mark class=\"entity\" style=\"background: #feca74; padding: 0.45em 0.6em; margin: 0 0.25em; line-height: 1; border-radius: 0.35em;\">\n",
       "    Pseudolus\n",
       "    <span style=\"font-size: 0.8em; font-weight: bold; line-height: 1; border-radius: 0.35em; text-transform: uppercase; vertical-align: middle; margin-left: 0.5rem\">GPE</span>\n",
       "</mark>\n",
       " that he is in love with the lovely \n",
       "<mark class=\"entity\" style=\"background: #feca74; padding: 0.45em 0.6em; margin: 0 0.25em; line-height: 1; border-radius: 0.35em;\">\n",
       "    Philia\n",
       "    <span style=\"font-size: 0.8em; font-weight: bold; line-height: 1; border-radius: 0.35em; text-transform: uppercase; vertical-align: middle; margin-left: 0.5rem\">GPE</span>\n",
       "</mark>\n",
       ", \n",
       "<mark class=\"entity\" style=\"background: #e4e7d2; padding: 0.45em 0.6em; margin: 0 0.25em; line-height: 1; border-radius: 0.35em;\">\n",
       "    one\n",
       "    <span style=\"font-size: 0.8em; font-weight: bold; line-height: 1; border-radius: 0.35em; text-transform: uppercase; vertical-align: middle; margin-left: 0.5rem\">CARDINAL</span>\n",
       "</mark>\n",
       " of the courtesans in \n",
       "<mark class=\"entity\" style=\"background: #7aecec; padding: 0.45em 0.6em; margin: 0 0.25em; line-height: 1; border-radius: 0.35em;\">\n",
       "    the House of Lycus\n",
       "    <span style=\"font-size: 0.8em; font-weight: bold; line-height: 1; border-radius: 0.35em; text-transform: uppercase; vertical-align: middle; margin-left: 0.5rem\">ORG</span>\n",
       "</mark>\n",
       " (albeit still a virgin).</div></span>"
      ],
      "text/plain": [
       "<IPython.core.display.HTML object>"
      ]
     },
     "metadata": {},
     "output_type": "display_data"
    }
   ],
   "source": [
    "displacy.render(doc6, style=\"ent\", jupyter=True)"
   ]
  },
  {
   "cell_type": "code",
   "execution_count": 60,
   "metadata": {},
   "outputs": [
    {
     "data": {
      "text/html": [
       "<span class=\"tex2jax_ignore\"><div class=\"entities\" style=\"line-height: 2.5; direction: ltr\">In ancient \n",
       "<mark class=\"entity\" style=\"background: #feca74; padding: 0.45em 0.6em; margin: 0 0.25em; line-height: 1; border-radius: 0.35em;\">\n",
       "    Rome\n",
       "    <span style=\"font-size: 0.8em; font-weight: bold; line-height: 1; border-radius: 0.35em; text-transform: uppercase; vertical-align: middle; margin-left: 0.5rem\">GPE</span>\n",
       "</mark>\n",
       ", some neighbors live in \n",
       "<mark class=\"entity\" style=\"background: #e4e7d2; padding: 0.45em 0.6em; margin: 0 0.25em; line-height: 1; border-radius: 0.35em;\">\n",
       "    three\n",
       "    <span style=\"font-size: 0.8em; font-weight: bold; line-height: 1; border-radius: 0.35em; text-transform: uppercase; vertical-align: middle; margin-left: 0.5rem\">CARDINAL</span>\n",
       "</mark>\n",
       " adjacent houses. In the center is the house of \n",
       "<mark class=\"entity\" style=\"background: #feca74; padding: 0.45em 0.6em; margin: 0 0.25em; line-height: 1; border-radius: 0.35em;\">\n",
       "    Senex\n",
       "    <span style=\"font-size: 0.8em; font-weight: bold; line-height: 1; border-radius: 0.35em; text-transform: uppercase; vertical-align: middle; margin-left: 0.5rem\">GPE</span>\n",
       "</mark>\n",
       ", who lives there with wife \n",
       "<mark class=\"entity\" style=\"background: #aa9cfc; padding: 0.45em 0.6em; margin: 0 0.25em; line-height: 1; border-radius: 0.35em;\">\n",
       "    Domina\n",
       "    <span style=\"font-size: 0.8em; font-weight: bold; line-height: 1; border-radius: 0.35em; text-transform: uppercase; vertical-align: middle; margin-left: 0.5rem\">PERSON</span>\n",
       "</mark>\n",
       ", son \n",
       "<mark class=\"entity\" style=\"background: #aa9cfc; padding: 0.45em 0.6em; margin: 0 0.25em; line-height: 1; border-radius: 0.35em;\">\n",
       "    Hero\n",
       "    <span style=\"font-size: 0.8em; font-weight: bold; line-height: 1; border-radius: 0.35em; text-transform: uppercase; vertical-align: middle; margin-left: 0.5rem\">PERSON</span>\n",
       "</mark>\n",
       ", and several slaves, including head slave \n",
       "<mark class=\"entity\" style=\"background: #feca74; padding: 0.45em 0.6em; margin: 0 0.25em; line-height: 1; border-radius: 0.35em;\">\n",
       "    Hysterium\n",
       "    <span style=\"font-size: 0.8em; font-weight: bold; line-height: 1; border-radius: 0.35em; text-transform: uppercase; vertical-align: middle; margin-left: 0.5rem\">GPE</span>\n",
       "</mark>\n",
       " and the musical's main character \n",
       "<mark class=\"entity\" style=\"background: #feca74; padding: 0.45em 0.6em; margin: 0 0.25em; line-height: 1; border-radius: 0.35em;\">\n",
       "    Pseudolus\n",
       "    <span style=\"font-size: 0.8em; font-weight: bold; line-height: 1; border-radius: 0.35em; text-transform: uppercase; vertical-align: middle; margin-left: 0.5rem\">GPE</span>\n",
       "</mark>\n",
       ". A slave belonging to \n",
       "<mark class=\"entity\" style=\"background: #7aecec; padding: 0.45em 0.6em; margin: 0 0.25em; line-height: 1; border-radius: 0.35em;\">\n",
       "    Hero\n",
       "    <span style=\"font-size: 0.8em; font-weight: bold; line-height: 1; border-radius: 0.35em; text-transform: uppercase; vertical-align: middle; margin-left: 0.5rem\">ORG</span>\n",
       "</mark>\n",
       ", \n",
       "<mark class=\"entity\" style=\"background: #feca74; padding: 0.45em 0.6em; margin: 0 0.25em; line-height: 1; border-radius: 0.35em;\">\n",
       "    Pseudolus\n",
       "    <span style=\"font-size: 0.8em; font-weight: bold; line-height: 1; border-radius: 0.35em; text-transform: uppercase; vertical-align: middle; margin-left: 0.5rem\">GPE</span>\n",
       "</mark>\n",
       " wishes to buy, win, or steal his freedom. \n",
       "<mark class=\"entity\" style=\"background: #e4e7d2; padding: 0.45em 0.6em; margin: 0 0.25em; line-height: 1; border-radius: 0.35em;\">\n",
       "    One\n",
       "    <span style=\"font-size: 0.8em; font-weight: bold; line-height: 1; border-radius: 0.35em; text-transform: uppercase; vertical-align: middle; margin-left: 0.5rem\">CARDINAL</span>\n",
       "</mark>\n",
       " of the neighboring houses is owned by \n",
       "<mark class=\"entity\" style=\"background: #aa9cfc; padding: 0.45em 0.6em; margin: 0 0.25em; line-height: 1; border-radius: 0.35em;\">\n",
       "    Marcus Lycus\n",
       "    <span style=\"font-size: 0.8em; font-weight: bold; line-height: 1; border-radius: 0.35em; text-transform: uppercase; vertical-align: middle; margin-left: 0.5rem\">PERSON</span>\n",
       "</mark>\n",
       ", who is a buyer and seller of beautiful women; the other belongs to the ancient \n",
       "<mark class=\"entity\" style=\"background: #7aecec; padding: 0.45em 0.6em; margin: 0 0.25em; line-height: 1; border-radius: 0.35em;\">\n",
       "    Erronius\n",
       "    <span style=\"font-size: 0.8em; font-weight: bold; line-height: 1; border-radius: 0.35em; text-transform: uppercase; vertical-align: middle; margin-left: 0.5rem\">ORG</span>\n",
       "</mark>\n",
       ", who is abroad searching for his long-lost children (stolen in infancy by pirates). \n",
       "<mark class=\"entity\" style=\"background: #e4e7d2; padding: 0.45em 0.6em; margin: 0 0.25em; line-height: 1; border-radius: 0.35em;\">\n",
       "    One\n",
       "    <span style=\"font-size: 0.8em; font-weight: bold; line-height: 1; border-radius: 0.35em; text-transform: uppercase; vertical-align: middle; margin-left: 0.5rem\">CARDINAL</span>\n",
       "</mark>\n",
       " day, \n",
       "<mark class=\"entity\" style=\"background: #ff9561; padding: 0.45em 0.6em; margin: 0 0.25em; line-height: 1; border-radius: 0.35em;\">\n",
       "    Senex\n",
       "    <span style=\"font-size: 0.8em; font-weight: bold; line-height: 1; border-radius: 0.35em; text-transform: uppercase; vertical-align: middle; margin-left: 0.5rem\">LOC</span>\n",
       "</mark>\n",
       " and \n",
       "<mark class=\"entity\" style=\"background: #aa9cfc; padding: 0.45em 0.6em; margin: 0 0.25em; line-height: 1; border-radius: 0.35em;\">\n",
       "    Domina\n",
       "    <span style=\"font-size: 0.8em; font-weight: bold; line-height: 1; border-radius: 0.35em; text-transform: uppercase; vertical-align: middle; margin-left: 0.5rem\">PERSON</span>\n",
       "</mark>\n",
       " go on a trip and leave \n",
       "<mark class=\"entity\" style=\"background: #feca74; padding: 0.45em 0.6em; margin: 0 0.25em; line-height: 1; border-radius: 0.35em;\">\n",
       "    Pseudolus\n",
       "    <span style=\"font-size: 0.8em; font-weight: bold; line-height: 1; border-radius: 0.35em; text-transform: uppercase; vertical-align: middle; margin-left: 0.5rem\">GPE</span>\n",
       "</mark>\n",
       " in charge of \n",
       "<mark class=\"entity\" style=\"background: #7aecec; padding: 0.45em 0.6em; margin: 0 0.25em; line-height: 1; border-radius: 0.35em;\">\n",
       "    Hero\n",
       "    <span style=\"font-size: 0.8em; font-weight: bold; line-height: 1; border-radius: 0.35em; text-transform: uppercase; vertical-align: middle; margin-left: 0.5rem\">ORG</span>\n",
       "</mark>\n",
       ". Hero confides in \n",
       "<mark class=\"entity\" style=\"background: #feca74; padding: 0.45em 0.6em; margin: 0 0.25em; line-height: 1; border-radius: 0.35em;\">\n",
       "    Pseudolus\n",
       "    <span style=\"font-size: 0.8em; font-weight: bold; line-height: 1; border-radius: 0.35em; text-transform: uppercase; vertical-align: middle; margin-left: 0.5rem\">GPE</span>\n",
       "</mark>\n",
       " that he is in love with the lovely Philia, one of the courtesans in \n",
       "<mark class=\"entity\" style=\"background: #7aecec; padding: 0.45em 0.6em; margin: 0 0.25em; line-height: 1; border-radius: 0.35em;\">\n",
       "    the House of Lycus\n",
       "    <span style=\"font-size: 0.8em; font-weight: bold; line-height: 1; border-radius: 0.35em; text-transform: uppercase; vertical-align: middle; margin-left: 0.5rem\">ORG</span>\n",
       "</mark>\n",
       " (albeit still a virgin).</div></span>"
      ],
      "text/plain": [
       "<IPython.core.display.HTML object>"
      ]
     },
     "metadata": {},
     "output_type": "display_data"
    }
   ],
   "source": [
    "displacy.render(doc6_lg, style=\"ent\", jupyter=True)"
   ]
  },
  {
   "cell_type": "markdown",
   "metadata": {
    "id": "cTx01agLvxGi"
   },
   "source": [
    "## Word vectors and similarity\n",
    "\n",
    "The similarity or distance between two words can be done by comparing **word vectors** or *word embeddings*, which are multi-dimensional meaning representations of a word.\n",
    "\n",
    "Word vectors are usually created by using an algorithm like word2vec.\n",
    "\n",
    "To make them compact and fast, spaCy’s small models (all packages that end in sm) don’t ship with word vectors, and only include context-sensitive tensors. This means you can still use the similarity() methods to compare documents, spans and tokens – but the result won’t be as good, and individual tokens won’t have any vectors assigned. So in order to use real word vectors, you need to download a larger model, such as `en_core_web_md` or `en_core_web_lg`.\n",
    "\n",
    "**IMPORTANT!!** In Google Colab, download the following cell and then restart runtime to locate the downloaded model.\n",
    "\n",
    "A word vector looks like the following array: \n",
    "\n",
    "![alt text](https://miro.medium.com/max/560/1*Bp64BP0Buo9ZZWIyh6QzEQ.png)"
   ]
  },
  {
   "cell_type": "code",
   "execution_count": 61,
   "metadata": {
    "colab": {
     "base_uri": "https://localhost:8080/"
    },
    "id": "f2lQoQpowKC-",
    "outputId": "cf738260-e2c4-4be2-bdf5-a48e6f8a36c5"
   },
   "outputs": [
    {
     "name": "stdout",
     "output_type": "stream",
     "text": [
      "Requirement already satisfied: en_core_web_md==2.3.1 from https://github.com/explosion/spacy-models/releases/download/en_core_web_md-2.3.1/en_core_web_md-2.3.1.tar.gz#egg=en_core_web_md==2.3.1 in /opt/anaconda3/lib/python3.8/site-packages (2.3.1)\n",
      "Requirement already satisfied: spacy<2.4.0,>=2.3.0 in /opt/anaconda3/lib/python3.8/site-packages (from en_core_web_md==2.3.1) (2.3.2)\n",
      "Requirement already satisfied: setuptools in /opt/anaconda3/lib/python3.8/site-packages (from spacy<2.4.0,>=2.3.0->en_core_web_md==2.3.1) (50.3.1.post20201107)\n",
      "Requirement already satisfied: requests<3.0.0,>=2.13.0 in /opt/anaconda3/lib/python3.8/site-packages (from spacy<2.4.0,>=2.3.0->en_core_web_md==2.3.1) (2.24.0)\n",
      "Requirement already satisfied: blis<0.5.0,>=0.4.0 in /opt/anaconda3/lib/python3.8/site-packages (from spacy<2.4.0,>=2.3.0->en_core_web_md==2.3.1) (0.4.1)\n",
      "Requirement already satisfied: murmurhash<1.1.0,>=0.28.0 in /opt/anaconda3/lib/python3.8/site-packages (from spacy<2.4.0,>=2.3.0->en_core_web_md==2.3.1) (1.0.2)\n",
      "Requirement already satisfied: cymem<2.1.0,>=2.0.2 in /opt/anaconda3/lib/python3.8/site-packages (from spacy<2.4.0,>=2.3.0->en_core_web_md==2.3.1) (2.0.4)\n",
      "Requirement already satisfied: numpy>=1.15.0 in /opt/anaconda3/lib/python3.8/site-packages (from spacy<2.4.0,>=2.3.0->en_core_web_md==2.3.1) (1.19.2)\n",
      "Requirement already satisfied: catalogue<1.1.0,>=0.0.7 in /opt/anaconda3/lib/python3.8/site-packages (from spacy<2.4.0,>=2.3.0->en_core_web_md==2.3.1) (1.0.0)\n",
      "Requirement already satisfied: preshed<3.1.0,>=3.0.2 in /opt/anaconda3/lib/python3.8/site-packages (from spacy<2.4.0,>=2.3.0->en_core_web_md==2.3.1) (3.0.2)\n",
      "Requirement already satisfied: thinc==7.4.1 in /opt/anaconda3/lib/python3.8/site-packages (from spacy<2.4.0,>=2.3.0->en_core_web_md==2.3.1) (7.4.1)\n",
      "Requirement already satisfied: wasabi<1.1.0,>=0.4.0 in /opt/anaconda3/lib/python3.8/site-packages (from spacy<2.4.0,>=2.3.0->en_core_web_md==2.3.1) (0.8.0)\n",
      "Requirement already satisfied: srsly<1.1.0,>=1.0.2 in /opt/anaconda3/lib/python3.8/site-packages (from spacy<2.4.0,>=2.3.0->en_core_web_md==2.3.1) (1.0.2)\n",
      "Requirement already satisfied: plac<1.2.0,>=0.9.6 in /opt/anaconda3/lib/python3.8/site-packages (from spacy<2.4.0,>=2.3.0->en_core_web_md==2.3.1) (0.9.6)\n",
      "Requirement already satisfied: tqdm<5.0.0,>=4.38.0 in /opt/anaconda3/lib/python3.8/site-packages (from spacy<2.4.0,>=2.3.0->en_core_web_md==2.3.1) (4.51.0)\n",
      "Requirement already satisfied: chardet<4,>=3.0.2 in /opt/anaconda3/lib/python3.8/site-packages (from requests<3.0.0,>=2.13.0->spacy<2.4.0,>=2.3.0->en_core_web_md==2.3.1) (3.0.4)\n",
      "Requirement already satisfied: certifi>=2017.4.17 in /opt/anaconda3/lib/python3.8/site-packages (from requests<3.0.0,>=2.13.0->spacy<2.4.0,>=2.3.0->en_core_web_md==2.3.1) (2020.11.8)\n",
      "Requirement already satisfied: urllib3!=1.25.0,!=1.25.1,<1.26,>=1.21.1 in /opt/anaconda3/lib/python3.8/site-packages (from requests<3.0.0,>=2.13.0->spacy<2.4.0,>=2.3.0->en_core_web_md==2.3.1) (1.25.11)\n",
      "Requirement already satisfied: idna<3,>=2.5 in /opt/anaconda3/lib/python3.8/site-packages (from requests<3.0.0,>=2.13.0->spacy<2.4.0,>=2.3.0->en_core_web_md==2.3.1) (2.10)\n",
      "\u001b[38;5;2m✔ Download and installation successful\u001b[0m\n",
      "You can now load the model via spacy.load('en_core_web_md')\n"
     ]
    }
   ],
   "source": [
    "!python -m spacy download en_core_web_md"
   ]
  },
  {
   "cell_type": "markdown",
   "metadata": {
    "id": "aWqmnIZa0yzy"
   },
   "source": [
    "The word vectors can be explored with the following techniques then:\n",
    "\n",
    "* **Text**: The original token text.\n",
    "* **has vector**: Does the token have a vector representation?\n",
    "* **Vector norm**: The L2 norm of the token’s vector (the square root of the sum of the values squared)\n",
    "* **OOV**: Out-of-vocabulary"
   ]
  },
  {
   "cell_type": "code",
   "execution_count": 62,
   "metadata": {
    "colab": {
     "base_uri": "https://localhost:8080/"
    },
    "id": "fkPFASlR_iOI",
    "outputId": "a177b12e-f8b0-4769-a8f6-696231882fe4"
   },
   "outputs": [
    {
     "name": "stdout",
     "output_type": "stream",
     "text": [
      "dog True 7.0336733 False\n",
      "cat True 6.6808186 False\n",
      "banana True 6.700014 False\n",
      "afskfsd False 0.0 True\n"
     ]
    }
   ],
   "source": [
    "import spacy\n",
    "\n",
    "nlp = spacy.load(\"en_core_web_md\")\n",
    "tokens = nlp(\"dog cat banana afskfsd\")\n",
    "\n",
    "for token in tokens:\n",
    "    print(token.text, token.has_vector, token.vector_norm, token.is_oov)"
   ]
  },
  {
   "cell_type": "markdown",
   "metadata": {
    "id": "QT-fbAZf2bfB"
   },
   "source": [
    "The words “dog”, “cat” and “banana” are all pretty common in English, so they’re part of the model’s vocabulary, and come with a vector. The word “afskfsd” on the other hand is a lot less common and out-of-vocabulary – so its vector representation consists of 300 dimensions of 0, which means it’s practically nonexistent. \n",
    "\n",
    "spaCy is able to compare two objects, and make a prediction of how similar they are. Predicting similarity is useful for building recommendation systems or flagging duplicates. For example, you can suggest a user content that’s similar to what they’re currently looking at, or label a support ticket as a duplicate if it’s very similar to an already existing one.\n",
    "\n",
    "Each Doc, Span and Token comes with a .similarity() method that lets you compare it with another object, and determine the similarity. Of course similarity is always subjective – whether “dog” and “cat” are similar really depends on how you’re looking at it. spaCy’s similarity model usually assumes a pretty general-purpose definition of similarity."
   ]
  },
  {
   "cell_type": "code",
   "execution_count": 63,
   "metadata": {
    "colab": {
     "base_uri": "https://localhost:8080/"
    },
    "id": "QM55wLVeyra1",
    "outputId": "641db032-91d8-4c1b-fe7c-6cae04d2ccaa"
   },
   "outputs": [
    {
     "name": "stdout",
     "output_type": "stream",
     "text": [
      "dog dog 1.0\n",
      "dog cat 0.8016855\n",
      "dog banana 0.24327648\n",
      "dog ! 0.29852203\n",
      "cat dog 0.8016855\n",
      "cat cat 1.0\n",
      "cat banana 0.28154367\n",
      "cat ! 0.29702348\n",
      "banana dog 0.24327648\n",
      "banana cat 0.28154367\n",
      "banana banana 1.0\n",
      "banana ! 0.27213\n",
      "! dog 0.29852203\n",
      "! cat 0.29702348\n",
      "! banana 0.27213\n",
      "! ! 1.0\n"
     ]
    }
   ],
   "source": [
    "import spacy\n",
    "\n",
    "nlp_lg = spacy.load(\"en_core_web_lg\")  # make sure to use larger model!\n",
    "tokens = nlp(\"dog cat banana !\")\n",
    "\n",
    "for token1 in tokens:\n",
    "    for token2 in tokens:\n",
    "        print(token1.text, token2.text, token1.similarity(token2))"
   ]
  },
  {
   "cell_type": "markdown",
   "metadata": {
    "id": "PaCnvLAi6iGW"
   },
   "source": [
    "## The Vocab object\n",
    "\n",
    "spaCy tries to store the data in a vocabulary, i.e. `Vocab` that is shared by multiple documents. \n",
    "\n",
    "To save memory, spaCy also encodes all strings to hash values – in this case for example, “coffee” has the hash 3197928453018144401. Entity labels like “ORG” and part-of-speech tags like “VERB” are also encoded. Internally, spaCy only “speaks” in hash values.\n",
    "\n",
    "* **Token**: A word, punctuation mark etc. in context, including its attributes, tags and dependencies.\n",
    "* **Lexeme**: A “word type” with no context. Includes the word shape and flags, e.g. if it’s lowercase, a digit or punctuation.\n",
    "* **Doc**: A processed container of tokens in context.\n",
    "* **Vocab**: The collection of lexemes.\n",
    "* **StringStore**: The dictionary mapping hash values to strings, for example 3197928453018144401 → “coffee”.\n",
    "\n",
    "Thus: \n",
    "\n",
    "* `Vocab` objects contain a set of look-up tables that make common information available across documents.\n",
    "* Indexing the `Vocab` retrieves a `Lexeme`, which contains all the context-independent information about a word.\n",
    "\n",
    "![alt text](https://spacy.io/vocab_stringstore-1d1c9ccd7a1cf4d168bfe4ca791e6eed.svg)\n",
    "\n"
   ]
  },
  {
   "cell_type": "code",
   "execution_count": 64,
   "metadata": {
    "colab": {
     "base_uri": "https://localhost:8080/",
     "height": 34
    },
    "id": "Qj-5mite9mIK",
    "outputId": "6e103ca2-39a5-4f59-be0b-8f483c8e2c8d"
   },
   "outputs": [
    {
     "data": {
      "text/plain": [
       "<spacy.vocab.Vocab at 0x7fd09908ad40>"
      ]
     },
     "execution_count": 64,
     "metadata": {},
     "output_type": "execute_result"
    }
   ],
   "source": [
    "nlp.vocab"
   ]
  },
  {
   "cell_type": "code",
   "execution_count": 65,
   "metadata": {
    "colab": {
     "base_uri": "https://localhost:8080/",
     "height": 34
    },
    "id": "Vg-Q-_XV9sqm",
    "outputId": "59bfdc59-2db5-4929-a615-694204815ec2"
   },
   "outputs": [
    {
     "data": {
      "text/plain": [
       "<spacy.lexeme.Lexeme at 0x7fd02fa7cc80>"
      ]
     },
     "execution_count": 65,
     "metadata": {},
     "output_type": "execute_result"
    }
   ],
   "source": [
    "doc7.vocab[\"Apple\"]"
   ]
  },
  {
   "cell_type": "code",
   "execution_count": 66,
   "metadata": {
    "colab": {
     "base_uri": "https://localhost:8080/",
     "height": 34
    },
    "id": "vjCFRsyo94G1",
    "outputId": "a7def412-7c4d-4a82-9b98-bc8794d7e6a4"
   },
   "outputs": [
    {
     "data": {
      "text/plain": [
       "<spacy.lexeme.Lexeme at 0x7fd0382f31c0>"
      ]
     },
     "execution_count": 66,
     "metadata": {},
     "output_type": "execute_result"
    }
   ],
   "source": [
    "lex = doc7.vocab[\"million\"]\n",
    "lex"
   ]
  },
  {
   "cell_type": "code",
   "execution_count": 67,
   "metadata": {
    "colab": {
     "base_uri": "https://localhost:8080/",
     "height": 34
    },
    "id": "dixcACbB994o",
    "outputId": "ffbbb94e-10a1-461d-a66b-e27567f509fb"
   },
   "outputs": [
    {
     "data": {
      "text/plain": [
       "'xxxx'"
      ]
     },
     "execution_count": 67,
     "metadata": {},
     "output_type": "execute_result"
    }
   ],
   "source": [
    "lex.shape_"
   ]
  },
  {
   "cell_type": "code",
   "execution_count": 68,
   "metadata": {
    "colab": {
     "base_uri": "https://localhost:8080/",
     "height": 34
    },
    "id": "-1I3Kp_V-AzH",
    "outputId": "c65ab9d6-c5d9-49cf-c78d-16fcd1979118"
   },
   "outputs": [
    {
     "data": {
      "text/plain": [
       "'million'"
      ]
     },
     "execution_count": 68,
     "metadata": {},
     "output_type": "execute_result"
    }
   ],
   "source": [
    "lex.text"
   ]
  },
  {
   "cell_type": "code",
   "execution_count": 69,
   "metadata": {
    "colab": {
     "base_uri": "https://localhost:8080/",
     "height": 34
    },
    "id": "T6gbPjeh-B_j",
    "outputId": "addbcaeb-bae4-42ce-f58c-e451840d7360"
   },
   "outputs": [
    {
     "data": {
      "text/plain": [
       "True"
      ]
     },
     "execution_count": 69,
     "metadata": {},
     "output_type": "execute_result"
    }
   ],
   "source": [
    "lex.is_alpha"
   ]
  },
  {
   "cell_type": "markdown",
   "metadata": {
    "id": "pgVUba0w6x-c"
   },
   "source": [
    "# Hands on: practical examples"
   ]
  },
  {
   "cell_type": "markdown",
   "metadata": {
    "id": "KQJAS9b67KIB"
   },
   "source": [
    "## Word frequency\n",
    "\n",
    "We can compute the word frequency on a text using spaCy. Within the Holy Grail dataset, lets:\n",
    "\n",
    "\n",
    "\n",
    "*   Let's find the 5 most common nouns\n",
    "*   Let's find the 20 most common lemmas that are not stopwords\n",
    "\n"
   ]
  },
  {
   "cell_type": "code",
   "execution_count": 70,
   "metadata": {
    "colab": {
     "base_uri": "https://localhost:8080/"
    },
    "id": "uZ3zlWUS602k",
    "outputId": "4e09592c-5352-450e-cae4-5f9605b99a4e"
   },
   "outputs": [
    {
     "name": "stdout",
     "output_type": "stream",
     "text": [
      "--2020-11-19 12:43:59--  https://raw.githubusercontent.com/vfp1/bts-dsf-2020/main/data/what_da_holy.txt\n",
      "Resolviendo raw.githubusercontent.com (raw.githubusercontent.com)... 151.101.132.133\n",
      "Conectando con raw.githubusercontent.com (raw.githubusercontent.com)[151.101.132.133]:443... conectado.\n",
      "Petición HTTP enviada, esperando respuesta... 200 OK\n",
      "Longitud: 65003 (63K) [text/plain]\n",
      "Grabando a: “what_da_holy.txt”\n",
      "\n",
      "what_da_holy.txt    100%[===================>]  63,48K  --.-KB/s    en 0,03s   \n",
      "\n",
      "2020-11-19 12:44:00 (2,27 MB/s) - “what_da_holy.txt” guardado [65003/65003]\n",
      "\n"
     ]
    }
   ],
   "source": [
    "!wget 'https://raw.githubusercontent.com/vfp1/bts-dsf-2020/main/data/what_da_holy.txt'"
   ]
  },
  {
   "cell_type": "markdown",
   "metadata": {
    "id": "q5ltWhKMGdbM"
   },
   "source": [
    "### Find the 5 most common nouns"
   ]
  },
  {
   "cell_type": "code",
   "execution_count": 98,
   "metadata": {
    "id": "A8ETiMYyBkqo"
   },
   "outputs": [],
   "source": [
    "import spacy\n",
    "\n",
    "nlp = spacy.load(\"en\")\n",
    "\n",
    "holy_grail = nlp(open('what_da_holy.txt', 'r').read())"
   ]
  },
  {
   "cell_type": "code",
   "execution_count": 99,
   "metadata": {
    "id": "LMsQCxazDBe-"
   },
   "outputs": [],
   "source": [
    "from collections import Counter\n",
    "from spacy.lang.en.stop_words import STOP_WORDS\n",
    "\n",
    "char_counter = Counter()\n",
    "\n",
    "for token in holy_grail:\n",
    "    if token.pos_ == 'NOUN' and token.text not in STOP_WORDS and token.text != '#':\n",
    "        char_counter[token.text] += 1"
   ]
  },
  {
   "cell_type": "code",
   "execution_count": 100,
   "metadata": {
    "colab": {
     "base_uri": "https://localhost:8080/"
    },
    "id": "2ryIDsxuDONW",
    "outputId": "d2900746-5826-4343-da92-df0c597011e9"
   },
   "outputs": [
    {
     "data": {
      "text/plain": [
       "[('BEDEVERE', 61), ('boom', 45), ('witch', 37), ('singing', 29), ('music', 29)]"
      ]
     },
     "execution_count": 100,
     "metadata": {},
     "output_type": "execute_result"
    }
   ],
   "source": [
    "char_counter.most_common(5)"
   ]
  },
  {
   "cell_type": "markdown",
   "metadata": {
    "id": "hdz3FWI9Gi79"
   },
   "source": [
    "### Find the 20 most common lemmas that are not stopwords"
   ]
  },
  {
   "cell_type": "code",
   "execution_count": 101,
   "metadata": {
    "id": "NIXHe3iCGxMx"
   },
   "outputs": [],
   "source": [
    "from collections import Counter\n",
    "from spacy.lang.en.stop_words import STOP_WORDS\n",
    "\n",
    "lemmas = Counter()\n",
    "\n",
    "for token in holy_grail:\n",
    "    if token.pos_ != 'PROPN' and not token.is_punct and not token.is_digit and not token.is_space and token.lower_ not in STOP_WORDS:\n",
    "        lemmas[token.lemma_] += 1"
   ]
  },
  {
   "cell_type": "code",
   "execution_count": 75,
   "metadata": {
    "colab": {
     "base_uri": "https://localhost:8080/"
    },
    "id": "yAn8t5kKHRMB",
    "outputId": "83176ac8-3f41-4202-ab7c-d5a295a6a0b1"
   },
   "outputs": [
    {
     "data": {
      "text/plain": [
       "[('oh', 110),\n",
       " ('BEDEVERE', 61),\n",
       " ('ha', 59),\n",
       " ('yes', 53),\n",
       " ('right', 49),\n",
       " ('come', 46),\n",
       " ('witch', 45),\n",
       " ('boom', 45),\n",
       " ('guard', 44),\n",
       " ('burn', 39),\n",
       " ('away', 38),\n",
       " ('look', 37),\n",
       " ('stop', 35),\n",
       " ('uh', 33),\n",
       " ('scene', 31),\n",
       " ('get', 30),\n",
       " ('tell', 30),\n",
       " ('dead', 30),\n",
       " ('mumble', 30),\n",
       " ('singing', 29)]"
      ]
     },
     "execution_count": 75,
     "metadata": {},
     "output_type": "execute_result"
    }
   ],
   "source": [
    "counts = Counter(lemmas)\n",
    "counts.most_common(20)"
   ]
  },
  {
   "cell_type": "markdown",
   "metadata": {
    "id": "rRRSwVjpJXxF"
   },
   "source": [
    "### Your turn\n",
    "\n",
    "* Let's find the 5 most common verbs\n",
    "* Let's find the 5 most common personal names\n",
    "* Let's find the 20 most common lemmas that are not stopwords, not numbers and not personal names"
   ]
  },
  {
   "cell_type": "code",
   "execution_count": null,
   "metadata": {
    "id": "eMzD5GpipS13"
   },
   "outputs": [],
   "source": []
  },
  {
   "cell_type": "markdown",
   "metadata": {
    "id": "8_xXkO_b7WrG"
   },
   "source": [
    "## Dispersion plots\n",
    "\n",
    "1. Load the `holy_grail.txt` dataset and create a dictionary of names and indexes like `{\"NAME\": [1, 2, 5, 10, ...]}` to store when does each proper noun appear among the 5 most frequent ones.\n",
    "2. Visualize the appearances of the character that is named the most.\n",
    "3. Visualize in the same graph the appearances of the top 5 characters to compare them."
   ]
  },
  {
   "cell_type": "code",
   "execution_count": 76,
   "metadata": {
    "id": "Jma_xH1s7YD0"
   },
   "outputs": [],
   "source": [
    "from spacy import load\n",
    "\n",
    "nlp = load(\"en\")"
   ]
  },
  {
   "cell_type": "code",
   "execution_count": 77,
   "metadata": {
    "id": "lY3hpd3VIIDb"
   },
   "outputs": [],
   "source": [
    "holy_grail = nlp(open(\"what_da_holy.txt\", 'r').read())"
   ]
  },
  {
   "cell_type": "code",
   "execution_count": 78,
   "metadata": {
    "id": "lcUhtPg3KMYa"
   },
   "outputs": [],
   "source": [
    "# We are using Counter to start the tuple madness\n",
    "from collections import Counter\n",
    "\n",
    "char_counter = Counter()\n",
    "\n",
    "for token in holy_grail:\n",
    "    if token.pos_ == 'PROPN':\n",
    "        char_counter[token.text] += 1"
   ]
  },
  {
   "cell_type": "code",
   "execution_count": 79,
   "metadata": {
    "colab": {
     "base_uri": "https://localhost:8080/"
    },
    "id": "FQLta8KLKQhc",
    "outputId": "128cb5fa-9be3-4c84-8ca5-0702b3d64dd7"
   },
   "outputs": [
    {
     "data": {
      "text/plain": [
       "[('ARTHUR', 223),\n",
       " ('LAUNCELOT', 76),\n",
       " ('KNIGHT', 68),\n",
       " ('GALAHAD', 68),\n",
       " ('FATHER', 63),\n",
       " ('HEAD', 54),\n",
       " ('Sir', 52),\n",
       " ('VILLAGER', 47),\n",
       " ('Ni', 44),\n",
       " ('Arthur', 36)]"
      ]
     },
     "execution_count": 79,
     "metadata": {},
     "output_type": "execute_result"
    }
   ],
   "source": [
    "char_counter.most_common(10)"
   ]
  },
  {
   "cell_type": "markdown",
   "metadata": {
    "id": "gZSZrhV_ML2C"
   },
   "source": [
    "We get Sir or HEAD within the characters, actually HEAD is a character, but Sir is not, let's change that using a `special case`, instead of the longer and ardous task of training.\n",
    "\n",
    "* HEAD should be HEAD KNIGHT\n",
    "* NI should be KNIGHTS OF NI "
   ]
  },
  {
   "cell_type": "code",
   "execution_count": 80,
   "metadata": {
    "id": "_Mpqv-9tMeUu"
   },
   "outputs": [],
   "source": [
    "import spacy\n",
    "\n",
    "from spacy.symbols import ORTH, POS, NOUN, VERB, TAG, PROPN\n",
    "\n",
    "nlp_modified = spacy.load('en')\n",
    "nlp_modified.tokenizer.add_special_case('Sir', [{ORTH: 'Sir', POS: NOUN, TAG: NOUN}])\n",
    "nlp_modified.tokenizer.add_special_case('HEAD', [{ORTH: 'HEAD KNIGHT', POS: PROPN, TAG: PROPN}])\n",
    "nlp_modified.tokenizer.add_special_case('KNIGHT', [{ORTH: 'HEAD KNIGHT', POS: PROPN, TAG: PROPN}])\n",
    "nlp_modified.tokenizer.add_special_case('NI', [{ORTH: 'KNIGHTS OF NI', POS: PROPN, TAG: PROPN}])\n",
    "nlp_modified.tokenizer.add_special_case('Ni', [{ORTH: 'KNIGHTS OF NI', POS: PROPN, TAG: PROPN}])"
   ]
  },
  {
   "cell_type": "markdown",
   "metadata": {
    "id": "SjikAIe0Mtmy"
   },
   "source": [
    "Let's try it again"
   ]
  },
  {
   "cell_type": "code",
   "execution_count": 81,
   "metadata": {
    "id": "7eu6fFJRM9nB"
   },
   "outputs": [],
   "source": [
    "holy_grail2 = nlp_modified(open(\"what_da_holy.txt\", 'r').read())"
   ]
  },
  {
   "cell_type": "code",
   "execution_count": 82,
   "metadata": {
    "id": "xCaMiq2lMxUm"
   },
   "outputs": [],
   "source": [
    "from collections import Counter\n",
    "\n",
    "char_counter2 = Counter()\n",
    "\n",
    "for token in holy_grail2:\n",
    "    if token.pos_ == 'PROPN':\n",
    "        char_counter2[token.text] += 1"
   ]
  },
  {
   "cell_type": "code",
   "execution_count": 83,
   "metadata": {
    "colab": {
     "base_uri": "https://localhost:8080/"
    },
    "id": "ERH8zzWgMzI6",
    "outputId": "78be4acd-e536-48a4-cd20-61658ef5b2f3"
   },
   "outputs": [
    {
     "data": {
      "text/plain": [
       "[('ARTHUR', 223),\n",
       " ('HEAD KNIGHT', 122),\n",
       " ('LAUNCELOT', 76),\n",
       " ('GALAHAD', 68),\n",
       " ('FATHER', 63)]"
      ]
     },
     "execution_count": 83,
     "metadata": {},
     "output_type": "execute_result"
    }
   ],
   "source": [
    "char_counter2.most_common(5)"
   ]
  },
  {
   "cell_type": "markdown",
   "metadata": {
    "id": "BDL1Cl_wRpMB"
   },
   "source": [
    "### Visualize the most"
   ]
  },
  {
   "cell_type": "code",
   "execution_count": 84,
   "metadata": {
    "colab": {
     "base_uri": "https://localhost:8080/"
    },
    "id": "lH8gjzkYRtOp",
    "outputId": "33cbad3c-51d5-447b-cecc-45adee496d77"
   },
   "outputs": [
    {
     "data": {
      "text/plain": [
       "[('ARTHUR', 223)]"
      ]
     },
     "execution_count": 84,
     "metadata": {},
     "output_type": "execute_result"
    }
   ],
   "source": [
    "char_counter2.most_common(1)"
   ]
  },
  {
   "cell_type": "code",
   "execution_count": 85,
   "metadata": {
    "id": "6Ceu5EvnKQ5-"
   },
   "outputs": [],
   "source": [
    "names, _ = zip(*char_counter2.most_common(1))"
   ]
  },
  {
   "cell_type": "code",
   "execution_count": 86,
   "metadata": {
    "colab": {
     "base_uri": "https://localhost:8080/"
    },
    "id": "BBitn2kSyaxb",
    "outputId": "06bd2af2-1d26-41e0-820a-efc0b46ae30a"
   },
   "outputs": [
    {
     "name": "stdout",
     "output_type": "stream",
     "text": [
      "('ARTHUR',)\n"
     ]
    }
   ],
   "source": [
    "print(names)"
   ]
  },
  {
   "cell_type": "code",
   "execution_count": 87,
   "metadata": {
    "id": "IS94mXKWPh0t"
   },
   "outputs": [],
   "source": [
    "from collections import defaultdict\n",
    "\n",
    "import matplotlib.pyplot as plt"
   ]
  },
  {
   "cell_type": "code",
   "execution_count": 88,
   "metadata": {
    "id": "xAu-X9I1RHLt"
   },
   "outputs": [],
   "source": [
    "indexes = defaultdict(list)\n",
    "\n",
    "for token in holy_grail2:\n",
    "    if token.text in names:\n",
    "        indexes[token.text].append(token.i)"
   ]
  },
  {
   "cell_type": "code",
   "execution_count": 89,
   "metadata": {
    "colab": {
     "base_uri": "https://localhost:8080/"
    },
    "id": "uo2zLp-ixby-",
    "outputId": "ebb9dcd8-8f99-4265-e556-6202dfbf932a"
   },
   "outputs": [
    {
     "name": "stdout",
     "output_type": "stream",
     "text": [
      "defaultdict(<class 'list'>, {'ARTHUR': [13, 37, 83, 147, 162, 188, 225, 250, 271, 316, 343, 393, 454, 468, 530, 1255, 1266, 1293, 1314, 1341, 1373, 1412, 1500, 1536, 1550, 1652, 1682, 1701, 1740, 1766, 1788, 1810, 1842, 1862, 1884, 1983, 2015, 2055, 2083, 2116, 2308, 2399, 2412, 2442, 2469, 2476, 2490, 2501, 2521, 2543, 2562, 2593, 2604, 2636, 2652, 2683, 2708, 2725, 2744, 2763, 2788, 2802, 2824, 2855, 2883, 3899, 4150, 4168, 4203, 4219, 4393, 4440, 4465, 4663, 4746, 4801, 4838, 4878, 4986, 5012, 5052, 5130, 5146, 5183, 5216, 5270, 5358, 5448, 5497, 5534, 5583, 5620, 5799, 5855, 5889, 5920, 9040, 9086, 9104, 9140, 9180, 9205, 9281, 9309, 9367, 9396, 9444, 9478, 9504, 9526, 9536, 9577, 9608, 9623, 13099, 13138, 13167, 13210, 13241, 13257, 13273, 13294, 13320, 13327, 13345, 13362, 13377, 13387, 13413, 13475, 13525, 13543, 13589, 13681, 13720, 13847, 13865, 13909, 13940, 13976, 14094, 14125, 14217, 14252, 14283, 14587, 14639, 14662, 14679, 14702, 14740, 14792, 14849, 14892, 14951, 14971, 14987, 15014, 15036, 15058, 15148, 15251, 15280, 15310, 15326, 15345, 15357, 15367, 15384, 15396, 15417, 15553, 15606, 15684, 15701, 15734, 15775, 15797, 15815, 15855, 15890, 15912, 15927, 16008, 16031, 16269, 16290, 16306, 16330, 16366, 16414, 16468, 16517, 16551, 16594, 16695, 16746, 16896, 16911, 16937, 16963, 16982, 17003, 17038, 17049, 17114, 17148, 17177, 17484, 17504, 17528, 17570, 17611, 17630, 17661, 17748, 17871, 17931, 17973, 18030, 18095, 18112, 18145, 18185, 18226]})\n"
     ]
    }
   ],
   "source": [
    "print(indexes)"
   ]
  },
  {
   "cell_type": "code",
   "execution_count": 90,
   "metadata": {
    "colab": {
     "base_uri": "https://localhost:8080/",
     "height": 313
    },
    "id": "Ie9U4y2uRKa2",
    "outputId": "1470423d-f242-41da-a187-3e0279dd9cde"
   },
   "outputs": [
    {
     "data": {
      "text/plain": [
       "<matplotlib.legend.Legend at 0x7fcf221e4940>"
      ]
     },
     "execution_count": 90,
     "metadata": {},
     "output_type": "execute_result"
    },
    {
     "data": {
      "image/png": "[encoded data removed]",
      "text/plain": [
       "<Figure size 432x288 with 1 Axes>"
      ]
     },
     "metadata": {
      "needs_background": "light"
     },
     "output_type": "display_data"
    }
   ],
   "source": [
    "fig, axes = plt.subplots()\n",
    "\n",
    "axes.eventplot(indexes['ARTHUR'], label=names)\n",
    "axes.get_yaxis().set_visible(False)\n",
    "\n",
    "fig.legend()"
   ]
  },
  {
   "cell_type": "markdown",
   "metadata": {
    "id": "D0WqqmIiTHoY"
   },
   "source": [
    "### Visualize all"
   ]
  },
  {
   "cell_type": "code",
   "execution_count": 91,
   "metadata": {
    "colab": {
     "base_uri": "https://localhost:8080/"
    },
    "id": "oNCam-CtTlAW",
    "outputId": "eb920d55-16e3-4a31-a827-7b6086acd0e8"
   },
   "outputs": [
    {
     "data": {
      "text/plain": [
       "[('ARTHUR', 223),\n",
       " ('HEAD KNIGHT', 122),\n",
       " ('LAUNCELOT', 76),\n",
       " ('GALAHAD', 68),\n",
       " ('FATHER', 63)]"
      ]
     },
     "execution_count": 91,
     "metadata": {},
     "output_type": "execute_result"
    }
   ],
   "source": [
    "char_counter2.most_common(5)"
   ]
  },
  {
   "cell_type": "code",
   "execution_count": 92,
   "metadata": {
    "id": "Uv63xSimTlAb"
   },
   "outputs": [],
   "source": [
    "names, _ = zip(*char_counter2.most_common(5))"
   ]
  },
  {
   "cell_type": "code",
   "execution_count": 93,
   "metadata": {
    "colab": {
     "base_uri": "https://localhost:8080/"
    },
    "id": "CwwpqGVGl5iX",
    "outputId": "a9c263c9-9b26-459a-e275-b84c6e824fe2"
   },
   "outputs": [
    {
     "name": "stdout",
     "output_type": "stream",
     "text": [
      "('ARTHUR', 'HEAD KNIGHT', 'LAUNCELOT', 'GALAHAD', 'FATHER') (223, 122, 76, 68, 63)\n"
     ]
    }
   ],
   "source": [
    "print(names, _)"
   ]
  },
  {
   "cell_type": "code",
   "execution_count": 94,
   "metadata": {
    "id": "ekEirwPqTlAe"
   },
   "outputs": [],
   "source": [
    "from collections import defaultdict\n",
    "\n",
    "import matplotlib.pyplot as plt"
   ]
  },
  {
   "cell_type": "code",
   "execution_count": 95,
   "metadata": {
    "colab": {
     "base_uri": "https://localhost:8080/"
    },
    "id": "B_WuRbgYTlAg",
    "outputId": "a314ffa7-5d5d-4d29-b0aa-4e4e7d18dca7"
   },
   "outputs": [
    {
     "name": "stdout",
     "output_type": "stream",
     "text": [
      "13\n",
      "37\n",
      "83\n",
      "147\n",
      "162\n",
      "188\n",
      "225\n",
      "250\n",
      "271\n",
      "316\n",
      "343\n",
      "393\n",
      "454\n",
      "468\n",
      "530\n",
      "1255\n",
      "1266\n",
      "1293\n",
      "1314\n",
      "1341\n",
      "1373\n",
      "1412\n",
      "1500\n",
      "1536\n",
      "1550\n",
      "1652\n",
      "1682\n",
      "1701\n",
      "1740\n",
      "1766\n",
      "1788\n",
      "1810\n",
      "1842\n",
      "1862\n",
      "1884\n",
      "1983\n",
      "2015\n",
      "2055\n",
      "2083\n",
      "2116\n",
      "2186\n",
      "2202\n",
      "2208\n",
      "2226\n",
      "2232\n",
      "2249\n",
      "2258\n",
      "2261\n",
      "2273\n",
      "2285\n",
      "2288\n",
      "2298\n",
      "2308\n",
      "2392\n",
      "2399\n",
      "2405\n",
      "2412\n",
      "2434\n",
      "2442\n",
      "2460\n",
      "2469\n",
      "2476\n",
      "2479\n",
      "2490\n",
      "2494\n",
      "2501\n",
      "2512\n",
      "2521\n",
      "2534\n",
      "2543\n",
      "2554\n",
      "2562\n",
      "2569\n",
      "2593\n",
      "2597\n",
      "2604\n",
      "2624\n",
      "2636\n",
      "2642\n",
      "2652\n",
      "2673\n",
      "2683\n",
      "2701\n",
      "2708\n",
      "2714\n",
      "2725\n",
      "2734\n",
      "2744\n",
      "2763\n",
      "2767\n",
      "2775\n",
      "2788\n",
      "2796\n",
      "2802\n",
      "2817\n",
      "2824\n",
      "2833\n",
      "2855\n",
      "2859\n",
      "2867\n",
      "2883\n",
      "2891\n",
      "3899\n",
      "4150\n",
      "4168\n",
      "4203\n",
      "4219\n",
      "4393\n",
      "4429\n",
      "4440\n",
      "4446\n",
      "4451\n",
      "4465\n",
      "4663\n",
      "4746\n",
      "4801\n",
      "4838\n",
      "4878\n",
      "4953\n",
      "4966\n",
      "4986\n",
      "5012\n",
      "5052\n",
      "5130\n",
      "5135\n",
      "5146\n",
      "5183\n",
      "5216\n",
      "5251\n",
      "5270\n",
      "5350\n",
      "5358\n",
      "5411\n",
      "5448\n",
      "5497\n",
      "5534\n",
      "5583\n",
      "5608\n",
      "5620\n",
      "5799\n",
      "5855\n",
      "5889\n",
      "5920\n",
      "6090\n",
      "6098\n",
      "6521\n",
      "6535\n",
      "6542\n",
      "6554\n",
      "6565\n",
      "6574\n",
      "6587\n",
      "6601\n",
      "6627\n",
      "6639\n",
      "6651\n",
      "6657\n",
      "6667\n",
      "6683\n",
      "6692\n",
      "6699\n",
      "6718\n",
      "6734\n",
      "6748\n",
      "6778\n",
      "6784\n",
      "6793\n",
      "6820\n",
      "6828\n",
      "7153\n",
      "7213\n",
      "7256\n",
      "7274\n",
      "7380\n",
      "7401\n",
      "7428\n",
      "7461\n",
      "7500\n",
      "7619\n",
      "7669\n",
      "7691\n",
      "7732\n",
      "7751\n",
      "7771\n",
      "7801\n",
      "7825\n",
      "7850\n",
      "7926\n",
      "7946\n",
      "7965\n",
      "8001\n",
      "8057\n",
      "8138\n",
      "8407\n",
      "8419\n",
      "8425\n",
      "8432\n",
      "8437\n",
      "8442\n",
      "8447\n",
      "8452\n",
      "8469\n",
      "8477\n",
      "8489\n",
      "8502\n",
      "8511\n",
      "8523\n",
      "8568\n",
      "8580\n",
      "8629\n",
      "8640\n",
      "8711\n",
      "8729\n",
      "8739\n",
      "8753\n",
      "8769\n",
      "8779\n",
      "8800\n",
      "8818\n",
      "8833\n",
      "8843\n",
      "8852\n",
      "9040\n",
      "9086\n",
      "9104\n",
      "9140\n",
      "9180\n",
      "9205\n",
      "9254\n",
      "9255\n",
      "9281\n",
      "9288\n",
      "9289\n",
      "9309\n",
      "9324\n",
      "9325\n",
      "9338\n",
      "9339\n",
      "9367\n",
      "9381\n",
      "9382\n",
      "9396\n",
      "9418\n",
      "9419\n",
      "9444\n",
      "9458\n",
      "9459\n",
      "9478\n",
      "9489\n",
      "9490\n",
      "9504\n",
      "9526\n",
      "9536\n",
      "9555\n",
      "9556\n",
      "9577\n",
      "9599\n",
      "9600\n",
      "9608\n",
      "9614\n",
      "9615\n",
      "9623\n",
      "9628\n",
      "9629\n",
      "9874\n",
      "9897\n",
      "9941\n",
      "9967\n",
      "10114\n",
      "10137\n",
      "10200\n",
      "10211\n",
      "10246\n",
      "10317\n",
      "10395\n",
      "10430\n",
      "10474\n",
      "10501\n",
      "10528\n",
      "10548\n",
      "10572\n",
      "10593\n",
      "10610\n",
      "10639\n",
      "10665\n",
      "10718\n",
      "10746\n",
      "10774\n",
      "10788\n",
      "10818\n",
      "10839\n",
      "10858\n",
      "10925\n",
      "10953\n",
      "10975\n",
      "11017\n",
      "11047\n",
      "11077\n",
      "11097\n",
      "11146\n",
      "11262\n",
      "11293\n",
      "11318\n",
      "11364\n",
      "11382\n",
      "11465\n",
      "11481\n",
      "11503\n",
      "11520\n",
      "11573\n",
      "11611\n",
      "11635\n",
      "11670\n",
      "11687\n",
      "11718\n",
      "11726\n",
      "11750\n",
      "11762\n",
      "11772\n",
      "11785\n",
      "11794\n",
      "11835\n",
      "11846\n",
      "11868\n",
      "11887\n",
      "11906\n",
      "11918\n",
      "11937\n",
      "11950\n",
      "11972\n",
      "12003\n",
      "12025\n",
      "12040\n",
      "12057\n",
      "12073\n",
      "12089\n",
      "12113\n",
      "12140\n",
      "12167\n",
      "12196\n",
      "12236\n",
      "12244\n",
      "12258\n",
      "12291\n",
      "12347\n",
      "12389\n",
      "12408\n",
      "12487\n",
      "12538\n",
      "12559\n",
      "12590\n",
      "12606\n",
      "12664\n",
      "12710\n",
      "12737\n",
      "12756\n",
      "12795\n",
      "12814\n",
      "12833\n",
      "12852\n",
      "12940\n",
      "12970\n",
      "13005\n",
      "13024\n",
      "13048\n",
      "13099\n",
      "13138\n",
      "13167\n",
      "13210\n",
      "13241\n",
      "13257\n",
      "13273\n",
      "13294\n",
      "13320\n",
      "13327\n",
      "13345\n",
      "13362\n",
      "13377\n",
      "13387\n",
      "13413\n",
      "13475\n",
      "13525\n",
      "13543\n",
      "13564\n",
      "13565\n",
      "13589\n",
      "13596\n",
      "13597\n",
      "13625\n",
      "13626\n",
      "13668\n",
      "13669\n",
      "13681\n",
      "13702\n",
      "13703\n",
      "13720\n",
      "13732\n",
      "13733\n",
      "13812\n",
      "13813\n",
      "13847\n",
      "13857\n",
      "13858\n",
      "13865\n",
      "13893\n",
      "13894\n",
      "13909\n",
      "13915\n",
      "13916\n",
      "13940\n",
      "13967\n",
      "13968\n",
      "13976\n",
      "14000\n",
      "14001\n",
      "14094\n",
      "14114\n",
      "14115\n",
      "14125\n",
      "14173\n",
      "14174\n",
      "14217\n",
      "14236\n",
      "14237\n",
      "14252\n",
      "14271\n",
      "14272\n",
      "14283\n",
      "14288\n",
      "14289\n",
      "14587\n",
      "14639\n",
      "14662\n",
      "14679\n",
      "14702\n",
      "14740\n",
      "14792\n",
      "14814\n",
      "14849\n",
      "14879\n",
      "14892\n",
      "14951\n",
      "14971\n",
      "14987\n",
      "14992\n",
      "15014\n",
      "15028\n",
      "15036\n",
      "15058\n",
      "15148\n",
      "15251\n",
      "15271\n",
      "15280\n",
      "15310\n",
      "15320\n",
      "15326\n",
      "15345\n",
      "15357\n",
      "15367\n",
      "15384\n",
      "15396\n",
      "15417\n",
      "15481\n",
      "15499\n",
      "15553\n",
      "15606\n",
      "15684\n",
      "15701\n",
      "15734\n",
      "15775\n",
      "15787\n",
      "15792\n",
      "15797\n",
      "15808\n",
      "15815\n",
      "15855\n",
      "15869\n",
      "15890\n",
      "15896\n",
      "15904\n",
      "15912\n",
      "15917\n",
      "15927\n",
      "16008\n",
      "16021\n",
      "16031\n",
      "16269\n",
      "16283\n",
      "16290\n",
      "16306\n",
      "16314\n",
      "16322\n",
      "16330\n",
      "16349\n",
      "16360\n",
      "16366\n",
      "16414\n",
      "16449\n",
      "16468\n",
      "16509\n",
      "16517\n",
      "16546\n",
      "16551\n",
      "16567\n",
      "16582\n",
      "16594\n",
      "16604\n",
      "16625\n",
      "16672\n",
      "16695\n",
      "16700\n",
      "16746\n",
      "16889\n",
      "16896\n",
      "16911\n",
      "16937\n",
      "16957\n",
      "16963\n",
      "16976\n",
      "16982\n",
      "17003\n",
      "17027\n",
      "17038\n",
      "17049\n",
      "17079\n",
      "17114\n",
      "17142\n",
      "17148\n",
      "17168\n",
      "17177\n",
      "17220\n",
      "17244\n",
      "17263\n",
      "17281\n",
      "17296\n",
      "17425\n",
      "17441\n",
      "17458\n",
      "17484\n",
      "17504\n",
      "17528\n",
      "17570\n",
      "17611\n",
      "17630\n",
      "17661\n",
      "17748\n",
      "17871\n",
      "17931\n",
      "17973\n",
      "18030\n",
      "18095\n",
      "18112\n",
      "18145\n",
      "18185\n",
      "18226\n"
     ]
    }
   ],
   "source": [
    "indexes = defaultdict(list)\n",
    "\n",
    "for token in holy_grail2:\n",
    "    if token.text in names:\n",
    "        print(token.i)\n",
    "        indexes[token.text].append(token.i)"
   ]
  },
  {
   "cell_type": "code",
   "execution_count": 96,
   "metadata": {
    "colab": {
     "base_uri": "https://localhost:8080/"
    },
    "id": "jLVryFL4miHO",
    "outputId": "259e42fd-5111-4d87-f2fe-935558d622f9"
   },
   "outputs": [
    {
     "name": "stdout",
     "output_type": "stream",
     "text": [
      "defaultdict(<class 'list'>, {'ARTHUR': [13, 37, 83, 147, 162, 188, 225, 250, 271, 316, 343, 393, 454, 468, 530, 1255, 1266, 1293, 1314, 1341, 1373, 1412, 1500, 1536, 1550, 1652, 1682, 1701, 1740, 1766, 1788, 1810, 1842, 1862, 1884, 1983, 2015, 2055, 2083, 2116, 2308, 2399, 2412, 2442, 2469, 2476, 2490, 2501, 2521, 2543, 2562, 2593, 2604, 2636, 2652, 2683, 2708, 2725, 2744, 2763, 2788, 2802, 2824, 2855, 2883, 3899, 4150, 4168, 4203, 4219, 4393, 4440, 4465, 4663, 4746, 4801, 4838, 4878, 4986, 5012, 5052, 5130, 5146, 5183, 5216, 5270, 5358, 5448, 5497, 5534, 5583, 5620, 5799, 5855, 5889, 5920, 9040, 9086, 9104, 9140, 9180, 9205, 9281, 9309, 9367, 9396, 9444, 9478, 9504, 9526, 9536, 9577, 9608, 9623, 13099, 13138, 13167, 13210, 13241, 13257, 13273, 13294, 13320, 13327, 13345, 13362, 13377, 13387, 13413, 13475, 13525, 13543, 13589, 13681, 13720, 13847, 13865, 13909, 13940, 13976, 14094, 14125, 14217, 14252, 14283, 14587, 14639, 14662, 14679, 14702, 14740, 14792, 14849, 14892, 14951, 14971, 14987, 15014, 15036, 15058, 15148, 15251, 15280, 15310, 15326, 15345, 15357, 15367, 15384, 15396, 15417, 15553, 15606, 15684, 15701, 15734, 15775, 15797, 15815, 15855, 15890, 15912, 15927, 16008, 16031, 16269, 16290, 16306, 16330, 16366, 16414, 16468, 16517, 16551, 16594, 16695, 16746, 16896, 16911, 16937, 16963, 16982, 17003, 17038, 17049, 17114, 17148, 17177, 17484, 17504, 17528, 17570, 17611, 17630, 17661, 17748, 17871, 17931, 17973, 18030, 18095, 18112, 18145, 18185, 18226], 'HEAD KNIGHT': [2186, 2202, 2208, 2226, 2232, 2249, 2258, 2261, 2273, 2285, 2288, 2298, 2392, 2405, 2434, 2460, 2479, 2494, 2512, 2534, 2554, 2569, 2597, 2624, 2642, 2673, 2701, 2714, 2734, 2767, 2775, 2796, 2817, 2833, 2859, 2867, 2891, 6090, 6098, 6521, 6535, 6542, 6554, 6565, 6574, 6587, 6601, 6627, 6639, 6651, 6657, 6667, 6683, 6692, 6699, 6718, 6734, 6748, 6778, 6784, 6793, 6820, 6828, 8138, 9254, 9255, 9288, 9289, 9324, 9325, 9338, 9339, 9381, 9382, 9418, 9419, 9458, 9459, 9489, 9490, 9555, 9556, 9599, 9600, 9614, 9615, 9628, 9629, 13564, 13565, 13596, 13597, 13625, 13626, 13668, 13669, 13702, 13703, 13732, 13733, 13812, 13813, 13857, 13858, 13893, 13894, 13915, 13916, 13967, 13968, 14000, 14001, 14114, 14115, 14173, 14174, 14236, 14237, 14271, 14272, 14288, 14289], 'LAUNCELOT': [4429, 4451, 4953, 5608, 8419, 8432, 8442, 8452, 8469, 8489, 8511, 8568, 8629, 8711, 8739, 8769, 8800, 8833, 8852, 11077, 11097, 11146, 11262, 11293, 11318, 11364, 11382, 11465, 11481, 11503, 11520, 11573, 11611, 11635, 11670, 11726, 11750, 11772, 11794, 11846, 11906, 11937, 11972, 12025, 12057, 12089, 12113, 12140, 12244, 12291, 12389, 12664, 12940, 12970, 13005, 13024, 13048, 15787, 15904, 15917, 16021, 16314, 16360, 16449, 16546, 16582, 16604, 16625, 16672, 17079, 17168, 17220, 17244, 17263, 17281, 17296], 'GALAHAD': [4446, 4966, 5135, 5251, 5350, 5411, 7153, 7213, 7256, 7274, 7380, 7401, 7428, 7461, 7500, 7619, 7669, 7691, 7732, 7751, 7771, 7801, 7825, 7850, 7926, 7946, 7965, 8001, 8057, 8407, 8425, 8437, 8447, 8477, 8502, 8523, 8580, 8640, 8729, 8753, 8779, 8818, 8843, 14814, 14879, 14992, 15028, 15271, 15320, 15481, 15499, 15792, 15808, 15869, 15896, 16283, 16322, 16349, 16509, 16567, 16700, 16889, 16957, 16976, 17027, 17142, 17425, 17441, 17458], 'FATHER': [9874, 9897, 9941, 9967, 10114, 10137, 10200, 10211, 10246, 10317, 10395, 10430, 10474, 10501, 10528, 10548, 10572, 10593, 10610, 10639, 10665, 10718, 10746, 10774, 10788, 10818, 10839, 10858, 10925, 10953, 10975, 11017, 11047, 11687, 11718, 11762, 11785, 11835, 11868, 11887, 11918, 11950, 12003, 12040, 12073, 12167, 12196, 12236, 12258, 12347, 12408, 12487, 12538, 12559, 12590, 12606, 12710, 12737, 12756, 12795, 12814, 12833, 12852]})\n"
     ]
    }
   ],
   "source": [
    "print(indexes)"
   ]
  },
  {
   "cell_type": "code",
   "execution_count": 97,
   "metadata": {
    "colab": {
     "base_uri": "https://localhost:8080/",
     "height": 403
    },
    "id": "yKL5yFmKTlAj",
    "outputId": "a1b951ab-4063-4f24-b564-f45ba6a105a8"
   },
   "outputs": [
    {
     "name": "stdout",
     "output_type": "stream",
     "text": [
      "0\n",
      "1\n",
      "2\n",
      "3\n",
      "4\n"
     ]
    },
    {
     "data": {
      "text/plain": [
       "<matplotlib.legend.Legend at 0x7fcf2232b4f0>"
      ]
     },
     "execution_count": 97,
     "metadata": {},
     "output_type": "execute_result"
    },
    {
     "data": {
      "image/png": "[encoded data removed]",
      "text/plain": [
       "<Figure size 432x288 with 5 Axes>"
      ]
     },
     "metadata": {
      "needs_background": "light"
     },
     "output_type": "display_data"
    }
   ],
   "source": [
    "fig, axes = plt.subplots(5, sharex=True)\n",
    "\n",
    "for index, name in enumerate(names):\n",
    "    print(index)\n",
    "    axes[index].eventplot(indexes[name], label=name, color=\"C{}\".format(index))\n",
    "    axes[index].get_yaxis().set_visible(False)\n",
    "\n",
    "fig.legend()"
   ]
  },
  {
   "cell_type": "markdown",
   "metadata": {
    "id": "WJTnDhDzUnAx"
   },
   "source": [
    "## Your turn:\n",
    "\n",
    "* Try to plot the NOUNS and clean the Doc whenever necessary adding special cases\n",
    "\n",
    "* Try the same exercise with [this file in the GitHub repo](https://github.com/vfp1/bts-dsf-2020/blob/raw/data/pride_and_prejudice.txt)"
   ]
  },
  {
   "cell_type": "code",
   "execution_count": null,
   "metadata": {
    "id": "Yi1SIWOoU81W"
   },
   "outputs": [],
   "source": []
  }
 ],
 "metadata": {
  "accelerator": "GPU",
  "colab": {
   "collapsed_sections": [],
   "name": "07_Text_processing.ipynb",
   "provenance": [],
   "toc_visible": true
  },
  "kernelspec": {
   "display_name": "Python 3",
   "language": "python",
   "name": "python3"
  },
  "language_info": {
   "codemirror_mode": {
    "name": "ipython",
    "version": 3
   },
   "file_extension": ".py",
   "mimetype": "text/x-python",
   "name": "python",
   "nbconvert_exporter": "python",
   "pygments_lexer": "ipython3",
   "version": "3.8.5"
  }
 },
 "nbformat": 4,
 "nbformat_minor": 1
}
